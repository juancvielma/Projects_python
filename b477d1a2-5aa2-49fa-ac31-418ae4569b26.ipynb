{
 "cells": [
  {
   "cell_type": "markdown",
   "id": "8911b976",
   "metadata": {},
   "source": [
    "<div class=\"alert alert-block alert-danger\">\n",
    "<b>Comentario del revisor</b> <a class=\"tocSkip\"></a>\n",
    "\n",
    "Hola! Solamente verifica este comentario. Para el comentario que te coloco anteriormente puedes guiarte del siguiente ejemplo:\n",
    "    \n",
    "    products[(~products['product_name_upper'].isna()) & products['product_name_upper'].duplicated()]\n",
    "</div>"
   ]
  },
  {
   "cell_type": "markdown",
   "id": "22ca336b",
   "metadata": {},
   "source": [
    "\n",
    "¡Hola!\n",
    "\n",
    "Mi nombre es Tonatiuh Cruz. Me complace revisar tu proyecto hoy.\n",
    "\n",
    "Al identificar cualquier error inicialmente, simplemente los destacaré. Te animo a localizar y abordar los problemas de forma independiente como parte de tu preparación para un rol como data-scientist. En un entorno profesional, tu líder de equipo seguiría un enfoque similar. Si encuentras la tarea desafiante, proporcionaré una pista más específica en la próxima iteración.\n",
    "\n",
    "Encontrarás mis comentarios a continuación - **por favor no los muevas, modifiques o elimines**.\n",
    "\n",
    "Puedes encontrar mis comentarios en cajas verdes, amarillas o rojas como esta:\n",
    "\n",
    "<div class=\"alert alert-block alert-success\">\n",
    "<b>Comentario del revisor</b> <a class=\"tocSkip\"></a>\n",
    "\n",
    "Éxito. Todo está hecho correctamente.\n",
    "</div>\n",
    "\n",
    "<div class=\"alert alert-block alert-warning\">\n",
    "<b>Comentario del revisor</b> <a class=\"tocSkip\"></a>\n",
    "\n",
    "Observaciones. Algunas recomendaciones.\n",
    "</div>\n",
    "\n",
    "<div class=\"alert alert-block alert-danger\">\n",
    "<b>Comentario del revisor</b> <a class=\"tocSkip\"></a>\n",
    "\n",
    "Necesita corrección. El bloque requiere algunas correcciones. El trabajo no puede ser aceptado con comentarios en rojo.\n",
    "</div>\n",
    "\n",
    "Puedes responderme utilizando esto:\n",
    "\n",
    "<div class=\"alert alert-block alert-info\">\n",
    "<b>Respuesta del estudiante.</b> <a class=\"tocSkip\"></a>\n",
    "</div>"
   ]
  },
  {
   "cell_type": "markdown",
   "id": "3Xg_RQfnafXz",
   "metadata": {
    "id": "3Xg_RQfnafXz"
   },
   "source": [
    "# ¡Llena ese carrito!"
   ]
  },
  {
   "cell_type": "markdown",
   "id": "mhIvmmkW414q",
   "metadata": {
    "id": "mhIvmmkW414q"
   },
   "source": [
    "# Introducción\n",
    "\n",
    "Instacart es una plataforma de entregas de comestibles donde la clientela puede registrar un pedido y hacer que se lo entreguen, similar a Uber Eats y Door Dash.\n",
    "El conjunto de datos que te hemos proporcionado tiene modificaciones del original. Redujimos el tamaño del conjunto para que tus cálculos se hicieran más rápido e introdujimos valores ausentes y duplicados. Tuvimos cuidado de conservar las distribuciones de los datos originales cuando hicimos los cambios.\n",
    "\n",
    "Debes completar tres pasos. Para cada uno de ellos, escribe una breve introducción que refleje con claridad cómo pretendes resolver cada paso, y escribe párrafos explicatorios que justifiquen tus decisiones al tiempo que avanzas en tu solución.  También escribe una conclusión que resuma tus hallazgos y elecciones.\n"
   ]
  },
  {
   "cell_type": "markdown",
   "id": "3MbyzpOQZ5Or",
   "metadata": {
    "id": "3MbyzpOQZ5Or"
   },
   "source": [
    "## Diccionario de datos\n",
    "\n",
    "Hay cinco tablas en el conjunto de datos, y tendrás que usarlas todas para hacer el preprocesamiento de datos y el análisis exploratorio de datos. A continuación se muestra un diccionario de datos que enumera las columnas de cada tabla y describe los datos que contienen.\n",
    "\n",
    "- `instacart_orders.csv`: cada fila corresponde a un pedido en la aplicación Instacart.\n",
    "    - `'order_id'`: número de ID que identifica de manera única cada pedido.\n",
    "    - `'user_id'`: número de ID que identifica de manera única la cuenta de cada cliente.\n",
    "    - `'order_number'`: el número de veces que este cliente ha hecho un pedido.\n",
    "    - `'order_dow'`: día de la semana en que se hizo el pedido (0 si es domingo).\n",
    "    - `'order_hour_of_day'`: hora del día en que se hizo el pedido.\n",
    "    - `'days_since_prior_order'`: número de días transcurridos desde que este cliente hizo su pedido anterior.\n",
    "- `products.csv`: cada fila corresponde a un producto único que pueden comprar los clientes.\n",
    "    - `'product_id'`: número ID que identifica de manera única cada producto.\n",
    "    - `'product_name'`: nombre del producto.\n",
    "    - `'aisle_id'`: número ID que identifica de manera única cada categoría de pasillo de víveres.\n",
    "    - `'department_id'`: número ID que identifica de manera única cada departamento de víveres.\n",
    "- `order_products.csv`: cada fila corresponde a un artículo pedido en un pedido.\n",
    "    - `'order_id'`: número de ID que identifica de manera única cada pedido.\n",
    "    - `'product_id'`: número ID que identifica de manera única cada producto.\n",
    "    - `'add_to_cart_order'`: el orden secuencial en el que se añadió cada artículo en el carrito.\n",
    "    - `'reordered'`: 0 si el cliente nunca ha pedido este producto antes, 1 si lo ha pedido.\n",
    "- `aisles.csv`\n",
    "    - `'aisle_id'`: número ID que identifica de manera única cada categoría de pasillo de víveres.\n",
    "    - `'aisle'`: nombre del pasillo.\n",
    "- `departments.csv`\n",
    "    - `'department_id'`: número ID que identifica de manera única cada departamento de víveres.\n",
    "    - `'department'`: nombre del departamento."
   ]
  },
  {
   "cell_type": "markdown",
   "id": "2cee0c3f",
   "metadata": {},
   "source": [
    "<div class=\"alert alert-block alert-success\">\n",
    "<b>Comentario del revisor</b> <a class=\"tocSkip\"></a>\n",
    "\n",
    "¡Hola! Excelente trabajo desarrollando la introducción y el diccionario de datos. Esto es crucial para cualquier proyecto, ya que establece una guía clara sobre los pasos a seguir. Tener estos elementos bien definidos desde el principio nos permite trabajar de manera más organizada y eficiente. En un futuro lo podrías complementar con una tabla de contenido.\n",
    "</div>"
   ]
  },
  {
   "cell_type": "markdown",
   "id": "n3Ha_cNSZ8lK",
   "metadata": {
    "id": "n3Ha_cNSZ8lK"
   },
   "source": [
    "# Paso 1. Descripción de los datos\n",
    "\n",
    "Lee los archivos de datos (`/datasets/instacart_orders.csv`, `/datasets/products.csv`, `/datasets/aisles.csv`, `/datasets/departments.csv` y `/datasets/order_products.csv`) con `pd.read_csv()` usando los parámetros adecuados para leer los datos correctamente. Verifica la información para cada DataFrame creado.\n"
   ]
  },
  {
   "cell_type": "markdown",
   "id": "OmlQPLlyaAfR",
   "metadata": {
    "id": "OmlQPLlyaAfR"
   },
   "source": [
    "## Plan de solución\n",
    "\n",
    "Escribe aquí tu plan de solución para el Paso 1. Descripción de los datos."
   ]
  },
  {
   "cell_type": "code",
   "execution_count": 167,
   "id": "fbf1adab",
   "metadata": {
    "id": "fbf1adab"
   },
   "outputs": [
    {
     "name": "stdout",
     "output_type": "stream",
     "text": [
      "<class 'pandas.core.frame.DataFrame'>\n",
      "RangeIndex: 478967 entries, 0 to 478966\n",
      "Data columns (total 6 columns):\n",
      " #   Column                  Non-Null Count   Dtype  \n",
      "---  ------                  --------------   -----  \n",
      " 0   order_id                478967 non-null  int64  \n",
      " 1   user_id                 478967 non-null  int64  \n",
      " 2   order_number            478967 non-null  int64  \n",
      " 3   order_dow               478967 non-null  int64  \n",
      " 4   order_hour_of_day       478967 non-null  int64  \n",
      " 5   days_since_prior_order  450148 non-null  float64\n",
      "dtypes: float64(1), int64(5)\n",
      "memory usage: 21.9 MB\n",
      "None\n",
      "   order_id  user_id  order_number  order_dow  order_hour_of_day  \\\n",
      "0   1515936   183418            11          6                 13   \n",
      "1   1690866   163593             5          5                 12   \n",
      "2   1454967    39980             4          5                 19   \n",
      "3   1768857    82516            56          0                 20   \n",
      "4   3007858   196724             2          4                 12   \n",
      "\n",
      "   days_since_prior_order  \n",
      "0                    30.0  \n",
      "1                     9.0  \n",
      "2                     2.0  \n",
      "3                    10.0  \n",
      "4                    17.0  \n",
      "           order_id        user_id   order_number      order_dow  \\\n",
      "count  4.789670e+05  478967.000000  478967.000000  478967.000000   \n",
      "mean   1.709947e+06  102966.537475      17.157808       2.775058   \n",
      "std    9.869480e+05   59525.328991      17.704688       2.045869   \n",
      "min    4.000000e+00       2.000000       1.000000       0.000000   \n",
      "25%    8.564685e+05   51414.000000       5.000000       1.000000   \n",
      "50%    1.709522e+06  102633.000000      11.000000       3.000000   \n",
      "75%    2.562990e+06  154419.000000      23.000000       5.000000   \n",
      "max    3.421079e+06  206209.000000     100.000000       6.000000   \n",
      "\n",
      "       order_hour_of_day  days_since_prior_order  \n",
      "count      478967.000000           450148.000000  \n",
      "mean           13.446676               11.101751  \n",
      "std             4.224986                9.189975  \n",
      "min             0.000000                0.000000  \n",
      "25%            10.000000                4.000000  \n",
      "50%            13.000000                7.000000  \n",
      "75%            16.000000               15.000000  \n",
      "max            23.000000               30.000000  \n"
     ]
    }
   ],
   "source": [
    "import pandas as pd\n",
    "orders = pd.read_csv('/datasets/instacart_orders.csv',delimiter=';')\n",
    "print(orders.info())\n",
    "print(orders.head())\n",
    "print(orders.describe())"
   ]
  },
  {
   "cell_type": "code",
   "execution_count": 168,
   "id": "ad36396d",
   "metadata": {
    "id": "ad36396d"
   },
   "outputs": [
    {
     "name": "stdout",
     "output_type": "stream",
     "text": [
      "<class 'pandas.core.frame.DataFrame'>\n",
      "RangeIndex: 49694 entries, 0 to 49693\n",
      "Data columns (total 4 columns):\n",
      " #   Column         Non-Null Count  Dtype \n",
      "---  ------         --------------  ----- \n",
      " 0   product_id     49694 non-null  int64 \n",
      " 1   product_name   48436 non-null  object\n",
      " 2   aisle_id       49694 non-null  int64 \n",
      " 3   department_id  49694 non-null  int64 \n",
      "dtypes: int64(3), object(1)\n",
      "memory usage: 1.5+ MB\n",
      "None\n",
      "   product_id                                       product_name  aisle_id  \\\n",
      "0           1                         Chocolate Sandwich Cookies        61   \n",
      "1           2                                   All-Seasons Salt       104   \n",
      "2           3               Robust Golden Unsweetened Oolong Tea        94   \n",
      "3           4  Smart Ones Classic Favorites Mini Rigatoni Wit...        38   \n",
      "4           5                          Green Chile Anytime Sauce         5   \n",
      "\n",
      "   department_id  \n",
      "0             19  \n",
      "1             13  \n",
      "2              7  \n",
      "3              1  \n",
      "4             13  \n",
      "         product_id      aisle_id  department_id\n",
      "count  49694.000000  49694.000000   49694.000000\n",
      "mean   24847.500000     67.773192      11.728478\n",
      "std    14345.566475     38.317265       5.850314\n",
      "min        1.000000      1.000000       1.000000\n",
      "25%    12424.250000     35.000000       7.000000\n",
      "50%    24847.500000     69.000000      13.000000\n",
      "75%    37270.750000    100.000000      17.000000\n",
      "max    49694.000000    134.000000      21.000000\n"
     ]
    }
   ],
   "source": [
    "import pandas as pd\n",
    "products = pd.read_csv('/datasets/products.csv', delimiter=';')\n",
    "print(products.info())\n",
    "print(products.head())\n",
    "print(products.describe())"
   ]
  },
  {
   "cell_type": "code",
   "execution_count": 169,
   "id": "ad6a1efa",
   "metadata": {
    "id": "ad6a1efa"
   },
   "outputs": [
    {
     "name": "stdout",
     "output_type": "stream",
     "text": [
      "<class 'pandas.core.frame.DataFrame'>\n",
      "RangeIndex: 134 entries, 0 to 133\n",
      "Data columns (total 2 columns):\n",
      " #   Column    Non-Null Count  Dtype \n",
      "---  ------    --------------  ----- \n",
      " 0   aisle_id  134 non-null    int64 \n",
      " 1   aisle     134 non-null    object\n",
      "dtypes: int64(1), object(1)\n",
      "memory usage: 2.2+ KB\n",
      "None\n",
      "   aisle_id                       aisle\n",
      "0         1       prepared soups salads\n",
      "1         2           specialty cheeses\n",
      "2         3         energy granola bars\n",
      "3         4               instant foods\n",
      "4         5  marinades meat preparation\n",
      "         aisle_id\n",
      "count  134.000000\n",
      "mean    67.500000\n",
      "std     38.826537\n",
      "min      1.000000\n",
      "25%     34.250000\n",
      "50%     67.500000\n",
      "75%    100.750000\n",
      "max    134.000000\n"
     ]
    }
   ],
   "source": [
    "import pandas as pd\n",
    "aisles = pd.read_csv('/datasets/aisles.csv', delimiter=';')\n",
    "print(aisles.info())\n",
    "print(aisles.head())\n",
    "print(aisles.describe())"
   ]
  },
  {
   "cell_type": "code",
   "execution_count": 170,
   "id": "5130e05e",
   "metadata": {
    "id": "5130e05e"
   },
   "outputs": [
    {
     "name": "stdout",
     "output_type": "stream",
     "text": [
      "<class 'pandas.core.frame.DataFrame'>\n",
      "RangeIndex: 21 entries, 0 to 20\n",
      "Data columns (total 2 columns):\n",
      " #   Column         Non-Null Count  Dtype \n",
      "---  ------         --------------  ----- \n",
      " 0   department_id  21 non-null     int64 \n",
      " 1   department     21 non-null     object\n",
      "dtypes: int64(1), object(1)\n",
      "memory usage: 464.0+ bytes\n",
      "None\n",
      "   department_id department\n",
      "0              1     frozen\n",
      "1              2      other\n",
      "2              3     bakery\n",
      "3              4    produce\n",
      "4              5    alcohol\n",
      "       department_id\n",
      "count      21.000000\n",
      "mean       11.000000\n",
      "std         6.204837\n",
      "min         1.000000\n",
      "25%         6.000000\n",
      "50%        11.000000\n",
      "75%        16.000000\n",
      "max        21.000000\n"
     ]
    }
   ],
   "source": [
    "import pandas as pd\n",
    "departments = pd.read_csv('/datasets/departments.csv', delimiter=';')\n",
    "print(departments.info())\n",
    "print(departments.head())\n",
    "print(departments.describe())"
   ]
  },
  {
   "cell_type": "code",
   "execution_count": 171,
   "id": "d8370c05",
   "metadata": {
    "id": "d8370c05"
   },
   "outputs": [
    {
     "name": "stdout",
     "output_type": "stream",
     "text": [
      "<class 'pandas.core.frame.DataFrame'>\n",
      "RangeIndex: 4545007 entries, 0 to 4545006\n",
      "Data columns (total 4 columns):\n",
      " #   Column             Dtype  \n",
      "---  ------             -----  \n",
      " 0   order_id           int64  \n",
      " 1   product_id         int64  \n",
      " 2   add_to_cart_order  float64\n",
      " 3   reordered          int64  \n",
      "dtypes: float64(1), int64(3)\n",
      "memory usage: 138.7 MB\n",
      "None\n",
      "   order_id  product_id  add_to_cart_order  reordered\n",
      "0   2141543       11440               17.0          0\n",
      "1    567889        1560                1.0          1\n",
      "2   2261212       26683                1.0          1\n",
      "3    491251        8670               35.0          1\n",
      "4   2571142        1940                5.0          1\n",
      "           order_id    product_id  add_to_cart_order     reordered\n",
      "count  4.545007e+06  4.545007e+06       4.544171e+06  4.545007e+06\n",
      "mean   1.711166e+06  2.558084e+04       8.351669e+00  5.905025e-01\n",
      "std    9.850955e+05  1.409552e+04       7.080368e+00  4.917411e-01\n",
      "min    4.000000e+00  1.000000e+00       1.000000e+00  0.000000e+00\n",
      "25%    8.608170e+05  1.353500e+04       3.000000e+00  0.000000e+00\n",
      "50%    1.711530e+06  2.527200e+04       6.000000e+00  1.000000e+00\n",
      "75%    2.561311e+06  3.793500e+04       1.100000e+01  1.000000e+00\n",
      "max    3.421079e+06  4.969400e+04       6.400000e+01  1.000000e+00\n"
     ]
    }
   ],
   "source": [
    "import pandas as pd\n",
    "order_products = pd.read_csv('/datasets/order_products.csv', delimiter=';')\n",
    "print(order_products.info())\n",
    "\n",
    "print(order_products.head())\n",
    "print(order_products.describe())"
   ]
  },
  {
   "cell_type": "markdown",
   "id": "dadecf0f",
   "metadata": {
    "id": "59e2090f"
   },
   "source": [
    "\n",
    "<div class=\"alert alert-block alert-success\">\n",
    "    <b>Comentario del revisor:</b> <a class=\"tocSkip\"></a>\n",
    "    \n",
    "Realizaste un excelente trabajo presentando la información de la base de datos.\n",
    "</div>"
   ]
  },
  {
   "cell_type": "code",
   "execution_count": null,
   "id": "f9526120",
   "metadata": {
    "id": "6fc81694"
   },
   "outputs": [],
   "source": []
  },
  {
   "cell_type": "markdown",
   "id": "d06af182",
   "metadata": {
    "id": "t75BD19oaR5f"
   },
   "source": [
    "## Conclusiones\n",
    "\n",
    "Puedo concluir que cada dataframe contiene diferentes tipos de datos, algunas columnas entre los dataframes coinciden y eso es importante para futoros merge de 2 dataframes."
   ]
  },
  {
   "cell_type": "markdown",
   "id": "8RJHqxVmaVsF",
   "metadata": {
    "id": "8RJHqxVmaVsF"
   },
   "source": [
    "# Paso 2. Preprocesamiento de los datos\n",
    "\n",
    "Preprocesa los datos de la siguiente manera:\n",
    "\n",
    "- Verifica y corrige los tipos de datos (por ejemplo, asegúrate de que las columnas de ID sean números enteros).\n",
    "- Identifica y completa los valores ausentes.\n",
    "- Identifica y elimina los valores duplicados.\n",
    "\n",
    "Asegúrate de explicar qué tipos de valores ausentes y duplicados encontraste, cómo los completaste o eliminaste y por qué usaste esos métodos. ¿Por qué crees que estos valores ausentes y duplicados pueden haber estado presentes en el conjunto de datos?"
   ]
  },
  {
   "cell_type": "markdown",
   "id": "p6poABZQaZYb",
   "metadata": {
    "id": "p6poABZQaZYb"
   },
   "source": [
    "## Plan de solución\n",
    "\n",
    "Escribe aquí tu plan para el Paso 2. Preprocesamiento de los datos."
   ]
  },
  {
   "cell_type": "markdown",
   "id": "07357848-dc64-4156-9cc3-01ff4365226d",
   "metadata": {
    "id": "07357848-dc64-4156-9cc3-01ff4365226d"
   },
   "source": [
    "## Encuentra y elimina los valores duplicados (y describe cómo tomaste tus decisiones)."
   ]
  },
  {
   "cell_type": "markdown",
   "id": "f179f0a9",
   "metadata": {
    "id": "f179f0a9"
   },
   "source": [
    "### `instacart_orders` data frame"
   ]
  },
  {
   "cell_type": "code",
   "execution_count": 172,
   "id": "b99297a5-405a-463d-8535-9adc3da4ad74",
   "metadata": {
    "id": "b99297a5-405a-463d-8535-9adc3da4ad74"
   },
   "outputs": [
    {
     "name": "stdout",
     "output_type": "stream",
     "text": [
      "0         False\n",
      "1         False\n",
      "2         False\n",
      "3         False\n",
      "4         False\n",
      "          ...  \n",
      "478962    False\n",
      "478963    False\n",
      "478964    False\n",
      "478965    False\n",
      "478966    False\n",
      "Length: 478967, dtype: bool\n",
      "15\n",
      "        order_id  user_id  order_number  order_dow  order_hour_of_day  \\\n",
      "145574    794638    50898            24          3                  2   \n",
      "223105   2160484   107525            16          3                  2   \n",
      "230807   1918001   188546            14          3                  2   \n",
      "266232   1782114   106752             1          3                  2   \n",
      "273805   1112182   202304            84          3                  2   \n",
      "284038   2845099    31189            11          3                  2   \n",
      "311713   1021560    53767             3          3                  2   \n",
      "321100    408114    68324             4          3                  2   \n",
      "323900   1919531   191501            32          3                  2   \n",
      "345917   2232988    82565             1          3                  2   \n",
      "371905    391768    57671            19          3                  2   \n",
      "394347    467134    63189            21          3                  2   \n",
      "411408   1286742   183220            48          3                  2   \n",
      "415163   2282673    86751            49          3                  2   \n",
      "441599   2125197    14050            48          3                  2   \n",
      "\n",
      "        days_since_prior_order  \n",
      "145574                     2.0  \n",
      "223105                    30.0  \n",
      "230807                    16.0  \n",
      "266232                     NaN  \n",
      "273805                     6.0  \n",
      "284038                     7.0  \n",
      "311713                     9.0  \n",
      "321100                    18.0  \n",
      "323900                     7.0  \n",
      "345917                     NaN  \n",
      "371905                    10.0  \n",
      "394347                     2.0  \n",
      "411408                     4.0  \n",
      "415163                     2.0  \n",
      "441599                     3.0  \n"
     ]
    }
   ],
   "source": [
    "# Revisa si hay pedidos duplicados\n",
    "orders_duplicated_bol = orders.duplicated()\n",
    "num_orders_duplicated = orders.duplicated().sum()\n",
    "orders_duplicated = orders[orders.duplicated()]\n",
    "print(orders_duplicated_bol)\n",
    "print(num_orders_duplicated)\n",
    "print(orders_duplicated)\n"
   ]
  },
  {
   "cell_type": "markdown",
   "id": "6ec7457d",
   "metadata": {
    "id": "PEkwUX_gvt5A"
   },
   "source": [
    "¿Tienes líneas duplicadas? Si sí, ¿qué tienen en común?\n",
    "\n",
    "Tienen en comùn que los pedidos duplicados fueron realizados el mismo dìa a la misma hora, eso quiere decir que estos pueden ser un error o una consecuencia de alguna promociòn o descuento."
   ]
  },
  {
   "cell_type": "code",
   "execution_count": 173,
   "id": "43d38262",
   "metadata": {
    "id": "0d44de5d"
   },
   "outputs": [
    {
     "name": "stdout",
     "output_type": "stream",
     "text": [
      "        order_id  user_id  order_number  order_dow  order_hour_of_day  \\\n",
      "145574    794638    50898            24          3                  2   \n",
      "223105   2160484   107525            16          3                  2   \n",
      "230807   1918001   188546            14          3                  2   \n",
      "266232   1782114   106752             1          3                  2   \n",
      "273805   1112182   202304            84          3                  2   \n",
      "284038   2845099    31189            11          3                  2   \n",
      "311713   1021560    53767             3          3                  2   \n",
      "321100    408114    68324             4          3                  2   \n",
      "323900   1919531   191501            32          3                  2   \n",
      "345917   2232988    82565             1          3                  2   \n",
      "371905    391768    57671            19          3                  2   \n",
      "394347    467134    63189            21          3                  2   \n",
      "411408   1286742   183220            48          3                  2   \n",
      "415163   2282673    86751            49          3                  2   \n",
      "441599   2125197    14050            48          3                  2   \n",
      "\n",
      "        days_since_prior_order  \n",
      "145574                     2.0  \n",
      "223105                    30.0  \n",
      "230807                    16.0  \n",
      "266232                     NaN  \n",
      "273805                     6.0  \n",
      "284038                     7.0  \n",
      "311713                     9.0  \n",
      "321100                    18.0  \n",
      "323900                     7.0  \n",
      "345917                     NaN  \n",
      "371905                    10.0  \n",
      "394347                     2.0  \n",
      "411408                     4.0  \n",
      "415163                     2.0  \n",
      "441599                     3.0  \n"
     ]
    }
   ],
   "source": [
    "# Basándote en tus hallazgos,\n",
    "# Verifica todos los pedidos que se hicieron el miércoles a las 2:00 a.m.\n",
    "orders_filtered = orders[(orders['order_dow'] == 3) & (orders['order_hour_of_day'] == 2)]\n",
    "orders_duplicated = orders_filtered[orders_filtered.duplicated()]\n",
    "print(orders_duplicated)"
   ]
  },
  {
   "cell_type": "markdown",
   "id": "f78c8103",
   "metadata": {
    "id": "vu2OWyoqwOx5"
   },
   "source": [
    "¿Qué sugiere este resultado?\n",
    "Que hay algùn error con ese pedido, por el cùal este està duplicado."
   ]
  },
  {
   "cell_type": "code",
   "execution_count": 174,
   "id": "480563c7",
   "metadata": {
    "id": "480563c7"
   },
   "outputs": [
    {
     "name": "stdout",
     "output_type": "stream",
     "text": [
      "        order_id  user_id  order_number  order_dow  order_hour_of_day  \\\n",
      "0        1515936   183418            11          6                 13   \n",
      "1        1690866   163593             5          5                 12   \n",
      "2        1454967    39980             4          5                 19   \n",
      "3        1768857    82516            56          0                 20   \n",
      "4        3007858   196724             2          4                 12   \n",
      "...          ...      ...           ...        ...                ...   \n",
      "478962   3210681     5617             5          1                 14   \n",
      "478963   3270802   112087             2          3                 13   \n",
      "478964    885349    82944            16          2                 11   \n",
      "478965    216274     4391             3          3                  8   \n",
      "478966   2071924     1730            18          1                 14   \n",
      "\n",
      "        days_since_prior_order  \n",
      "0                         30.0  \n",
      "1                          9.0  \n",
      "2                          2.0  \n",
      "3                         10.0  \n",
      "4                         17.0  \n",
      "...                        ...  \n",
      "478962                     7.0  \n",
      "478963                     6.0  \n",
      "478964                     6.0  \n",
      "478965                     8.0  \n",
      "478966                    15.0  \n",
      "\n",
      "[478952 rows x 6 columns]\n"
     ]
    }
   ],
   "source": [
    "# Elimina los pedidos duplicados\n",
    "orders_with_out_duplicates = orders.drop_duplicates()\n",
    "print(orders_with_out_duplicates)"
   ]
  },
  {
   "cell_type": "code",
   "execution_count": 175,
   "id": "0b2396a2",
   "metadata": {
    "id": "0b2396a2"
   },
   "outputs": [
    {
     "name": "stdout",
     "output_type": "stream",
     "text": [
      "0        False\n",
      "1        False\n",
      "2        False\n",
      "3        False\n",
      "4        False\n",
      "         ...  \n",
      "7971     False\n",
      "8842     False\n",
      "9345     False\n",
      "10115    False\n",
      "19005    False\n",
      "Length: 168, dtype: bool\n",
      "0\n",
      "Empty DataFrame\n",
      "Columns: [order_id, user_id, order_number, order_dow, order_hour_of_day, days_since_prior_order]\n",
      "Index: []\n"
     ]
    }
   ],
   "source": [
    "orders_with_out_duplicates = orders.drop_duplicates(subset=['order_dow', 'order_hour_of_day'])\n",
    "orders_duplicated_bol = orders_with_out_duplicates.duplicated()\n",
    "num_orders_duplicated = orders_with_out_duplicates.duplicated().sum()\n",
    "orders_duplicated = orders_with_out_duplicates[orders_with_out_duplicates.duplicated()]\n",
    "print(orders_duplicated_bol)\n",
    "print(num_orders_duplicated)\n",
    "print(orders_duplicated)\n"
   ]
  },
  {
   "cell_type": "code",
   "execution_count": 176,
   "id": "f6113ef1",
   "metadata": {
    "id": "f6113ef1"
   },
   "outputs": [
    {
     "name": "stdout",
     "output_type": "stream",
     "text": [
      "0        False\n",
      "1        False\n",
      "2        False\n",
      "3        False\n",
      "4        False\n",
      "         ...  \n",
      "7971     False\n",
      "8842     False\n",
      "9345     False\n",
      "10115    False\n",
      "19005    False\n",
      "Length: 168, dtype: bool\n",
      "0\n"
     ]
    }
   ],
   "source": [
    "print(orders_with_out_duplicates.duplicated())\n",
    "print(orders_with_out_duplicates.duplicated().sum())"
   ]
  },
  {
   "cell_type": "markdown",
   "id": "ecead92f",
   "metadata": {
    "id": "5e8905ae"
   },
   "source": [
    "Describe brevemente tus hallazgos y lo que hiciste con ellos:\n",
    "    Creo que los datos estaban duplicados por algùn error o talvez se deba a una alta demanda en ese horario el que provocò que hubieran varios pedidos a la misma hora el mismo dìa."
   ]
  },
  {
   "cell_type": "markdown",
   "id": "5bfa8d23",
   "metadata": {},
   "source": [
    "<div class=\"alert alert-block alert-success\">\n",
    "<b>Comentario del revisor</b> <a class=\"tocSkip\"></a>\n",
    "\n",
    "Muy buen trabajo!! Desarrollaste de manera excelente el análisis de duplicados y eliminaste esos casos. \n",
    "    \n",
    "</div>"
   ]
  },
  {
   "cell_type": "markdown",
   "id": "45e6bc46",
   "metadata": {
    "id": "45e6bc46"
   },
   "source": [
    "### `products` data frame"
   ]
  },
  {
   "cell_type": "code",
   "execution_count": 177,
   "id": "5f526b5b-8175-46fa-a0fd-441767d50e64",
   "metadata": {
    "id": "5f526b5b-8175-46fa-a0fd-441767d50e64"
   },
   "outputs": [
    {
     "name": "stdout",
     "output_type": "stream",
     "text": [
      "1\n"
     ]
    }
   ],
   "source": [
    "products_duplicated = products.duplicated().nunique()\n",
    "\n",
    "print(products_duplicated)\n"
   ]
  },
  {
   "cell_type": "code",
   "execution_count": 178,
   "id": "88daa4f4",
   "metadata": {
    "id": "88daa4f4"
   },
   "outputs": [
    {
     "name": "stdout",
     "output_type": "stream",
     "text": [
      "0\n"
     ]
    },
    {
     "data": {
      "text/plain": [
       "Index(['product_id', 'product_name', 'aisle_id', 'department_id'], dtype='object')"
      ]
     },
     "execution_count": 178,
     "metadata": {},
     "output_type": "execute_result"
    }
   ],
   "source": [
    "# Verifica si hay IDs duplicadas de products\n",
    "products['product_id'] = products['product_id'].astype(str)\n",
    "products_id_duplicated = products[products['product_id'].str.upper().duplicated()]['product_id']\n",
    "print(products_id_duplicated.nunique())\n",
    "products.columns"
   ]
  },
  {
   "cell_type": "code",
   "execution_count": 214,
   "id": "d808b861",
   "metadata": {
    "id": "c773f0bf"
   },
   "outputs": [
    {
     "name": "stdout",
     "output_type": "stream",
     "text": [
      "     product_id product_name  aisle_id  department_id product_name_upper\n",
      "71           72      Unknown       100             21            UNKNOWN\n",
      "109         110      Unknown       100             21            UNKNOWN\n",
      "296         297      Unknown       100             21            UNKNOWN\n",
      "416         417      Unknown       100             21            UNKNOWN\n",
      "436         437      Unknown       100             21            UNKNOWN\n",
      "439         440      Unknown       100             21            UNKNOWN\n",
      "471         472      Unknown       100             21            UNKNOWN\n",
      "490         491      Unknown       100             21            UNKNOWN\n",
      "555         556      Unknown       100             21            UNKNOWN\n",
      "561         562      Unknown       100             21            UNKNOWN\n"
     ]
    }
   ],
   "source": [
    "products['product_name_upper'] = products['product_name'].str.upper()\n",
    "\n",
    "duplicated = products[(~products['product_name_upper'].isna()) & products['product_name_upper'].duplicated()]\n",
    "\n",
    "print(duplicated.head(10))\n",
    "\n",
    "\n"
   ]
  },
  {
   "cell_type": "code",
   "execution_count": 218,
   "id": "01efd02e",
   "metadata": {
    "id": "01efd02e"
   },
   "outputs": [
    {
     "name": "stdout",
     "output_type": "stream",
     "text": [
      "1361\n"
     ]
    }
   ],
   "source": [
    "# Revisa si hay nombres duplicados de productos no faltantes\n",
    "products_no_faltantes = products[(~products['product_name_upper'].isna()) & products['product_name_upper'].duplicated()]\n",
    "products_name_duplicated_nonull = products_no_faltantes.duplicated()\n",
    "print(products_name_duplicated_nonull.count())\n",
    "\n"
   ]
  },
  {
   "cell_type": "markdown",
   "id": "e2aeea25",
   "metadata": {
    "id": "9da8d293"
   },
   "source": [
    "Describe brevemente tus hallazgos y lo que hiciste con ellos.\n",
    "Los datos de las columnas de productos estàn limpios, no poseen duplicados. Lo que hice fue verificar si existìan duplicados de nombres y id del producto."
   ]
  },
  {
   "cell_type": "markdown",
   "id": "272cc178",
   "metadata": {},
   "source": [
    "<div class=\"alert alert-block alert-danger\">\n",
    "<b>Comentario del revisor</b> <a class=\"tocSkip\"></a>\n",
    "\n",
    "Excelente trabajo! Solamente la verificación de duplicados te recomiendo hacerla sobre la varialble de nombre del producto. Para esto te puedes guiar del siguiente ejemplo:\n",
    "    \n",
    "    products[(~products['product_name'].isna()) & products['product_name'].duplicated()]\n",
    "    \n",
    "</div>\n",
    "\n",
    "<div class=\"alert alert-block alert-info\">\n",
    "<b>Corregido.</b> <a class=\"tocSkip\"></a>\n",
    "</div>"
   ]
  },
  {
   "cell_type": "markdown",
   "id": "2b8c3c9d",
   "metadata": {},
   "source": [
    "<div class=\"alert alert-block alert-danger\">\n",
    "<b>Comentario del revisor</b> <a class=\"tocSkip\"></a>\n",
    "\n",
    "Gran trabajo con los ajustes! Solamente verifica sobre los nombres en mayúsculas!\n",
    "</div>"
   ]
  },
  {
   "cell_type": "markdown",
   "id": "f41e71eb",
   "metadata": {},
   "source": [
    "<div class=\"alert alert-block alert-danger\">\n",
    "<b>Comentario del revisor</b> <a class=\"tocSkip\"></a>\n",
    "\n",
    "Para el comentario que te coloco anteriormente puedes guiarte del siguiente ejemplo:\n",
    "    \n",
    "    products[(~products['product_name_upper'].isna()) & products['product_name_upper'].duplicated()]\n",
    "</div>"
   ]
  },
  {
   "cell_type": "markdown",
   "id": "21d79777",
   "metadata": {},
   "source": [
    "<div class=\"alert alert-block alert-info\">\n",
    "<b>Espero haber corregido el problema.</b> <a class=\"tocSkip\"></a>\n",
    "</div>"
   ]
  },
  {
   "cell_type": "markdown",
   "id": "602bf016",
   "metadata": {},
   "source": [
    "<div class=\"alert alert-block alert-success\">\n",
    "<b>Comentario del revisor</b> <a class=\"tocSkip\"></a>\n",
    "\n",
    "Gran trabajo con los ajustes! \n",
    "</div>"
   ]
  },
  {
   "cell_type": "markdown",
   "id": "60f30db1",
   "metadata": {
    "id": "60f30db1"
   },
   "source": [
    "### `departments` data frame"
   ]
  },
  {
   "cell_type": "code",
   "execution_count": 181,
   "id": "fb410ad4-0fbf-4b80-bb09-23fdea79afe3",
   "metadata": {
    "id": "fb410ad4-0fbf-4b80-bb09-23fdea79afe3"
   },
   "outputs": [
    {
     "name": "stdout",
     "output_type": "stream",
     "text": [
      "1\n",
      "Index(['department_id', 'department'], dtype='object')\n"
     ]
    }
   ],
   "source": [
    "# Revisa si hay filas totalmente duplicadas\n",
    "departments_duplicated = departments.duplicated().nunique()\n",
    "print(departments_duplicated)\n",
    "print(departments.columns)\n",
    "\n",
    "\n"
   ]
  },
  {
   "cell_type": "code",
   "execution_count": 182,
   "id": "332b12bb",
   "metadata": {
    "id": "332b12bb"
   },
   "outputs": [
    {
     "name": "stdout",
     "output_type": "stream",
     "text": [
      "21\n"
     ]
    }
   ],
   "source": [
    "# Revisa si hay IDs duplicadas de productos\n",
    "departments_id_duplicated = products[products['department_id'].duplicated()]['department_id']\n",
    "print(departments_id_duplicated.nunique())\n"
   ]
  },
  {
   "cell_type": "markdown",
   "id": "3768d073",
   "metadata": {
    "id": "bd30d78e"
   },
   "source": [
    "Describe brevemente tus hallazgos y lo que hiciste con ellos.\n",
    "\n",
    "En el data frame pude darme cuenta que en la columna de deparment_id existen 21 duplicados."
   ]
  },
  {
   "cell_type": "markdown",
   "id": "889349c1",
   "metadata": {
    "id": "889349c1"
   },
   "source": [
    "### `aisles` data frame"
   ]
  },
  {
   "cell_type": "code",
   "execution_count": 183,
   "id": "9da89fb9-4679-40f5-ad0d-c34df753a3f8",
   "metadata": {
    "id": "9da89fb9-4679-40f5-ad0d-c34df753a3f8"
   },
   "outputs": [
    {
     "name": "stdout",
     "output_type": "stream",
     "text": [
      "1\n",
      "Index(['aisle_id', 'aisle'], dtype='object')\n"
     ]
    },
    {
     "data": {
      "text/html": [
       "<div>\n",
       "<style scoped>\n",
       "    .dataframe tbody tr th:only-of-type {\n",
       "        vertical-align: middle;\n",
       "    }\n",
       "\n",
       "    .dataframe tbody tr th {\n",
       "        vertical-align: top;\n",
       "    }\n",
       "\n",
       "    .dataframe thead th {\n",
       "        text-align: right;\n",
       "    }\n",
       "</style>\n",
       "<table border=\"1\" class=\"dataframe\">\n",
       "  <thead>\n",
       "    <tr style=\"text-align: right;\">\n",
       "      <th></th>\n",
       "      <th>aisle_id</th>\n",
       "      <th>aisle</th>\n",
       "    </tr>\n",
       "  </thead>\n",
       "  <tbody>\n",
       "    <tr>\n",
       "      <th>0</th>\n",
       "      <td>1</td>\n",
       "      <td>prepared soups salads</td>\n",
       "    </tr>\n",
       "    <tr>\n",
       "      <th>1</th>\n",
       "      <td>2</td>\n",
       "      <td>specialty cheeses</td>\n",
       "    </tr>\n",
       "    <tr>\n",
       "      <th>2</th>\n",
       "      <td>3</td>\n",
       "      <td>energy granola bars</td>\n",
       "    </tr>\n",
       "    <tr>\n",
       "      <th>3</th>\n",
       "      <td>4</td>\n",
       "      <td>instant foods</td>\n",
       "    </tr>\n",
       "    <tr>\n",
       "      <th>4</th>\n",
       "      <td>5</td>\n",
       "      <td>marinades meat preparation</td>\n",
       "    </tr>\n",
       "  </tbody>\n",
       "</table>\n",
       "</div>"
      ],
      "text/plain": [
       "   aisle_id                       aisle\n",
       "0         1       prepared soups salads\n",
       "1         2           specialty cheeses\n",
       "2         3         energy granola bars\n",
       "3         4               instant foods\n",
       "4         5  marinades meat preparation"
      ]
     },
     "execution_count": 183,
     "metadata": {},
     "output_type": "execute_result"
    }
   ],
   "source": [
    "# Revisa si hay filas totalmente duplicadas\n",
    "aisles_duplicated = aisles.duplicated().nunique()\n",
    "print(aisles_duplicated)\n",
    "print(aisles.columns)\n",
    "aisles.head()"
   ]
  },
  {
   "cell_type": "code",
   "execution_count": 184,
   "id": "da7c2822",
   "metadata": {
    "id": "da7c2822"
   },
   "outputs": [
    {
     "name": "stdout",
     "output_type": "stream",
     "text": [
      "0\n"
     ]
    }
   ],
   "source": [
    "# Revisa si hay IDs duplicadas de productos\n",
    "aisles_id_duplicated = aisles[aisles['aisle_id'].duplicated()]['aisle_id']\n",
    "num_duplicated_aisle_ids = aisles_id_duplicated.nunique()\n",
    "print(num_duplicated_aisle_ids)\n",
    "\n"
   ]
  },
  {
   "cell_type": "markdown",
   "id": "bfe77762",
   "metadata": {
    "id": "ac63826f"
   },
   "source": [
    "Describe brevemente tus hallazgos y lo que hiciste con ellos.\n",
    "\n",
    "No hay duplicados."
   ]
  },
  {
   "cell_type": "markdown",
   "id": "274cd06a",
   "metadata": {
    "id": "274cd06a"
   },
   "source": [
    "### `order_products` data frame"
   ]
  },
  {
   "cell_type": "code",
   "execution_count": 185,
   "id": "52326689-84a8-4b8f-a881-7c68780f62c9",
   "metadata": {
    "id": "52326689-84a8-4b8f-a881-7c68780f62c9"
   },
   "outputs": [
    {
     "name": "stdout",
     "output_type": "stream",
     "text": [
      "1\n",
      "Index(['order_id', 'product_id', 'add_to_cart_order', 'reordered'], dtype='object')\n",
      "         order_id  product_id  add_to_cart_order  reordered\n",
      "0         2141543       11440               17.0          0\n",
      "1          567889        1560                1.0          1\n",
      "2         2261212       26683                1.0          1\n",
      "3          491251        8670               35.0          1\n",
      "4         2571142        1940                5.0          1\n",
      "...           ...         ...                ...        ...\n",
      "4545002    577211       15290               12.0          1\n",
      "4545003   1219554       21914                9.0          0\n",
      "4545004    692640       47766                4.0          1\n",
      "4545005    319435         691                8.0          1\n",
      "4545006   1398151       28733                9.0          0\n",
      "\n",
      "[4545007 rows x 4 columns]\n"
     ]
    }
   ],
   "source": [
    "# Revisa si hay filas totalmente duplicadas\n",
    "order_products_new = order_products.drop_duplicates()\n",
    "order_products_duplicated = order_products.duplicated().nunique()\n",
    "print(order_products_duplicated)\n",
    "print(order_products.columns)\n",
    "print(order_products_new)\n",
    "\n"
   ]
  },
  {
   "cell_type": "code",
   "execution_count": 186,
   "id": "7b861391",
   "metadata": {
    "id": "7b861391"
   },
   "outputs": [
    {
     "name": "stdout",
     "output_type": "stream",
     "text": [
      "0\n"
     ]
    }
   ],
   "source": [
    "# Vuelve a verificar si hay cualquier otro duplicado engañoso\n",
    "\n",
    "order_products_duplicated = order_products.duplicated(subset=['order_id', 'product_id', 'add_to_cart_order', 'reordered'])\n",
    "num_duplicated_rows = order_products_duplicated.sum()\n",
    "print(num_duplicated_rows)\n"
   ]
  },
  {
   "cell_type": "markdown",
   "id": "0b890492",
   "metadata": {
    "id": "0b890492"
   },
   "source": [
    "Describe brevemente tus hallazgos y lo que hiciste con ellos."
   ]
  },
  {
   "cell_type": "markdown",
   "id": "1e46de76",
   "metadata": {
    "id": "1e46de76"
   },
   "source": [
    "## Encuentra y elimina los valores ausentes\n",
    "\n",
    "Al trabajar con valores duplicados, pudimos observar que también nos falta investigar valores ausentes:\n",
    "\n",
    "* La columna `'product_name'` de la tabla products.\n",
    "* La columna `'days_since_prior_order'` de la tabla orders.\n",
    "* La columna `'add_to_cart_order'` de la tabla order_productos."
   ]
  },
  {
   "cell_type": "markdown",
   "id": "c0aebd78",
   "metadata": {
    "id": "c0aebd78"
   },
   "source": [
    "### `products` data frame"
   ]
  },
  {
   "cell_type": "code",
   "execution_count": 187,
   "id": "fe4a8b0f",
   "metadata": {
    "id": "fe4a8b0f"
   },
   "outputs": [
    {
     "name": "stdout",
     "output_type": "stream",
     "text": [
      "      product_id product_name  aisle_id  department_id product_name_upper\n",
      "37            38          NaN       100             21                NaN\n",
      "71            72          NaN       100             21                NaN\n",
      "109          110          NaN       100             21                NaN\n",
      "296          297          NaN       100             21                NaN\n",
      "416          417          NaN       100             21                NaN\n",
      "...          ...          ...       ...            ...                ...\n",
      "49552      49553          NaN       100             21                NaN\n",
      "49574      49575          NaN       100             21                NaN\n",
      "49640      49641          NaN       100             21                NaN\n",
      "49663      49664          NaN       100             21                NaN\n",
      "49668      49669          NaN       100             21                NaN\n",
      "\n",
      "[1258 rows x 5 columns]\n"
     ]
    }
   ],
   "source": [
    "# Encuentra los valores ausentes en la columna 'product_name'\n",
    "product_name_null = products[products['product_name'].isnull()]\n",
    "print(product_name_null)"
   ]
  },
  {
   "cell_type": "markdown",
   "id": "-A6x1AbJhjkp",
   "metadata": {
    "id": "-A6x1AbJhjkp"
   },
   "source": [
    "Describe brevemente cuáles son tus hallazgos."
   ]
  },
  {
   "cell_type": "markdown",
   "id": "ef4907f6",
   "metadata": {
    "id": "e96167bc"
   },
   "source": [
    "#  ¿Todos los nombres de productos ausentes están relacionados con el pasillo con ID 100?\n",
    "Sí, todos los nombres de productos ausentes están relacionados con el pasillo con ID 100.\n"
   ]
  },
  {
   "cell_type": "markdown",
   "id": "WRpIfXRphpSL",
   "metadata": {
    "id": "WRpIfXRphpSL"
   },
   "source": [
    "Describe brevemente cuáles son tus hallazgos."
   ]
  },
  {
   "cell_type": "markdown",
   "id": "ddb50438",
   "metadata": {
    "id": "8fd0a541"
   },
   "source": [
    "# ¿Todos los nombres de productos ausentes están relacionados con el departamento con ID 21?\n",
    "Sí, todos los nombres de productos ausentes están relacionados con el departamento con ID 21.\n"
   ]
  },
  {
   "cell_type": "markdown",
   "id": "qDpdYn1Fht_I",
   "metadata": {
    "id": "qDpdYn1Fht_I"
   },
   "source": [
    "Describe brevemente cuáles son tus hallazgos."
   ]
  },
  {
   "cell_type": "code",
   "execution_count": 188,
   "id": "325c3464",
   "metadata": {
    "id": "325c3464"
   },
   "outputs": [
    {
     "name": "stdout",
     "output_type": "stream",
     "text": [
      "    aisle_id    aisle\n",
      "99       100  missing\n",
      "    department_id department\n",
      "20             21    missing\n"
     ]
    },
    {
     "data": {
      "text/plain": [
       "Index(['order_id', 'user_id', 'order_number', 'order_dow', 'order_hour_of_day',\n",
       "       'days_since_prior_order'],\n",
       "      dtype='object')"
      ]
     },
     "execution_count": 188,
     "metadata": {},
     "output_type": "execute_result"
    }
   ],
   "source": [
    "# Usa las tablas department y aisle para revisar los datos del pasillo con ID 100 y el departamento con ID 21.\n",
    "\n",
    "aisle_100_data = aisles.query('aisle_id == 100')\n",
    "print(aisle_100_data)\n",
    "\n",
    "\n",
    "department_21_data = departments.query('department_id == 21')\n",
    "print(department_21_data)\n",
    "orders.columns\n",
    "\n"
   ]
  },
  {
   "cell_type": "markdown",
   "id": "nqhSTUPhhvEJ",
   "metadata": {
    "id": "nqhSTUPhhvEJ"
   },
   "source": [
    "Describe brevemente cuáles son tus hallazgos."
   ]
  },
  {
   "cell_type": "code",
   "execution_count": 189,
   "id": "6b295120",
   "metadata": {
    "id": "6b295120"
   },
   "outputs": [
    {
     "name": "stdout",
     "output_type": "stream",
     "text": [
      "Empty DataFrame\n",
      "Columns: [product_id, product_name, aisle_id, department_id, product_name_upper]\n",
      "Index: []\n"
     ]
    }
   ],
   "source": [
    "# Completa los nombres de productos ausentes con 'Unknown'\n",
    "products['product_name'].fillna('Unknown', inplace=True)\n",
    "product_name_null = products[products['product_name'].isnull()]\n",
    "print(product_name_null)\n"
   ]
  },
  {
   "cell_type": "markdown",
   "id": "367f3154",
   "metadata": {
    "id": "fc70e5ad"
   },
   "source": [
    "Describe brevemente tus hallazgos y lo que hiciste con ellos.\n",
    "Se cambiò el nombre de los productos que tenian nombres ausentes por Unknown."
   ]
  },
  {
   "cell_type": "markdown",
   "id": "e19e2189",
   "metadata": {},
   "source": [
    "<div class=\"alert alert-block alert-success\">\n",
    "<b>Comentario del revisor</b> <a class=\"tocSkip\"></a>\n",
    "\n",
    "Muy buen trabajo!! Desarrollaste de manera excelente el análisis de valores faltantes y los llenaste con \"unknown\".\n",
    "    \n",
    "</div>"
   ]
  },
  {
   "cell_type": "markdown",
   "id": "7eb45c86",
   "metadata": {
    "id": "7eb45c86"
   },
   "source": [
    "### `orders` data frame"
   ]
  },
  {
   "cell_type": "code",
   "execution_count": 190,
   "id": "93e41d96",
   "metadata": {
    "id": "93e41d96"
   },
   "outputs": [
    {
     "name": "stdout",
     "output_type": "stream",
     "text": [
      "        order_id  user_id  order_number  order_dow  order_hour_of_day  \\\n",
      "0          False    False         False      False              False   \n",
      "1          False    False         False      False              False   \n",
      "2          False    False         False      False              False   \n",
      "3          False    False         False      False              False   \n",
      "4          False    False         False      False              False   \n",
      "...          ...      ...           ...        ...                ...   \n",
      "478962     False    False         False      False              False   \n",
      "478963     False    False         False      False              False   \n",
      "478964     False    False         False      False              False   \n",
      "478965     False    False         False      False              False   \n",
      "478966     False    False         False      False              False   \n",
      "\n",
      "        days_since_prior_order  \n",
      "0                        False  \n",
      "1                        False  \n",
      "2                        False  \n",
      "3                        False  \n",
      "4                        False  \n",
      "...                        ...  \n",
      "478962                   False  \n",
      "478963                   False  \n",
      "478964                   False  \n",
      "478965                   False  \n",
      "478966                   False  \n",
      "\n",
      "[478967 rows x 6 columns]\n"
     ]
    }
   ],
   "source": [
    "# Encuentra los valores ausentes\n",
    "orders_null = orders.isnull()\n",
    "print(orders_null)"
   ]
  },
  {
   "cell_type": "markdown",
   "id": "12fe5553",
   "metadata": {
    "id": "166e5a86"
   },
   "source": [
    "# ¿Hay algún valor ausente que no sea el primer pedido del cliente?\n",
    "No, no hay.\n"
   ]
  },
  {
   "cell_type": "markdown",
   "id": "4e23d089",
   "metadata": {
    "id": "4e23d089"
   },
   "source": [
    "Describe brevemente tus hallazgos y lo que hiciste con ellos."
   ]
  },
  {
   "cell_type": "markdown",
   "id": "69dc9ca4",
   "metadata": {
    "id": "69dc9ca4"
   },
   "source": [
    "### `order_products` data frame"
   ]
  },
  {
   "cell_type": "code",
   "execution_count": 191,
   "id": "b8240253",
   "metadata": {
    "id": "b8240253"
   },
   "outputs": [
    {
     "name": "stdout",
     "output_type": "stream",
     "text": [
      "   order_id  product_id  add_to_cart_order  reordered\n",
      "0     False       False              False      False\n",
      "1     False       False              False      False\n",
      "2     False       False              False      False\n",
      "3     False       False              False      False\n",
      "4     False       False              False      False\n"
     ]
    },
    {
     "data": {
      "text/plain": [
       "Index(['order_id', 'product_id', 'add_to_cart_order', 'reordered'], dtype='object')"
      ]
     },
     "execution_count": 191,
     "metadata": {},
     "output_type": "execute_result"
    }
   ],
   "source": [
    "# Encuentra los valores ausentes\n",
    "order_products_null = order_products.isnull()\n",
    "print(order_products_null.head())\n",
    "order_products.columns"
   ]
  },
  {
   "cell_type": "code",
   "execution_count": 192,
   "id": "9a78e5ee",
   "metadata": {
    "id": "9a78e5ee"
   },
   "outputs": [],
   "source": [
    "# ¿Cuáles son los valores mínimos y máximos en esta columna?\n",
    "\n"
   ]
  },
  {
   "cell_type": "markdown",
   "id": "-Z2Ja215jW78",
   "metadata": {
    "id": "-Z2Ja215jW78"
   },
   "source": [
    "Describe brevemente cuáles son tus hallazgos."
   ]
  },
  {
   "cell_type": "code",
   "execution_count": 193,
   "id": "ab9d0c2b",
   "metadata": {
    "id": "ab9d0c2b"
   },
   "outputs": [
    {
     "name": "stdout",
     "output_type": "stream",
     "text": [
      "         order_id  product_id  add_to_cart_order  reordered\n",
      "737       2449164        5068                NaN          0\n",
      "9926      1968313       43867                NaN          0\n",
      "14394     2926893       11688                NaN          0\n",
      "16418     1717990        4142                NaN          0\n",
      "30114     1959075       42828                NaN          1\n",
      "...           ...         ...                ...        ...\n",
      "4505662   1800005        7411                NaN          0\n",
      "4511400   1633337         260                NaN          0\n",
      "4517562    404157        9517                NaN          0\n",
      "4534112   1673227       17835                NaN          0\n",
      "4535739   1832957       17949                NaN          1\n",
      "\n",
      "[836 rows x 4 columns]\n"
     ]
    },
    {
     "data": {
      "text/plain": [
       "Index(['order_id', 'product_id', 'add_to_cart_order', 'reordered'], dtype='object')"
      ]
     },
     "execution_count": 193,
     "metadata": {},
     "output_type": "execute_result"
    }
   ],
   "source": [
    "# Guarda todas las IDs de pedidos que tengan un valor ausente en 'add_to_cart_order'\n",
    "id_null_add_to_cart_order = order_products[order_products['add_to_cart_order'].isnull()]\n",
    "print(id_null_add_to_cart_order)\n",
    "order_products.columns"
   ]
  },
  {
   "cell_type": "code",
   "execution_count": 194,
   "id": "54c31695",
   "metadata": {
    "id": "54c31695"
   },
   "outputs": [
    {
     "name": "stdout",
     "output_type": "stream",
     "text": [
      "         order_id  product_id  add_to_cart_order  reordered\n",
      "737       2449164        5068                NaN          0\n",
      "9926      1968313       43867                NaN          0\n",
      "14394     2926893       11688                NaN          0\n",
      "16418     1717990        4142                NaN          0\n",
      "30114     1959075       42828                NaN          1\n",
      "...           ...         ...                ...        ...\n",
      "4505662   1800005        7411                NaN          0\n",
      "4511400   1633337         260                NaN          0\n",
      "4517562    404157        9517                NaN          0\n",
      "4534112   1673227       17835                NaN          0\n",
      "4535739   1832957       17949                NaN          1\n",
      "\n",
      "[836 rows x 4 columns]\n",
      "order_id\n",
      "9310        1\n",
      "61355      63\n",
      "102236     31\n",
      "129627      5\n",
      "165801      6\n",
      "           ..\n",
      "2999801     6\n",
      "3125735    22\n",
      "3308010    51\n",
      "3347453     7\n",
      "3383594     5\n",
      "Name: product_id, Length: 70, dtype: int64\n",
      "1\n",
      "True\n"
     ]
    }
   ],
   "source": [
    "# ¿Todos los pedidos con valores ausentes tienen más de 64 productos?\n",
    "# Agrupa todos los pedidos con datos ausentes por su ID de pedido.\n",
    "# Cuenta el número de 'product_id' en cada pedido y revisa el valor mínimo del conteo.\n",
    "filas_con_ausentes = order_products[order_products.isnull().any(axis=1)]\n",
    "productos_por_pedido = filas_con_ausentes.groupby('order_id')['product_id'].count()\n",
    "min_productos_por_pedido = productos_por_pedido.min()\n",
    "more_64 = all(filas_con_ausentes > 64)\n",
    "print(filas_con_ausentes )\n",
    "print(productos_por_pedido )\n",
    "print(min_productos_por_pedido)\n",
    "print(more_64)"
   ]
  },
  {
   "cell_type": "markdown",
   "id": "p9V6pddtjglj",
   "metadata": {
    "id": "p9V6pddtjglj"
   },
   "source": [
    "Describe brevemente cuáles son tus hallazgos."
   ]
  },
  {
   "cell_type": "code",
   "execution_count": 195,
   "id": "7a987d08",
   "metadata": {
    "id": "7a987d08"
   },
   "outputs": [
    {
     "name": "stdout",
     "output_type": "stream",
     "text": [
      "   order_id  product_id  add_to_cart_order  reordered\n",
      "0   2141543       11440                 17          0\n",
      "1    567889        1560                  1          1\n",
      "2   2261212       26683                  1          1\n",
      "3    491251        8670                 35          1\n",
      "4   2571142        1940                  5          1\n"
     ]
    }
   ],
   "source": [
    "# Remplaza los valores ausentes en la columna 'add_to_cart? con 999 y convierte la columna al tipo entero.\n",
    "order_products['add_to_cart_order'].fillna(999, inplace=True)\n",
    "order_products['add_to_cart_order'] = order_products['add_to_cart_order'].astype(int)\n",
    "print(order_products.head())\n",
    "\n"
   ]
  },
  {
   "cell_type": "markdown",
   "id": "1c5912fd",
   "metadata": {
    "id": "fea4bcc7"
   },
   "source": [
    "Describe brevemente tus hallazgos y lo que hiciste con ellos.\n",
    "Se cambiò los valores ausentes por 999 y se convirtiò a enteros."
   ]
  },
  {
   "cell_type": "markdown",
   "id": "023a9362",
   "metadata": {},
   "source": [
    "<div class=\"alert alert-block alert-warning\">\n",
    "<b>Comentario revisor</b> <a class=\"tocSkip\"></a>\n",
    "\n",
    "\n",
    "Muy buena conclusión de esta base. Pero qué podríamos decir de los pedidos que tienen más de 64 productos?\n",
    "</div>\n",
    "\n",
    "<div class=\"alert alert-block alert-info\">\n",
    "<b>Son clientes importantes? .</b> <a class=\"tocSkip\"></a>\n",
    "</div>"
   ]
  },
  {
   "cell_type": "markdown",
   "id": "f37ce2f5",
   "metadata": {
    "id": "RnplPFY1gSrb"
   },
   "source": [
    "## Conclusiones\n",
    "\n",
    "Escribe aquí tus conclusiones intermedias sobre el Paso 2. Preprocesamiento de los datos\n",
    "\n",
    "Durante este proceso, eliminamos duplicados y manejamos valores ausentes para asegurar la precisión de \n",
    "los resultados. Usamos técnicas como `drop_duplicates()` para eliminar duplicados y `fillna()` para \n",
    "reemplazar valores nulos. Además, verificamos ciertas condiciones para comprender mejor nuestros datos, \n",
    "como asegurarnos de que todos los productos con nombres ausentes pertenecen al pasillo con ID 100. \n"
   ]
  },
  {
   "cell_type": "markdown",
   "id": "UjrOIwTcz3ri",
   "metadata": {
    "id": "UjrOIwTcz3ri"
   },
   "source": [
    "# Paso 3. Análisis de los datos\n",
    "\n",
    "Una vez los datos estén procesados y listos, haz el siguiente análisis:"
   ]
  },
  {
   "cell_type": "markdown",
   "id": "turkish-kidney",
   "metadata": {
    "id": "turkish-kidney"
   },
   "source": [
    "# [A] Fácil (deben completarse todos para aprobar)\n",
    "\n",
    "1. Verifica que los valores en las columnas `'order_hour_of_day'` y `'order_dow'` en la tabla orders sean razonables (es decir, `'order_hour_of_day'` oscile entre 0 y 23 y `'order_dow'` oscile entre 0 y 6).\n",
    "2. Crea un gráfico que muestre el número de personas que hacen pedidos dependiendo de la hora del día.\n",
    "3. Crea un gráfico que muestre qué día de la semana la gente hace sus compras.\n",
    "4. Crea un gráfico que muestre el tiempo que la gente espera hasta hacer su siguiente pedido, y comenta sobre los valores mínimos y máximos."
   ]
  },
  {
   "cell_type": "markdown",
   "id": "short-capability",
   "metadata": {
    "id": "short-capability"
   },
   "source": [
    "### [A1] Verifica que los valores sean sensibles"
   ]
  },
  {
   "cell_type": "code",
   "execution_count": 196,
   "id": "growing-fruit",
   "metadata": {
    "id": "growing-fruit"
   },
   "outputs": [
    {
     "name": "stdout",
     "output_type": "stream",
     "text": [
      "True\n",
      "True\n"
     ]
    },
    {
     "data": {
      "image/png": "[encoded data removed]",
      "text/plain": [
       "<Figure size 640x480 with 1 Axes>"
      ]
     },
     "metadata": {},
     "output_type": "display_data"
    },
    {
     "data": {
      "image/png": "[encoded data removed]",
      "text/plain": [
       "<Figure size 640x480 with 1 Axes>"
      ]
     },
     "metadata": {},
     "output_type": "display_data"
    },
    {
     "data": {
      "image/png": "[encoded data removed]",
      "text/plain": [
       "<Figure size 640x480 with 1 Axes>"
      ]
     },
     "metadata": {},
     "output_type": "display_data"
    }
   ],
   "source": [
    "hour = ((orders['order_hour_of_day'] >= 0) & (orders['order_hour_of_day'] <= 23)).all()\n",
    "day = dias_validos = ((orders['order_dow'] >= 0) & (orders['order_dow'] <= 6)).all()\n",
    "print(hour)\n",
    "print(day)\n",
    "from matplotlib import pyplot as plt\n",
    "order_hour = orders.groupby('order_hour_of_day')['user_id'].nunique()\n",
    "order_hour.plot(kind = 'bar')\n",
    "plt.title('Número de pedidos por hora del día')\n",
    "plt.xlabel('Hora del día')\n",
    "plt.ylabel('Número de personas')\n",
    "plt.show()\n",
    "\n",
    "pedidos_por_dia = orders['order_dow'].value_counts().sort_index()\n",
    "pedidos_por_dia.plot(kind = 'bar')\n",
    "plt.title('Número de pedidos por día')\n",
    "plt.xlabel('Dia de la semana')\n",
    "plt.ylabel('Número de pedidos')\n",
    "plt.xticks(range(0, 7), ['Lunes', 'Martes', 'Miércoles', 'Jueves', 'Viernes', 'Sábado', 'Domingo'])\n",
    "plt.show()\n",
    "\n",
    "order_frecuency = orders['days_since_prior_order'].value_counts().sort_index()\n",
    "order_frecuency.plot(kind = 'bar')\n",
    "plt.title('Tiempo de espera hasta el siguiente pedido')\n",
    "plt.xlabel('Dias desde la ultima compra')\n",
    "plt.ylabel('Número de pedidos')\n",
    "plt.show()"
   ]
  },
  {
   "cell_type": "markdown",
   "id": "aff1bde7",
   "metadata": {},
   "source": [
    "<div class=\"alert alert-block alert-warning\">\n",
    "<b>Comentario Revisor</b> <a class=\"tocSkip\"></a>\n",
    "\n",
    "Muy buena forma de revisar que los valores sean sensibles. Otra forma de hacerlo que puedes explorar más adeltante es el uso de la función .unique() o .value_counts(). \n",
    "</div>\n",
    "\n",
    "\n",
    "<div class=\"alert alert-block alert-info\">\n",
    "<b>De esta manera?.</b> <a class=\"tocSkip\"></a>\n",
    "</div>"
   ]
  },
  {
   "cell_type": "markdown",
   "id": "571adab4",
   "metadata": {
    "id": "accessory-malaysia"
   },
   "source": [
    "<div class=\"alert alert-block alert-success\">\n",
    "<b>Comentario del revisor</b> <a class=\"tocSkip\"></a>\n",
    "\n",
    "Gran trabajo con los ajustes!\n",
    "</div>"
   ]
  },
  {
   "cell_type": "markdown",
   "id": "hmR2GNQ6lCsX",
   "metadata": {
    "id": "hmR2GNQ6lCsX"
   },
   "source": [
    "Escribe aquí tus conclusiones"
   ]
  },
  {
   "cell_type": "markdown",
   "id": "a6743a70",
   "metadata": {
    "id": "a6743a70"
   },
   "source": [
    "### [A2] Para cada hora del día, ¿cuántas personas hacen órdenes?"
   ]
  },
  {
   "cell_type": "code",
   "execution_count": 197,
   "id": "a36cca27",
   "metadata": {
    "id": "a36cca27"
   },
   "outputs": [
    {
     "name": "stdout",
     "output_type": "stream",
     "text": [
      "order_hour_of_day\n",
      "0      2991\n",
      "1      1671\n",
      "2       958\n",
      "3       744\n",
      "4       735\n",
      "5      1281\n",
      "6      3757\n",
      "7     10993\n",
      "8     20268\n",
      "9     28112\n",
      "10    32195\n",
      "11    32660\n",
      "12    31754\n",
      "13    32433\n",
      "14    32797\n",
      "15    32894\n",
      "16    31579\n",
      "17    26825\n",
      "18    21795\n",
      "19    17026\n",
      "20    12891\n",
      "21     9806\n",
      "22     7670\n",
      "23     5167\n",
      "Name: user_id, dtype: int64\n"
     ]
    }
   ],
   "source": [
    "order_hour = orders.groupby('order_hour_of_day')['user_id'].nunique()\n",
    "print(order_hour)"
   ]
  },
  {
   "cell_type": "markdown",
   "id": "ef149ef3",
   "metadata": {
    "id": "11270eed"
   },
   "source": [
    "Escribe aquí tus conclusiones \n",
    "De las 10 am hasta las 4pm son las horas donde màs pedidos hay."
   ]
  },
  {
   "cell_type": "markdown",
   "id": "documented-command",
   "metadata": {
    "id": "documented-command"
   },
   "source": [
    "### [A3] ¿Qué día de la semana compran víveres las personas?"
   ]
  },
  {
   "cell_type": "code",
   "execution_count": 198,
   "id": "chief-digit",
   "metadata": {
    "id": "chief-digit"
   },
   "outputs": [
    {
     "name": "stdout",
     "output_type": "stream",
     "text": [
      "0    84090\n",
      "1    82185\n",
      "2    65833\n",
      "3    60912\n",
      "4    59810\n",
      "5    63488\n",
      "6    62649\n",
      "Name: order_dow, dtype: int64\n"
     ]
    }
   ],
   "source": [
    "pedidos_por_dia = orders['order_dow'].value_counts().sort_index()\n",
    "print(pedidos_por_dia)"
   ]
  },
  {
   "cell_type": "markdown",
   "id": "5db9837a",
   "metadata": {
    "id": "dominant-lightning"
   },
   "source": [
    "Escribe aquí tus conclusiones\n",
    "Mas en Lunes y Martes"
   ]
  },
  {
   "cell_type": "markdown",
   "id": "cutting-concert",
   "metadata": {
    "id": "cutting-concert"
   },
   "source": [
    "### [A4] ¿Cuánto tiempo esperan las personas hasta hacer otro pedido? Comenta sobre los valores mínimos y máximos."
   ]
  },
  {
   "cell_type": "code",
   "execution_count": 199,
   "id": "c231f523",
   "metadata": {
    "id": "c231f523"
   },
   "outputs": [
    {
     "name": "stdout",
     "output_type": "stream",
     "text": [
      "0.0      9589\n",
      "1.0     20179\n",
      "2.0     27141\n",
      "3.0     30225\n",
      "4.0     31007\n",
      "5.0     30096\n",
      "6.0     33931\n",
      "7.0     44579\n",
      "8.0     25361\n",
      "9.0     16754\n",
      "10.0    13310\n",
      "11.0    11467\n",
      "12.0    10658\n",
      "13.0    11737\n",
      "14.0    13992\n",
      "15.0     9416\n",
      "16.0     6588\n",
      "17.0     5498\n",
      "18.0     4972\n",
      "19.0     4939\n",
      "20.0     5302\n",
      "21.0     6448\n",
      "22.0     4514\n",
      "23.0     3337\n",
      "24.0     3015\n",
      "25.0     2711\n",
      "26.0     2640\n",
      "27.0     2986\n",
      "28.0     3745\n",
      "29.0     2673\n",
      "30.0    51338\n",
      "Name: days_since_prior_order, dtype: int64\n"
     ]
    }
   ],
   "source": [
    "order_frecuency = orders['days_since_prior_order'].value_counts().sort_index()\n",
    "print(order_frecuency)"
   ]
  },
  {
   "cell_type": "markdown",
   "id": "4904b699",
   "metadata": {
    "id": "discrete-vertex"
   },
   "source": [
    "Escribe aquí tus conclusiones\n",
    "Hay màs en Lunes y Martes."
   ]
  },
  {
   "cell_type": "markdown",
   "id": "af6688f0",
   "metadata": {},
   "source": [
    "<div class=\"alert alert-block alert-success\">\n",
    "<b>Comentario Revisor</b> <a class=\"tocSkip\"></a>\n",
    "\n",
    "Gran trabajo con el desarrollo de la sección\n",
    "</div>"
   ]
  },
  {
   "cell_type": "markdown",
   "id": "tight-staff",
   "metadata": {
    "id": "tight-staff"
   },
   "source": [
    "# [B] Intermedio (deben completarse todos para aprobar)\n",
    "\n",
    "1. ¿Existe alguna diferencia entre las distribuciones `'order_hour_of_day'` de los miércoles y los sábados? Traza gráficos de barra de `'order_hour_of_day'` para ambos días en la misma figura y describe las diferencias que observes.\n",
    "2. Grafica la distribución para el número de órdenes que hacen los clientes (es decir, cuántos clientes hicieron solo 1 pedido, cuántos hicieron 2, cuántos 3, y así sucesivamente...).\n",
    "3. ¿Cuáles son los 20 principales productos que se piden con más frecuencia (muestra su identificación y nombre)?"
   ]
  },
  {
   "cell_type": "markdown",
   "id": "packed-classic",
   "metadata": {
    "id": "packed-classic"
   },
   "source": [
    "### [B1] Diferencia entre miércoles y sábados para  `'order_hour_of_day'`. Traza gráficos de barra para los dos días y describe las diferencias que veas."
   ]
  },
  {
   "cell_type": "code",
   "execution_count": 200,
   "id": "91127905",
   "metadata": {
    "id": "d89b8403"
   },
   "outputs": [
    {
     "data": {
      "image/png": "[encoded data removed]",
      "text/plain": [
       "<Figure size 640x480 with 1 Axes>"
      ]
     },
     "metadata": {},
     "output_type": "display_data"
    }
   ],
   "source": [
    "wednesday_orders = orders[orders['order_dow'] == 3]\n",
    "\n",
    "saturday_orders = orders[orders['order_dow'] == 6]\n",
    "\n",
    "\n",
    "wednesday_hourly_counts = wednesday_orders['order_hour_of_day'].value_counts().sort_index()\n",
    "\n",
    "saturday_hourly_counts = saturday_orders['order_hour_of_day'].value_counts().sort_index()\n",
    "\n",
    "wednesday_hourly_counts.plot( kind = 'bar')\n",
    "plt.title ('Ventas por hora para Miercoles')\n",
    "plt.xlabel ('Ventas')\n",
    "plt.ylabel ('Hora')\n",
    "plt.show()\n"
   ]
  },
  {
   "cell_type": "code",
   "execution_count": 201,
   "id": "94e54e8a",
   "metadata": {
    "id": "94e54e8a"
   },
   "outputs": [
    {
     "data": {
      "image/png": "[encoded data removed]",
      "text/plain": [
       "<Figure size 640x480 with 1 Axes>"
      ]
     },
     "metadata": {},
     "output_type": "display_data"
    }
   ],
   "source": [
    "saturday_hourly_counts.plot(kind='bar')\n",
    "plt.title('Ventas por hora para Sábado')\n",
    "plt.xlabel('Hora del día')\n",
    "plt.ylabel('Número de pedidos')\n",
    "plt.show()"
   ]
  },
  {
   "cell_type": "code",
   "execution_count": 202,
   "id": "797c90a8",
   "metadata": {
    "id": "797c90a8"
   },
   "outputs": [
    {
     "data": {
      "image/png": "[encoded data removed]",
      "text/plain": [
       "<Figure size 640x480 with 1 Axes>"
      ]
     },
     "metadata": {},
     "output_type": "display_data"
    }
   ],
   "source": [
    "plt.bar(wednesday_hourly_counts.index, wednesday_hourly_counts.values, label='Miércoles')\n",
    "plt.bar(saturday_hourly_counts.index, saturday_hourly_counts.values, label='Sábado')\n",
    "plt.title('Ventas por hora: Miércoles vs Sábado')\n",
    "plt.xlabel('Hora del día')\n",
    "plt.ylabel('Número de ventas')\n",
    "plt.legend()\n",
    "plt.show()\n"
   ]
  },
  {
   "cell_type": "markdown",
   "id": "be767228",
   "metadata": {
    "id": "35bcea30"
   },
   "source": [
    "<div class=\"alert alert-block alert-warning\">\n",
    "<b>Comentario Revisor</b> <a class=\"tocSkip\"></a>\n",
    "\n",
    "Te recomiendo realizar una gráfica con ambos días para que sea más fácil la comparación. \n",
    "</div>\n",
    "\n",
    "<div class=\"alert alert-block alert-info\">\n",
    "<b>Entendido.</b> <a class=\"tocSkip\"></a>\n",
    "</div>\n"
   ]
  },
  {
   "cell_type": "markdown",
   "id": "939cbc49",
   "metadata": {},
   "source": [
    "<div class=\"alert alert-block alert-success\">\n",
    "<b>Comentario del revisor</b> <a class=\"tocSkip\"></a>\n",
    "\n",
    "Gran trabajo con los ajustes!\n",
    "</div>"
   ]
  },
  {
   "cell_type": "markdown",
   "id": "397f0916",
   "metadata": {
    "id": "charitable-congo"
   },
   "source": [
    "Escribe aquí tus conclusiones\n",
    "La principal diferencia que veo es que los sábados las ventas son más constantes se mantienen altas de 9am a 5pm."
   ]
  },
  {
   "cell_type": "markdown",
   "id": "e3891143",
   "metadata": {
    "id": "e3891143"
   },
   "source": [
    "### [B2] ¿Cuál es la distribución para el número de pedidos por cliente?"
   ]
  },
  {
   "cell_type": "code",
   "execution_count": 203,
   "id": "92dd56d8",
   "metadata": {
    "id": "d8c26c23"
   },
   "outputs": [
    {
     "data": {
      "image/png": "[encoded data removed]",
      "text/plain": [
       "<Figure size 640x480 with 1 Axes>"
      ]
     },
     "metadata": {},
     "output_type": "display_data"
    }
   ],
   "source": [
    "wednesday_orders = orders[orders['order_dow'] == 3]\n",
    "\n",
    "saturday_orders = orders[orders['order_dow'] == 6]\n",
    "\n",
    "wednesday_prior_counts = wednesday_orders['user_id'].value_counts()\n",
    "saturday_prior_counts = saturday_orders['user_id'].value_counts()\n",
    "\n",
    "wednesday_prior_counts.plot( kind = 'hist', alpha = 0.6)\n",
    "plt.title ('Número de pedidos por cliente')\n",
    "plt.xlabel ('Ventas')\n",
    "plt.ylabel ('clientes')\n",
    "plt.show()\n"
   ]
  },
  {
   "cell_type": "code",
   "execution_count": null,
   "id": "00e69a66",
   "metadata": {
    "id": "00e69a66"
   },
   "outputs": [],
   "source": []
  },
  {
   "cell_type": "markdown",
   "id": "d2eff7d5",
   "metadata": {
    "id": "d2eff7d5"
   },
   "source": [
    "Escribe aquí tus conclusiones"
   ]
  },
  {
   "cell_type": "markdown",
   "id": "54a0319c",
   "metadata": {
    "id": "54a0319c"
   },
   "source": [
    "### [B3] ¿Cuáles son los 20 productos más populares (muestra su ID y nombre)?"
   ]
  },
  {
   "cell_type": "code",
   "execution_count": 204,
   "id": "exterior-arizona",
   "metadata": {
    "id": "exterior-arizona",
    "scrolled": true
   },
   "outputs": [
    {
     "data": {
      "image/png": "[encoded data removed]",
      "text/plain": [
       "<Figure size 640x480 with 1 Axes>"
      ]
     },
     "metadata": {},
     "output_type": "display_data"
    }
   ],
   "source": [
    "order_products['product_id'] = order_products['product_id'].astype(int)\n",
    "products['product_id'] = products['product_id'].astype(int)\n",
    "\n",
    "products_merge = order_products.merge(products)\n",
    "product_counts = products_merge['product_id'].value_counts().head(20)\n",
    "top_products = products_merge[products_merge['product_id'].isin(product_counts.index)]\n",
    "\n",
    "top_20_products = top_products.groupby(['product_id', 'product_name']).size().reset_index(name='counts').sort_values(by='counts', ascending=False).head(20)\n",
    "\n",
    "top_20_products = top_products.groupby(['product_id', 'product_name']).size().reset_index(name='counts').sort_values(by='counts', ascending=False).head(20)\n",
    "top_20_products.plot(kind = 'bar', x='product_name', y='counts')\n",
    "plt.title ('20 Productos más populares')\n",
    "plt.xlabel ('Products')\n",
    "plt.ylabel ('Ventas')\n",
    "plt.xticks(rotation=45, ha='right')\n",
    "plt.show()"
   ]
  },
  {
   "cell_type": "code",
   "execution_count": null,
   "id": "universal-facial",
   "metadata": {
    "id": "universal-facial"
   },
   "outputs": [],
   "source": []
  },
  {
   "cell_type": "markdown",
   "id": "c6e07eb4",
   "metadata": {
    "id": "bbcdd20b"
   },
   "source": [
    "<div class=\"alert alert-block alert-success\">\n",
    "<b>Comentario del revisor</b> <a class=\"tocSkip\"></a>\n",
    "\n",
    "Muy buen desarrollo de la sección. Desarrollaste de buena manera todos los análisis y lo complementaste con una gráfica. \n",
    "</div>"
   ]
  },
  {
   "cell_type": "markdown",
   "id": "7df00f47",
   "metadata": {
    "id": "7df00f47"
   },
   "source": [
    "Escribe aquí tus conclusiones"
   ]
  },
  {
   "cell_type": "markdown",
   "id": "gross-theme",
   "metadata": {
    "id": "gross-theme"
   },
   "source": [
    "# [C] Difícil (deben completarse todos para aprobar)\n",
    "\n",
    "1. ¿Cuántos artículos suelen comprar las personas en un pedido? ¿Cómo es la distribución?\n",
    "2. ¿Cuáles son los 20 principales artículos que vuelven a pedirse con mayor frecuencia (muestra sus nombres e IDs de los productos)?\n",
    "3. Para cada producto, ¿cuál es la tasa de repetición del pedido (número de repeticiones de pedido/total de pedidos?\n",
    "4. Para cada cliente, ¿qué proporción de los productos que pidió ya los había pedido? Calcula la tasa de repetición de pedido para cada usuario en lugar de para cada producto.\n",
    "5. ¿Cuáles son los 20 principales artículos que la gente pone primero en sus carritos (muestra las IDs de los productos, sus nombres, y el número de veces en que fueron el primer artículo en añadirse al carrito)?"
   ]
  },
  {
   "cell_type": "markdown",
   "id": "romantic-deposit",
   "metadata": {
    "id": "romantic-deposit"
   },
   "source": [
    "### [C1] ¿Cuántos artículos compran normalmente las personas en un pedido? ¿Cómo es la distribución?"
   ]
  },
  {
   "cell_type": "code",
   "execution_count": 205,
   "id": "virtual-punch",
   "metadata": {
    "id": "virtual-punch"
   },
   "outputs": [],
   "source": [
    "products_c1 = order_products.groupby('order_id')['product_id'].count()\n"
   ]
  },
  {
   "cell_type": "code",
   "execution_count": 206,
   "id": "sensitive-breathing",
   "metadata": {
    "id": "sensitive-breathing"
   },
   "outputs": [
    {
     "data": {
      "image/png": "[encoded data removed]",
      "text/plain": [
       "<Figure size 640x480 with 1 Axes>"
      ]
     },
     "metadata": {},
     "output_type": "display_data"
    }
   ],
   "source": [
    "products_c1.plot( kind = 'hist', x='order_id', y='counts')\n",
    "plt.title ('Cantidad de articulos de los clientes por pedido')\n",
    "plt.xlabel ('Pedidos')\n",
    "plt.ylabel ('Nro de Pedidos')\n",
    "plt.show()"
   ]
  },
  {
   "cell_type": "code",
   "execution_count": null,
   "id": "16d91219",
   "metadata": {
    "id": "completed-frank"
   },
   "outputs": [],
   "source": []
  },
  {
   "cell_type": "markdown",
   "id": "designed-mortality",
   "metadata": {
    "id": "designed-mortality"
   },
   "source": [
    "Escribe aquí tus conclusiones"
   ]
  },
  {
   "cell_type": "markdown",
   "id": "5e6b5537",
   "metadata": {
    "id": "5e6b5537"
   },
   "source": [
    "### [C2] ¿Cuáles son los 20 principales artículos que vuelven a pedirse con mayor frecuencia (muestra sus nombres e IDs de los productos)?"
   ]
  },
  {
   "cell_type": "code",
   "execution_count": 207,
   "id": "9374e55a",
   "metadata": {
    "id": "9374e55a"
   },
   "outputs": [
    {
     "name": "stdout",
     "output_type": "stream",
     "text": [
      "product_name              product_id\n",
      "Banana                    24852         55763\n",
      "Bag of Organic Bananas    13176         44450\n",
      "Organic Strawberries      21137         28639\n",
      "Organic Baby Spinach      21903         26233\n",
      "Organic Hass Avocado      47209         23629\n",
      "Organic Avocado           47766         18743\n",
      "Organic Whole Milk        27845         16251\n",
      "Large Lemon               47626         15044\n",
      "Organic Raspberries       27966         14748\n",
      "Strawberries              16797         13945\n",
      "Limes                     26209         13327\n",
      "Organic Yellow Onion      22935         11145\n",
      "Organic Garlic            24964         10411\n",
      "Organic Zucchini          45007         10076\n",
      "Cucumber Kirby            49683          9538\n",
      "Organic Fuji Apple        28204          8989\n",
      "Apple Honeycrisp Organic  8277           8836\n",
      "Organic Blueberries       39275          8799\n",
      "Organic Lemon             5876           8412\n",
      "Organic Half & Half       49235          8389\n",
      "Name: reordered, dtype: int64\n"
     ]
    }
   ],
   "source": [
    "\n",
    "\n",
    "products_c2 = products_merge.groupby(['product_name','product_id'])['reordered'].sum().sort_values(ascending = False).head(20)\n",
    "print(products_c2)"
   ]
  },
  {
   "cell_type": "code",
   "execution_count": null,
   "id": "possible-change",
   "metadata": {
    "id": "possible-change",
    "scrolled": true
   },
   "outputs": [],
   "source": []
  },
  {
   "cell_type": "code",
   "execution_count": null,
   "id": "professional-surfing",
   "metadata": {
    "id": "professional-surfing",
    "scrolled": true
   },
   "outputs": [],
   "source": []
  },
  {
   "cell_type": "code",
   "execution_count": null,
   "id": "48dd3658",
   "metadata": {
    "id": "48dd3658"
   },
   "outputs": [],
   "source": []
  },
  {
   "cell_type": "markdown",
   "id": "80e70c74",
   "metadata": {
    "id": "80e70c74"
   },
   "source": [
    "Escribe aquí tus conclusiones"
   ]
  },
  {
   "cell_type": "markdown",
   "id": "9d312b14",
   "metadata": {
    "id": "9d312b14"
   },
   "source": [
    "### [C3] Para cada producto, ¿cuál es la proporción de las veces que se pide y que se vuelve a pedir?"
   ]
  },
  {
   "cell_type": "code",
   "execution_count": 208,
   "id": "8ae9f4b1",
   "metadata": {
    "id": "8ae9f4b1"
   },
   "outputs": [],
   "source": [
    "products_c3 = products_merge.groupby(['product_name','product_id'])['reordered'].mean()"
   ]
  },
  {
   "cell_type": "code",
   "execution_count": 209,
   "id": "103e7fe1",
   "metadata": {
    "id": "103e7fe1"
   },
   "outputs": [
    {
     "name": "stdout",
     "output_type": "stream",
     "text": [
      "product_name                                                     product_id\n",
      "#2 Coffee Filters                                                25773         0.254545\n",
      "#2 Cone White Coffee Filters                                     2158          0.000000\n",
      "#2 Mechanical Pencils                                            26685         0.000000\n",
      "#4 Natural Brown Coffee Filters                                  26381         0.358974\n",
      "& Go! Hazelnut Spread + Pretzel Sticks                           20604         0.466667\n",
      "                                                                                 ...   \n",
      "with Xylitol Unwrapped Original Flavor 50 Sticks Sugar Free Gum  22381         0.000000\n",
      "with Xylitol Unwrapped Spearmint 50 Sticks Sugar Free Gum        43420         0.100000\n",
      "with Xylitol Watermelon Twist 18 Sticks Sugar Free Gum           42006         0.428571\n",
      "with a Splash of Mango Coconut Water                             8716          0.250000\n",
      "with a Splash of Pineapple Coconut Water                         2987          0.454545\n",
      "Name: reordered, Length: 45573, dtype: float64\n"
     ]
    }
   ],
   "source": [
    "print(products_c3)"
   ]
  },
  {
   "cell_type": "code",
   "execution_count": null,
   "id": "social-individual",
   "metadata": {
    "id": "social-individual"
   },
   "outputs": [],
   "source": []
  },
  {
   "cell_type": "markdown",
   "id": "I10dEIAyldcO",
   "metadata": {
    "id": "I10dEIAyldcO"
   },
   "source": [
    "Escribe aquí tus conclusiones"
   ]
  },
  {
   "cell_type": "markdown",
   "id": "subject-boxing",
   "metadata": {
    "id": "subject-boxing"
   },
   "source": [
    "### [C4] Para cada cliente, ¿qué proporción de sus productos ya los había pedido?"
   ]
  },
  {
   "cell_type": "code",
   "execution_count": 210,
   "id": "medical-couple",
   "metadata": {
    "id": "medical-couple",
    "scrolled": true
   },
   "outputs": [],
   "source": [
    "products_merge_c4 = order_products.merge(orders)\n",
    "products_c4 = products_merge_c4.groupby(['product_id','order_id'])['reordered'].mean()"
   ]
  },
  {
   "cell_type": "code",
   "execution_count": 211,
   "id": "8892e4b4",
   "metadata": {
    "id": "8892e4b4"
   },
   "outputs": [
    {
     "name": "stdout",
     "output_type": "stream",
     "text": [
      "product_id  order_id\n",
      "1           19879       0\n",
      "            24367       1\n",
      "            24760       1\n",
      "            26490       1\n",
      "            44990       1\n",
      "Name: reordered, dtype: int64\n"
     ]
    }
   ],
   "source": [
    "print(products_c4.head())"
   ]
  },
  {
   "cell_type": "markdown",
   "id": "BgJSvXDsleXz",
   "metadata": {
    "id": "BgJSvXDsleXz"
   },
   "source": [
    "Escribe aquí tus conclusiones"
   ]
  },
  {
   "cell_type": "markdown",
   "id": "92d35137",
   "metadata": {
    "id": "92d35137"
   },
   "source": [
    "### [C5] ¿Cuáles son los 20 principales artículos que las personas ponen primero en sus carritos?"
   ]
  },
  {
   "cell_type": "code",
   "execution_count": 212,
   "id": "0ae57274",
   "metadata": {
    "id": "0ae57274",
    "scrolled": true
   },
   "outputs": [],
   "source": [
    "products_c5 = products_merge.groupby(['product_id','product_name'])['product_id'].sum().sort_values(ascending = False).head(20)"
   ]
  },
  {
   "cell_type": "code",
   "execution_count": 213,
   "id": "forty-netherlands",
   "metadata": {
    "id": "forty-netherlands",
    "scrolled": true
   },
   "outputs": [
    {
     "name": "stdout",
     "output_type": "stream",
     "text": [
      "product_id  product_name              \n",
      "24852       Banana                        1641474600\n",
      "47209       Organic Hass Avocado          1405553557\n",
      "47766       Organic Avocado               1179294774\n",
      "47626       Large Lemon                   1023720870\n",
      "21137       Organic Strawberries           782893343\n",
      "21903       Organic Baby Spinach           744066813\n",
      "13176       Bag of Organic Bananas         702241272\n",
      "49683       Cucumber Kirby                 679415025\n",
      "45007       Organic Zucchini               656382088\n",
      "27845       Organic Whole Milk             545762000\n",
      "39275       Organic Blueberries            545097725\n",
      "27966       Organic Raspberries            536863302\n",
      "49235       Organic Half & Half            529374720\n",
      "26209       Limes                          516055210\n",
      "45066       Honeycrisp Apple               499736874\n",
      "40706       Organic Grape Tomatoes         479557386\n",
      "44632       Sparkling Water Grapefruit     472072664\n",
      "42265       Organic Baby Carrots           450967550\n",
      "46979       Asparagus                      438642923\n",
      "44359       Organic Small Bunch Celery     424382553\n",
      "Name: product_id, dtype: int64\n"
     ]
    }
   ],
   "source": [
    "print(products_c5)"
   ]
  },
  {
   "cell_type": "markdown",
   "id": "ab6b7494",
   "metadata": {
    "id": "08e41ec2"
   },
   "source": [
    "<div class=\"alert alert-block alert-danger\">\n",
    "<b>Comentario del revisor</b> <a class=\"tocSkip\"></a>\n",
    "\n",
    "Muy buena utilización  del filtro. Solamente te recomiendo hacer la agrupación por las variables ['product_id', 'product_name'] y posteriormente hacer el conteo de la variable ['product_id'] para saber cuáles son los 20 principales artículos que las personas ponen primero en sus carritos\n",
    "    \n",
    "</div>"
   ]
  },
  {
   "cell_type": "markdown",
   "id": "eb236d9d",
   "metadata": {
    "id": "28ce9872"
   },
   "source": [
    "<div class=\"alert alert-block alert-info\">\n",
    "<b>Corregido.</b> <a class=\"tocSkip\"></a>\n",
    "</div>"
   ]
  },
  {
   "cell_type": "markdown",
   "id": "0410b0af",
   "metadata": {},
   "source": [
    "<div class=\"alert alert-block alert-success\">\n",
    "<b>Comentario del revisor</b> <a class=\"tocSkip\"></a>\n",
    "\n",
    "Gran trabajo con los ajustes!\n",
    "</div>"
   ]
  },
  {
   "cell_type": "markdown",
   "id": "uITbFCEoDosC",
   "metadata": {
    "id": "uITbFCEoDosC"
   },
   "source": [
    "### Conclusion general del proyecto:"
   ]
  },
  {
   "cell_type": "markdown",
   "id": "6c0493bf",
   "metadata": {
    "id": "Nk-4GS7mDwqY"
   },
   "source": [
    "En este proyecto, aprendimos a manipular datos, calcular frecuencias y estadísticas descriptivas, y visualizar la distribución de datos usando pandas y matplotlib, lo cual es esencial para el análisis y presentación de datos en ciencia de datos."
   ]
  },
  {
   "cell_type": "markdown",
   "id": "b0a65041",
   "metadata": {},
   "source": [
    "<div class=\"alert alert-block alert-warning\">\n",
    "<b>Comentario revisor</b> <a class=\"tocSkip\"></a>\n",
    "\n",
    "En general creo que hiciste un muy buen trabajo con el proyecto, pudiste limpiar y trabajar las bases de datos de beuna manera, análisis de duplicados, y de valores faltantes. Además dearrollaste de buena manera los diferentes anális que se solicitaban y cuando podías los complementabas con greaficas. No obstante, recuerda que siempre podemos mejorar y te menciono algunos puntos que debes considerar:\n",
    "\n",
    "* Revisar que los filtros sean correctos en algunos apartados con base en la indicación\n",
    "    \n",
    "    \n",
    "*  Realizar análisis complementarios eliminando los valores que parecen ser atípicos. \n",
    "    \n",
    "*  Realizar gráficas de barras en algunos análisis para complementarlos.\n",
    "\n",
    "    \n",
    "*  Profundizar en los resultados intermedios y en la conclusión final.\n",
    "\n",
    "</div>\n",
    "\n",
    "\n",
    "<div class=\"alert alert-block alert-info\">\n",
    "<b>Hola Tonatiuh espero haber cumplido con los puntos a corregir, quedo pendiente. Muchas gracias!.</b> <a class=\"tocSkip\"></a>\n",
    "</div>"
   ]
  },
  {
   "cell_type": "markdown",
   "id": "1d780d66",
   "metadata": {},
   "source": [
    "<div class=\"alert alert-block alert-success\">\n",
    "<b>Comentario del revisor</b> <a class=\"tocSkip\"></a>\n",
    "\n",
    "Gran trabajo con los ajustes!  Que sigas disfrutando los siguientes cursos!\n",
    "</div>"
   ]
  }
 ],
 "metadata": {
  "ExecuteTimeLog": [
   {
    "duration": 4,
    "start_time": "2024-07-23T05:46:03.455Z"
   },
   {
    "duration": 312,
    "start_time": "2024-07-23T05:47:19.439Z"
   },
   {
    "duration": 36,
    "start_time": "2024-07-23T05:48:02.506Z"
   },
   {
    "duration": 535,
    "start_time": "2024-07-23T05:48:08.914Z"
   },
   {
    "duration": 7,
    "start_time": "2024-07-23T05:48:29.134Z"
   },
   {
    "duration": 482,
    "start_time": "2024-07-23T05:49:02.997Z"
   },
   {
    "duration": 444,
    "start_time": "2024-07-23T05:50:04.834Z"
   },
   {
    "duration": 85,
    "start_time": "2024-07-23T05:50:52.206Z"
   },
   {
    "duration": 17,
    "start_time": "2024-07-23T05:53:03.012Z"
   },
   {
    "duration": 5,
    "start_time": "2024-07-23T05:53:07.036Z"
   },
   {
    "duration": 17,
    "start_time": "2024-07-23T05:53:16.272Z"
   },
   {
    "duration": 3372,
    "start_time": "2024-07-23T05:53:24.351Z"
   },
   {
    "duration": 3315,
    "start_time": "2024-07-23T05:53:28.294Z"
   },
   {
    "duration": 3317,
    "start_time": "2024-07-23T05:53:31.837Z"
   },
   {
    "duration": 952,
    "start_time": "2024-07-25T05:54:58.032Z"
   },
   {
    "duration": 10105,
    "start_time": "2024-07-25T05:59:10.879Z"
   },
   {
    "duration": 0,
    "start_time": "2024-07-25T05:59:20.988Z"
   },
   {
    "duration": 35,
    "start_time": "2024-07-25T05:59:32.883Z"
   },
   {
    "duration": 22,
    "start_time": "2024-07-25T05:59:42.448Z"
   },
   {
    "duration": 25,
    "start_time": "2024-07-25T05:59:59.115Z"
   },
   {
    "duration": 1499,
    "start_time": "2024-07-28T03:33:19.399Z"
   },
   {
    "duration": 10221,
    "start_time": "2024-07-28T03:34:42.497Z"
   },
   {
    "duration": 10134,
    "start_time": "2024-07-28T03:35:01.912Z"
   },
   {
    "duration": 661,
    "start_time": "2024-07-28T03:43:03.378Z"
   },
   {
    "duration": 923,
    "start_time": "2024-07-28T03:43:58.152Z"
   },
   {
    "duration": 1173,
    "start_time": "2024-07-28T03:45:45.059Z"
   },
   {
    "duration": 353,
    "start_time": "2024-07-28T03:52:41.300Z"
   },
   {
    "duration": 826,
    "start_time": "2024-07-28T03:53:20.097Z"
   },
   {
    "duration": 504,
    "start_time": "2024-07-28T03:53:47.446Z"
   },
   {
    "duration": 80,
    "start_time": "2024-07-28T03:54:38.833Z"
   },
   {
    "duration": 477,
    "start_time": "2024-07-28T03:55:49.864Z"
   },
   {
    "duration": 479,
    "start_time": "2024-07-28T03:56:21.868Z"
   },
   {
    "duration": 432,
    "start_time": "2024-07-28T03:57:34.102Z"
   },
   {
    "duration": 7,
    "start_time": "2024-07-28T03:57:44.392Z"
   },
   {
    "duration": 437,
    "start_time": "2024-07-28T03:57:57.933Z"
   },
   {
    "duration": 497,
    "start_time": "2024-07-28T03:58:25.478Z"
   },
   {
    "duration": 421,
    "start_time": "2024-07-28T03:58:46.249Z"
   },
   {
    "duration": 197,
    "start_time": "2024-07-28T04:01:00.925Z"
   },
   {
    "duration": 643,
    "start_time": "2024-07-28T04:03:27.542Z"
   },
   {
    "duration": 274,
    "start_time": "2024-07-28T04:06:01.782Z"
   },
   {
    "duration": 193,
    "start_time": "2024-07-28T04:07:08.198Z"
   },
   {
    "duration": 185,
    "start_time": "2024-07-28T04:08:02.224Z"
   },
   {
    "duration": 1191,
    "start_time": "2024-07-28T04:09:27.312Z"
   },
   {
    "duration": 207,
    "start_time": "2024-07-28T04:09:46.169Z"
   },
   {
    "duration": 337,
    "start_time": "2024-07-28T04:41:49.278Z"
   },
   {
    "duration": 191,
    "start_time": "2024-07-28T04:42:07.592Z"
   },
   {
    "duration": 402,
    "start_time": "2024-07-28T04:43:00.125Z"
   },
   {
    "duration": 1107,
    "start_time": "2024-07-28T04:43:29.219Z"
   },
   {
    "duration": 205,
    "start_time": "2024-07-28T04:43:33.684Z"
   },
   {
    "duration": 330,
    "start_time": "2024-07-28T04:43:39.155Z"
   },
   {
    "duration": 420,
    "start_time": "2024-07-28T04:43:41.995Z"
   },
   {
    "duration": 717,
    "start_time": "2024-07-28T04:45:13.929Z"
   },
   {
    "duration": 598,
    "start_time": "2024-07-28T04:45:28.491Z"
   },
   {
    "duration": 79,
    "start_time": "2024-07-28T04:47:33.595Z"
   },
   {
    "duration": 565,
    "start_time": "2024-07-28T04:48:12.616Z"
   },
   {
    "duration": 540,
    "start_time": "2024-07-28T04:49:04.054Z"
   },
   {
    "duration": 476,
    "start_time": "2024-07-28T04:49:35.771Z"
   },
   {
    "duration": 27,
    "start_time": "2024-07-28T04:51:03.442Z"
   },
   {
    "duration": 18,
    "start_time": "2024-07-28T04:52:25.696Z"
   },
   {
    "duration": 7,
    "start_time": "2024-07-28T04:53:04.606Z"
   },
   {
    "duration": 9,
    "start_time": "2024-07-28T04:53:24.409Z"
   },
   {
    "duration": 7,
    "start_time": "2024-07-28T04:56:44.234Z"
   },
   {
    "duration": 307,
    "start_time": "2024-07-28T06:01:00.561Z"
   },
   {
    "duration": 1603,
    "start_time": "2024-07-28T06:01:18.224Z"
   },
   {
    "duration": 135,
    "start_time": "2024-07-28T06:01:22.428Z"
   },
   {
    "duration": 32,
    "start_time": "2024-07-28T06:01:25.915Z"
   },
   {
    "duration": 25,
    "start_time": "2024-07-28T06:01:28.770Z"
   },
   {
    "duration": 10743,
    "start_time": "2024-07-28T06:01:30.966Z"
   },
   {
    "duration": 1306,
    "start_time": "2024-07-28T06:01:47.604Z"
   },
   {
    "duration": 216,
    "start_time": "2024-07-28T06:01:50.994Z"
   },
   {
    "duration": 389,
    "start_time": "2024-07-28T06:01:53.863Z"
   },
   {
    "duration": 31,
    "start_time": "2024-07-28T06:01:57.087Z"
   },
   {
    "duration": 9,
    "start_time": "2024-07-28T06:01:59.870Z"
   },
   {
    "duration": 25,
    "start_time": "2024-07-28T06:02:01.672Z"
   },
   {
    "duration": 22,
    "start_time": "2024-07-28T06:02:16.275Z"
   },
   {
    "duration": 7,
    "start_time": "2024-07-28T06:02:34.404Z"
   },
   {
    "duration": 5,
    "start_time": "2024-07-28T06:02:41.097Z"
   },
   {
    "duration": 22,
    "start_time": "2024-07-28T06:02:48.541Z"
   },
   {
    "duration": 55,
    "start_time": "2024-07-28T06:04:13.140Z"
   },
   {
    "duration": 6,
    "start_time": "2024-07-28T06:04:18.366Z"
   },
   {
    "duration": 4,
    "start_time": "2024-07-28T06:04:22.322Z"
   },
   {
    "duration": 949,
    "start_time": "2024-07-28T06:05:22.453Z"
   },
   {
    "duration": 292,
    "start_time": "2024-07-28T06:07:05.442Z"
   },
   {
    "duration": 22,
    "start_time": "2024-07-28T06:07:10.749Z"
   },
   {
    "duration": 21,
    "start_time": "2024-07-28T06:07:12.907Z"
   },
   {
    "duration": 10652,
    "start_time": "2024-07-28T06:07:16.795Z"
   },
   {
    "duration": 1175,
    "start_time": "2024-07-28T06:07:29.907Z"
   },
   {
    "duration": 211,
    "start_time": "2024-07-28T06:07:33.318Z"
   },
   {
    "duration": 32,
    "start_time": "2024-07-28T06:07:36.906Z"
   },
   {
    "duration": 10,
    "start_time": "2024-07-28T06:07:39.648Z"
   },
   {
    "duration": 23,
    "start_time": "2024-07-28T06:07:42.905Z"
   },
   {
    "duration": 79,
    "start_time": "2024-07-28T06:07:45.089Z"
   },
   {
    "duration": 254,
    "start_time": "2024-07-28T06:07:52.447Z"
   },
   {
    "duration": 79,
    "start_time": "2024-07-28T06:09:10.244Z"
   },
   {
    "duration": 1058,
    "start_time": "2024-07-28T06:09:19.598Z"
   },
   {
    "duration": 79,
    "start_time": "2024-07-28T06:09:23.344Z"
   },
   {
    "duration": 23,
    "start_time": "2024-07-28T06:09:27.785Z"
   },
   {
    "duration": 22,
    "start_time": "2024-07-28T06:09:29.578Z"
   },
   {
    "duration": 10607,
    "start_time": "2024-07-28T06:09:32.255Z"
   },
   {
    "duration": 1156,
    "start_time": "2024-07-28T06:09:43.962Z"
   },
   {
    "duration": 201,
    "start_time": "2024-07-28T06:09:47.844Z"
   },
   {
    "duration": 345,
    "start_time": "2024-07-28T06:09:50.666Z"
   },
   {
    "duration": 29,
    "start_time": "2024-07-28T06:09:53.255Z"
   },
   {
    "duration": 11,
    "start_time": "2024-07-28T06:09:56.003Z"
   },
   {
    "duration": 25,
    "start_time": "2024-07-28T06:10:00.501Z"
   },
   {
    "duration": 7,
    "start_time": "2024-07-28T06:10:03.199Z"
   },
   {
    "duration": 74,
    "start_time": "2024-07-28T06:10:17.523Z"
   },
   {
    "duration": 9,
    "start_time": "2024-07-28T06:10:32.523Z"
   },
   {
    "duration": 7,
    "start_time": "2024-07-28T06:12:02.379Z"
   },
   {
    "duration": 5,
    "start_time": "2024-07-28T06:13:04.361Z"
   },
   {
    "duration": 7,
    "start_time": "2024-07-28T06:13:13.364Z"
   },
   {
    "duration": 13,
    "start_time": "2024-07-28T06:14:32.562Z"
   },
   {
    "duration": 309,
    "start_time": "2024-07-28T18:01:36.515Z"
   },
   {
    "duration": 1495,
    "start_time": "2024-07-28T18:01:43.954Z"
   },
   {
    "duration": 112,
    "start_time": "2024-07-28T18:01:47.897Z"
   },
   {
    "duration": 31,
    "start_time": "2024-07-28T18:01:51.133Z"
   },
   {
    "duration": 24,
    "start_time": "2024-07-28T18:01:53.171Z"
   },
   {
    "duration": 9894,
    "start_time": "2024-07-28T18:01:55.686Z"
   },
   {
    "duration": 9788,
    "start_time": "2024-07-28T18:02:06.405Z"
   },
   {
    "duration": 1234,
    "start_time": "2024-07-28T18:02:19.914Z"
   },
   {
    "duration": 209,
    "start_time": "2024-07-28T18:02:23.729Z"
   },
   {
    "duration": 379,
    "start_time": "2024-07-28T18:02:26.758Z"
   },
   {
    "duration": 30,
    "start_time": "2024-07-28T18:02:30.767Z"
   },
   {
    "duration": 9,
    "start_time": "2024-07-28T18:02:33.385Z"
   },
   {
    "duration": 12,
    "start_time": "2024-07-28T18:02:36.889Z"
   },
   {
    "duration": 878,
    "start_time": "2024-07-28T18:02:39.237Z"
   },
   {
    "duration": 22,
    "start_time": "2024-07-28T18:04:39.566Z"
   },
   {
    "duration": 36,
    "start_time": "2024-07-28T18:05:16.416Z"
   },
   {
    "duration": 18,
    "start_time": "2024-07-28T18:05:25.212Z"
   },
   {
    "duration": 81,
    "start_time": "2024-07-28T18:05:36.896Z"
   },
   {
    "duration": 11,
    "start_time": "2024-07-28T18:06:13.017Z"
   },
   {
    "duration": 10,
    "start_time": "2024-07-28T18:06:18.964Z"
   },
   {
    "duration": 30,
    "start_time": "2024-07-28T18:09:04.144Z"
   },
   {
    "duration": 5,
    "start_time": "2024-07-28T18:10:56.319Z"
   },
   {
    "duration": 26,
    "start_time": "2024-07-28T18:11:44.270Z"
   },
   {
    "duration": 24,
    "start_time": "2024-07-28T18:11:54.194Z"
   },
   {
    "duration": 6,
    "start_time": "2024-07-28T18:11:59.590Z"
   },
   {
    "duration": 9,
    "start_time": "2024-07-28T18:12:38.761Z"
   },
   {
    "duration": 7,
    "start_time": "2024-07-28T18:13:12.518Z"
   },
   {
    "duration": 24,
    "start_time": "2024-07-28T18:13:18.986Z"
   },
   {
    "duration": 25,
    "start_time": "2024-07-28T18:13:24.541Z"
   },
   {
    "duration": 6,
    "start_time": "2024-07-28T18:13:46.036Z"
   },
   {
    "duration": 25,
    "start_time": "2024-07-28T18:13:49.446Z"
   },
   {
    "duration": 8,
    "start_time": "2024-07-28T18:14:07.108Z"
   },
   {
    "duration": 9,
    "start_time": "2024-07-28T18:14:12.733Z"
   },
   {
    "duration": 10,
    "start_time": "2024-07-28T18:14:37.574Z"
   },
   {
    "duration": 10,
    "start_time": "2024-07-28T18:15:30.483Z"
   },
   {
    "duration": 7,
    "start_time": "2024-07-28T18:15:47.265Z"
   },
   {
    "duration": 20,
    "start_time": "2024-07-28T18:16:01.149Z"
   },
   {
    "duration": 9,
    "start_time": "2024-07-28T18:16:15.729Z"
   },
   {
    "duration": 10,
    "start_time": "2024-07-28T18:16:31.355Z"
   },
   {
    "duration": 5,
    "start_time": "2024-07-28T18:16:39.895Z"
   },
   {
    "duration": 28,
    "start_time": "2024-07-28T18:16:42.716Z"
   },
   {
    "duration": 32,
    "start_time": "2024-07-28T18:16:50.216Z"
   },
   {
    "duration": 7,
    "start_time": "2024-07-28T18:25:53.263Z"
   },
   {
    "duration": 15,
    "start_time": "2024-07-28T18:26:12.907Z"
   },
   {
    "duration": 16,
    "start_time": "2024-07-28T18:26:22.939Z"
   },
   {
    "duration": 77,
    "start_time": "2024-07-28T18:27:49.237Z"
   },
   {
    "duration": 72,
    "start_time": "2024-07-28T18:28:13.993Z"
   },
   {
    "duration": 6,
    "start_time": "2024-07-28T18:28:28.609Z"
   },
   {
    "duration": 74,
    "start_time": "2024-07-28T18:28:31.530Z"
   },
   {
    "duration": 81,
    "start_time": "2024-07-28T18:28:41.299Z"
   },
   {
    "duration": 80,
    "start_time": "2024-07-28T18:31:17.709Z"
   },
   {
    "duration": 75,
    "start_time": "2024-07-28T18:31:28.448Z"
   },
   {
    "duration": 78,
    "start_time": "2024-07-28T18:32:09.767Z"
   },
   {
    "duration": 75,
    "start_time": "2024-07-28T18:33:08.686Z"
   },
   {
    "duration": 148,
    "start_time": "2024-07-28T18:33:55.916Z"
   },
   {
    "duration": 24,
    "start_time": "2024-07-28T18:34:58.890Z"
   },
   {
    "duration": 24,
    "start_time": "2024-07-28T18:35:06.697Z"
   },
   {
    "duration": 2053,
    "start_time": "2024-07-28T18:35:13.148Z"
   },
   {
    "duration": 1149,
    "start_time": "2024-07-28T18:35:19.648Z"
   },
   {
    "duration": 195,
    "start_time": "2024-07-28T18:35:23.899Z"
   },
   {
    "duration": 327,
    "start_time": "2024-07-28T18:35:26.207Z"
   },
   {
    "duration": 29,
    "start_time": "2024-07-28T18:35:28.734Z"
   },
   {
    "duration": 9,
    "start_time": "2024-07-28T18:35:31.536Z"
   },
   {
    "duration": 19,
    "start_time": "2024-07-28T18:35:33.883Z"
   },
   {
    "duration": 8,
    "start_time": "2024-07-28T18:35:35.590Z"
   },
   {
    "duration": 11,
    "start_time": "2024-07-28T18:35:38.055Z"
   },
   {
    "duration": 27,
    "start_time": "2024-07-28T18:35:40.824Z"
   },
   {
    "duration": 6,
    "start_time": "2024-07-28T18:35:45.706Z"
   },
   {
    "duration": 9,
    "start_time": "2024-07-28T18:35:48.336Z"
   },
   {
    "duration": 14,
    "start_time": "2024-07-28T18:35:51.736Z"
   },
   {
    "duration": 5,
    "start_time": "2024-07-28T18:35:59.912Z"
   },
   {
    "duration": 1297,
    "start_time": "2024-07-28T18:37:43.856Z"
   },
   {
    "duration": 23,
    "start_time": "2024-07-28T18:39:16.484Z"
   },
   {
    "duration": 6,
    "start_time": "2024-07-28T18:41:13.088Z"
   },
   {
    "duration": 5,
    "start_time": "2024-07-28T18:41:32.123Z"
   },
   {
    "duration": 40,
    "start_time": "2024-07-28T18:41:43.075Z"
   },
   {
    "duration": 39,
    "start_time": "2024-07-28T18:46:04.174Z"
   },
   {
    "duration": 38,
    "start_time": "2024-07-28T18:46:16.937Z"
   },
   {
    "duration": 1978,
    "start_time": "2024-07-28T18:47:16.754Z"
   },
   {
    "duration": 36,
    "start_time": "2024-07-28T18:47:43.101Z"
   },
   {
    "duration": 1298,
    "start_time": "2024-07-28T18:49:23.488Z"
   },
   {
    "duration": 1300,
    "start_time": "2024-07-28T18:49:32.435Z"
   },
   {
    "duration": 1346,
    "start_time": "2024-07-28T18:50:54.778Z"
   },
   {
    "duration": 2744,
    "start_time": "2024-07-28T18:51:55.395Z"
   },
   {
    "duration": 2858,
    "start_time": "2024-07-28T18:52:20.421Z"
   },
   {
    "duration": 80,
    "start_time": "2024-07-28T18:59:21.142Z"
   },
   {
    "duration": 14,
    "start_time": "2024-07-28T19:00:26.343Z"
   },
   {
    "duration": 10,
    "start_time": "2024-07-28T19:03:33.612Z"
   },
   {
    "duration": 13,
    "start_time": "2024-07-28T19:03:44.493Z"
   },
   {
    "duration": 10,
    "start_time": "2024-07-28T19:03:54.521Z"
   },
   {
    "duration": 18,
    "start_time": "2024-07-28T19:04:11.856Z"
   },
   {
    "duration": 12,
    "start_time": "2024-07-28T19:51:22.970Z"
   },
   {
    "duration": 11,
    "start_time": "2024-07-28T19:51:44.713Z"
   },
   {
    "duration": 11,
    "start_time": "2024-07-28T19:52:22.823Z"
   },
   {
    "duration": 11,
    "start_time": "2024-07-28T19:52:39.012Z"
   },
   {
    "duration": 12,
    "start_time": "2024-07-28T19:54:14.128Z"
   },
   {
    "duration": 15,
    "start_time": "2024-07-28T19:56:03.510Z"
   },
   {
    "duration": 14,
    "start_time": "2024-07-28T19:57:08.709Z"
   },
   {
    "duration": 11,
    "start_time": "2024-07-28T19:57:20.288Z"
   },
   {
    "duration": 10,
    "start_time": "2024-07-28T19:57:31.064Z"
   },
   {
    "duration": 11,
    "start_time": "2024-07-28T19:57:43.755Z"
   },
   {
    "duration": 23,
    "start_time": "2024-07-28T19:58:30.129Z"
   },
   {
    "duration": 26,
    "start_time": "2024-07-28T19:58:38.329Z"
   },
   {
    "duration": 12,
    "start_time": "2024-07-28T19:58:43.121Z"
   },
   {
    "duration": 16,
    "start_time": "2024-07-28T19:59:20.339Z"
   },
   {
    "duration": 13,
    "start_time": "2024-07-28T20:01:13.009Z"
   },
   {
    "duration": 14,
    "start_time": "2024-07-28T20:12:08.982Z"
   },
   {
    "duration": 17,
    "start_time": "2024-07-28T20:12:46.830Z"
   },
   {
    "duration": 28,
    "start_time": "2024-07-28T20:17:16.516Z"
   },
   {
    "duration": 30,
    "start_time": "2024-07-28T20:17:38.582Z"
   },
   {
    "duration": 34,
    "start_time": "2024-07-28T20:18:16.047Z"
   },
   {
    "duration": 36,
    "start_time": "2024-07-28T20:19:26.252Z"
   },
   {
    "duration": 31,
    "start_time": "2024-07-28T20:19:38.810Z"
   },
   {
    "duration": 30,
    "start_time": "2024-07-28T20:19:44.330Z"
   },
   {
    "duration": 8,
    "start_time": "2024-07-28T20:52:58.079Z"
   },
   {
    "duration": 8,
    "start_time": "2024-07-28T20:53:11.724Z"
   },
   {
    "duration": 3881,
    "start_time": "2024-07-28T21:08:52.483Z"
   },
   {
    "duration": 17,
    "start_time": "2024-07-28T21:09:18.710Z"
   },
   {
    "duration": 32,
    "start_time": "2024-07-28T21:11:10.799Z"
   },
   {
    "duration": 33,
    "start_time": "2024-07-28T21:13:41.521Z"
   },
   {
    "duration": 41,
    "start_time": "2024-07-28T21:14:23.841Z"
   },
   {
    "duration": 2080,
    "start_time": "2024-07-28T21:17:53.565Z"
   },
   {
    "duration": 304,
    "start_time": "2024-07-28T21:18:52.039Z"
   },
   {
    "duration": 211,
    "start_time": "2024-07-28T21:19:40.778Z"
   },
   {
    "duration": 10,
    "start_time": "2024-07-28T21:22:35.721Z"
   },
   {
    "duration": 10,
    "start_time": "2024-07-28T21:22:52.538Z"
   },
   {
    "duration": 392,
    "start_time": "2024-07-28T21:23:16.612Z"
   },
   {
    "duration": 366,
    "start_time": "2024-07-28T21:25:36.274Z"
   },
   {
    "duration": 558,
    "start_time": "2024-07-28T21:25:46.808Z"
   },
   {
    "duration": 579,
    "start_time": "2024-07-28T21:26:47.236Z"
   },
   {
    "duration": 584,
    "start_time": "2024-07-28T21:27:04.017Z"
   },
   {
    "duration": 11,
    "start_time": "2024-07-28T21:38:55.608Z"
   },
   {
    "duration": 10,
    "start_time": "2024-07-28T21:39:15.222Z"
   },
   {
    "duration": 615,
    "start_time": "2024-07-28T21:40:41.425Z"
   },
   {
    "duration": 40,
    "start_time": "2024-07-28T21:43:44.238Z"
   },
   {
    "duration": 319,
    "start_time": "2024-07-28T21:45:44.554Z"
   },
   {
    "duration": 32,
    "start_time": "2024-07-28T21:48:16.083Z"
   },
   {
    "duration": 1510,
    "start_time": "2024-07-28T21:48:26.636Z"
   },
   {
    "duration": 118,
    "start_time": "2024-07-28T21:48:29.749Z"
   },
   {
    "duration": 38,
    "start_time": "2024-07-28T21:48:33.788Z"
   },
   {
    "duration": 2192,
    "start_time": "2024-07-28T21:48:37.020Z"
   },
   {
    "duration": 1224,
    "start_time": "2024-07-28T21:48:43.257Z"
   },
   {
    "duration": 213,
    "start_time": "2024-07-28T21:48:47.963Z"
   },
   {
    "duration": 353,
    "start_time": "2024-07-28T21:48:50.685Z"
   },
   {
    "duration": 33,
    "start_time": "2024-07-28T21:48:53.240Z"
   },
   {
    "duration": 10,
    "start_time": "2024-07-28T21:48:55.502Z"
   },
   {
    "duration": 25,
    "start_time": "2024-07-28T21:48:59.430Z"
   },
   {
    "duration": 13,
    "start_time": "2024-07-28T21:49:01.342Z"
   },
   {
    "duration": 12,
    "start_time": "2024-07-28T21:49:03.533Z"
   },
   {
    "duration": 28,
    "start_time": "2024-07-28T21:49:05.118Z"
   },
   {
    "duration": 28,
    "start_time": "2024-07-28T21:49:07.856Z"
   },
   {
    "duration": 59,
    "start_time": "2024-07-28T21:49:13.625Z"
   },
   {
    "duration": 23,
    "start_time": "2024-07-28T21:49:19.111Z"
   },
   {
    "duration": 28,
    "start_time": "2024-07-28T21:49:40.672Z"
   },
   {
    "duration": 6,
    "start_time": "2024-07-28T21:49:52.838Z"
   },
   {
    "duration": 9,
    "start_time": "2024-07-28T21:49:55.790Z"
   },
   {
    "duration": 16,
    "start_time": "2024-07-28T21:49:57.916Z"
   },
   {
    "duration": 6,
    "start_time": "2024-07-28T21:50:00.091Z"
   },
   {
    "duration": 6,
    "start_time": "2024-07-28T21:50:01.541Z"
   },
   {
    "duration": 2712,
    "start_time": "2024-07-28T21:50:04.358Z"
   },
   {
    "duration": 1267,
    "start_time": "2024-07-28T21:50:09.293Z"
   },
   {
    "duration": 12,
    "start_time": "2024-07-28T21:50:13.358Z"
   },
   {
    "duration": 5,
    "start_time": "2024-07-28T21:50:15.021Z"
   },
   {
    "duration": 15,
    "start_time": "2024-07-28T21:50:27.656Z"
   },
   {
    "duration": 12,
    "start_time": "2024-07-28T21:50:32.724Z"
   },
   {
    "duration": 5,
    "start_time": "2024-07-28T21:50:34.811Z"
   },
   {
    "duration": 10,
    "start_time": "2024-07-28T21:50:45.022Z"
   },
   {
    "duration": 18,
    "start_time": "2024-07-28T21:50:53.300Z"
   },
   {
    "duration": 17,
    "start_time": "2024-07-28T21:51:01.241Z"
   },
   {
    "duration": 17,
    "start_time": "2024-07-28T21:51:04.985Z"
   },
   {
    "duration": 33,
    "start_time": "2024-07-28T21:51:06.955Z"
   },
   {
    "duration": 34,
    "start_time": "2024-07-28T21:51:10.160Z"
   },
   {
    "duration": 916,
    "start_time": "2024-07-28T21:51:14.160Z"
   },
   {
    "duration": 967,
    "start_time": "2024-07-28T21:51:59.137Z"
   },
   {
    "duration": 1042,
    "start_time": "2024-07-28T21:52:22.604Z"
   },
   {
    "duration": 972,
    "start_time": "2024-07-28T21:52:31.083Z"
   },
   {
    "duration": 1059,
    "start_time": "2024-07-28T21:54:29.982Z"
   },
   {
    "duration": 1112,
    "start_time": "2024-07-28T21:54:47.752Z"
   },
   {
    "duration": 5,
    "start_time": "2024-07-28T21:55:54.349Z"
   },
   {
    "duration": 31,
    "start_time": "2024-07-28T21:56:02.876Z"
   },
   {
    "duration": 22,
    "start_time": "2024-07-28T21:56:13.603Z"
   },
   {
    "duration": 134,
    "start_time": "2024-07-28T21:57:11.010Z"
   },
   {
    "duration": 127,
    "start_time": "2024-07-28T21:57:20.466Z"
   },
   {
    "duration": 10,
    "start_time": "2024-07-28T21:58:32.237Z"
   },
   {
    "duration": 11,
    "start_time": "2024-07-28T21:59:05.095Z"
   },
   {
    "duration": 14,
    "start_time": "2024-07-28T22:00:10.109Z"
   },
   {
    "duration": 16,
    "start_time": "2024-07-28T22:00:35.433Z"
   },
   {
    "duration": 7,
    "start_time": "2024-07-28T22:07:26.605Z"
   },
   {
    "duration": 14,
    "start_time": "2024-07-28T22:08:30.731Z"
   },
   {
    "duration": 7,
    "start_time": "2024-07-28T22:08:38.537Z"
   },
   {
    "duration": 7,
    "start_time": "2024-07-28T22:09:01.076Z"
   },
   {
    "duration": 7,
    "start_time": "2024-07-28T22:09:22.424Z"
   },
   {
    "duration": 1128,
    "start_time": "2024-07-28T23:21:17.344Z"
   },
   {
    "duration": 263,
    "start_time": "2024-07-28T23:21:43.850Z"
   },
   {
    "duration": 1009,
    "start_time": "2024-07-28T23:45:07.992Z"
   },
   {
    "duration": 78,
    "start_time": "2024-07-28T23:45:11.477Z"
   },
   {
    "duration": 25,
    "start_time": "2024-07-28T23:45:14.258Z"
   },
   {
    "duration": 26,
    "start_time": "2024-07-28T23:45:16.602Z"
   },
   {
    "duration": 2048,
    "start_time": "2024-07-28T23:45:19.081Z"
   },
   {
    "duration": 735,
    "start_time": "2024-07-28T23:45:24.575Z"
   },
   {
    "duration": 846,
    "start_time": "2024-07-28T23:45:27.886Z"
   },
   {
    "duration": 1009,
    "start_time": "2024-07-28T23:45:41.199Z"
   },
   {
    "duration": 79,
    "start_time": "2024-07-28T23:45:44.605Z"
   },
   {
    "duration": 24,
    "start_time": "2024-07-28T23:45:47.872Z"
   },
   {
    "duration": 24,
    "start_time": "2024-07-28T23:45:51.462Z"
   },
   {
    "duration": 1983,
    "start_time": "2024-07-28T23:45:53.818Z"
   },
   {
    "duration": 767,
    "start_time": "2024-07-28T23:45:59.266Z"
   },
   {
    "duration": 78,
    "start_time": "2024-07-28T23:46:02.576Z"
   },
   {
    "duration": 317,
    "start_time": "2024-07-28T23:47:13.578Z"
   },
   {
    "duration": 77,
    "start_time": "2024-07-28T23:47:17.064Z"
   },
   {
    "duration": 27,
    "start_time": "2024-07-28T23:47:20.031Z"
   },
   {
    "duration": 23,
    "start_time": "2024-07-28T23:47:22.592Z"
   },
   {
    "duration": 1975,
    "start_time": "2024-07-28T23:47:24.540Z"
   },
   {
    "duration": 436,
    "start_time": "2024-07-28T23:47:29.498Z"
   },
   {
    "duration": 15,
    "start_time": "2024-07-28T23:47:33.812Z"
   },
   {
    "duration": 164,
    "start_time": "2024-07-28T23:47:36.618Z"
   },
   {
    "duration": 30,
    "start_time": "2024-07-28T23:47:39.538Z"
   },
   {
    "duration": 9,
    "start_time": "2024-07-28T23:47:42.203Z"
   },
   {
    "duration": 22,
    "start_time": "2024-07-28T23:47:45.455Z"
   },
   {
    "duration": 10,
    "start_time": "2024-07-28T23:47:47.320Z"
   },
   {
    "duration": 12,
    "start_time": "2024-07-28T23:47:49.527Z"
   },
   {
    "duration": 34,
    "start_time": "2024-07-28T23:47:50.867Z"
   },
   {
    "duration": 8,
    "start_time": "2024-07-28T23:47:52.963Z"
   },
   {
    "duration": 8,
    "start_time": "2024-07-28T23:47:55.431Z"
   },
   {
    "duration": 12,
    "start_time": "2024-07-28T23:48:17.018Z"
   },
   {
    "duration": 6,
    "start_time": "2024-07-28T23:48:19.747Z"
   },
   {
    "duration": 2778,
    "start_time": "2024-07-28T23:48:24.948Z"
   },
   {
    "duration": 1304,
    "start_time": "2024-07-28T23:48:30.689Z"
   },
   {
    "duration": 13,
    "start_time": "2024-07-28T23:48:35.242Z"
   },
   {
    "duration": 15,
    "start_time": "2024-07-28T23:48:42.020Z"
   },
   {
    "duration": 12,
    "start_time": "2024-07-28T23:48:48.757Z"
   },
   {
    "duration": 10,
    "start_time": "2024-07-28T23:48:53.426Z"
   },
   {
    "duration": 15,
    "start_time": "2024-07-28T23:48:56.266Z"
   },
   {
    "duration": 17,
    "start_time": "2024-07-28T23:49:00.625Z"
   },
   {
    "duration": 29,
    "start_time": "2024-07-28T23:49:02.853Z"
   },
   {
    "duration": 33,
    "start_time": "2024-07-28T23:49:05.995Z"
   },
   {
    "duration": 1028,
    "start_time": "2024-07-28T23:49:21.405Z"
   },
   {
    "duration": 137,
    "start_time": "2024-07-28T23:49:29.356Z"
   },
   {
    "duration": 11,
    "start_time": "2024-07-28T23:49:32.962Z"
   },
   {
    "duration": 16,
    "start_time": "2024-07-28T23:49:36.153Z"
   },
   {
    "duration": 310,
    "start_time": "2024-07-29T00:06:21.959Z"
   },
   {
    "duration": 77,
    "start_time": "2024-07-29T00:06:25.818Z"
   },
   {
    "duration": 78,
    "start_time": "2024-07-29T00:06:27.811Z"
   },
   {
    "duration": 26,
    "start_time": "2024-07-29T00:06:30.520Z"
   },
   {
    "duration": 24,
    "start_time": "2024-07-29T00:06:32.562Z"
   },
   {
    "duration": 25,
    "start_time": "2024-07-29T00:06:35.039Z"
   },
   {
    "duration": 1971,
    "start_time": "2024-07-29T00:06:37.846Z"
   },
   {
    "duration": 389,
    "start_time": "2024-07-29T00:06:43.373Z"
   },
   {
    "duration": 13,
    "start_time": "2024-07-29T00:06:47.261Z"
   },
   {
    "duration": 154,
    "start_time": "2024-07-29T00:06:50.707Z"
   },
   {
    "duration": 29,
    "start_time": "2024-07-29T00:06:53.018Z"
   },
   {
    "duration": 10,
    "start_time": "2024-07-29T00:06:55.884Z"
   },
   {
    "duration": 22,
    "start_time": "2024-07-29T00:06:58.153Z"
   },
   {
    "duration": 9,
    "start_time": "2024-07-29T00:07:00.263Z"
   },
   {
    "duration": 11,
    "start_time": "2024-07-29T00:07:01.825Z"
   },
   {
    "duration": 28,
    "start_time": "2024-07-29T00:07:03.417Z"
   },
   {
    "duration": 8,
    "start_time": "2024-07-29T00:07:05.310Z"
   },
   {
    "duration": 9,
    "start_time": "2024-07-29T00:07:07.415Z"
   },
   {
    "duration": 13,
    "start_time": "2024-07-29T00:07:10.332Z"
   },
   {
    "duration": 6,
    "start_time": "2024-07-29T00:07:12.406Z"
   },
   {
    "duration": 2636,
    "start_time": "2024-07-29T00:07:15.106Z"
   },
   {
    "duration": 1182,
    "start_time": "2024-07-29T00:07:17.836Z"
   },
   {
    "duration": 1221,
    "start_time": "2024-07-29T00:07:20.116Z"
   },
   {
    "duration": 13,
    "start_time": "2024-07-29T00:07:24.455Z"
   },
   {
    "duration": 15,
    "start_time": "2024-07-29T00:07:27.295Z"
   },
   {
    "duration": 12,
    "start_time": "2024-07-29T00:07:30.135Z"
   },
   {
    "duration": 11,
    "start_time": "2024-07-29T00:07:32.347Z"
   },
   {
    "duration": 14,
    "start_time": "2024-07-29T00:07:35.906Z"
   },
   {
    "duration": 16,
    "start_time": "2024-07-29T00:07:38.264Z"
   },
   {
    "duration": 30,
    "start_time": "2024-07-29T00:07:40.217Z"
   },
   {
    "duration": 32,
    "start_time": "2024-07-29T00:07:42.912Z"
   },
   {
    "duration": 1041,
    "start_time": "2024-07-29T00:07:45.827Z"
   },
   {
    "duration": 120,
    "start_time": "2024-07-29T00:07:50.382Z"
   },
   {
    "duration": 10,
    "start_time": "2024-07-29T00:07:52.714Z"
   },
   {
    "duration": 16,
    "start_time": "2024-07-29T00:07:55.540Z"
   },
   {
    "duration": 409,
    "start_time": "2024-07-29T00:08:12.801Z"
   },
   {
    "duration": 338,
    "start_time": "2024-07-29T00:09:11.364Z"
   },
   {
    "duration": 314,
    "start_time": "2024-07-29T00:09:57.754Z"
   },
   {
    "duration": 299,
    "start_time": "2024-07-29T00:10:17.772Z"
   },
   {
    "duration": 305,
    "start_time": "2024-07-29T00:22:34.367Z"
   },
   {
    "duration": 300,
    "start_time": "2024-07-29T00:22:42.669Z"
   },
   {
    "duration": 6,
    "start_time": "2024-07-29T00:29:53.883Z"
   },
   {
    "duration": 367,
    "start_time": "2024-07-29T00:35:47.790Z"
   },
   {
    "duration": 1595,
    "start_time": "2024-07-29T00:36:43.521Z"
   },
   {
    "duration": 817,
    "start_time": "2024-07-29T00:39:08.068Z"
   },
   {
    "duration": 113,
    "start_time": "2024-07-29T00:39:12.290Z"
   },
   {
    "duration": 26,
    "start_time": "2024-07-29T00:39:14.915Z"
   },
   {
    "duration": 27,
    "start_time": "2024-07-29T00:39:17.125Z"
   },
   {
    "duration": 2156,
    "start_time": "2024-07-29T00:39:19.672Z"
   },
   {
    "duration": 466,
    "start_time": "2024-07-29T00:39:25.808Z"
   },
   {
    "duration": 15,
    "start_time": "2024-07-29T00:39:29.049Z"
   },
   {
    "duration": 163,
    "start_time": "2024-07-29T00:39:32.507Z"
   },
   {
    "duration": 33,
    "start_time": "2024-07-29T00:39:35.184Z"
   },
   {
    "duration": 9,
    "start_time": "2024-07-29T00:39:37.794Z"
   },
   {
    "duration": 36,
    "start_time": "2024-07-29T00:39:40.079Z"
   },
   {
    "duration": 15,
    "start_time": "2024-07-29T00:39:42.079Z"
   },
   {
    "duration": 12,
    "start_time": "2024-07-29T00:39:43.971Z"
   },
   {
    "duration": 28,
    "start_time": "2024-07-29T00:39:46.251Z"
   },
   {
    "duration": 6,
    "start_time": "2024-07-29T00:39:48.542Z"
   },
   {
    "duration": 10,
    "start_time": "2024-07-29T00:39:50.921Z"
   },
   {
    "duration": 14,
    "start_time": "2024-07-29T00:39:53.302Z"
   },
   {
    "duration": 6,
    "start_time": "2024-07-29T00:39:55.913Z"
   },
   {
    "duration": 2736,
    "start_time": "2024-07-29T00:39:58.245Z"
   },
   {
    "duration": 1241,
    "start_time": "2024-07-29T00:40:04.785Z"
   },
   {
    "duration": 12,
    "start_time": "2024-07-29T00:40:09.560Z"
   },
   {
    "duration": 15,
    "start_time": "2024-07-29T00:40:16.260Z"
   },
   {
    "duration": 11,
    "start_time": "2024-07-29T00:40:19.938Z"
   },
   {
    "duration": 12,
    "start_time": "2024-07-29T00:40:23.836Z"
   },
   {
    "duration": 14,
    "start_time": "2024-07-29T00:40:28.772Z"
   },
   {
    "duration": 20,
    "start_time": "2024-07-29T00:40:33.728Z"
   },
   {
    "duration": 35,
    "start_time": "2024-07-29T00:40:38.230Z"
   },
   {
    "duration": 36,
    "start_time": "2024-07-29T00:40:42.022Z"
   },
   {
    "duration": 1361,
    "start_time": "2024-07-29T00:40:47.185Z"
   },
   {
    "duration": 124,
    "start_time": "2024-07-29T00:40:52.134Z"
   },
   {
    "duration": 10,
    "start_time": "2024-07-29T00:40:55.225Z"
   },
   {
    "duration": 17,
    "start_time": "2024-07-29T00:40:59.790Z"
   },
   {
    "duration": 326,
    "start_time": "2024-07-29T00:41:03.801Z"
   },
   {
    "duration": 308,
    "start_time": "2024-07-29T00:47:36.684Z"
   },
   {
    "duration": 840,
    "start_time": "2024-07-29T00:47:49.658Z"
   },
   {
    "duration": 111,
    "start_time": "2024-07-29T00:47:54.819Z"
   },
   {
    "duration": 24,
    "start_time": "2024-07-29T00:47:57.472Z"
   },
   {
    "duration": 24,
    "start_time": "2024-07-29T00:47:59.771Z"
   },
   {
    "duration": 2121,
    "start_time": "2024-07-29T00:48:02.088Z"
   },
   {
    "duration": 425,
    "start_time": "2024-07-29T00:48:07.156Z"
   },
   {
    "duration": 15,
    "start_time": "2024-07-29T00:48:10.384Z"
   },
   {
    "duration": 163,
    "start_time": "2024-07-29T00:48:13.863Z"
   },
   {
    "duration": 39,
    "start_time": "2024-07-29T00:48:16.613Z"
   },
   {
    "duration": 14,
    "start_time": "2024-07-29T00:48:19.729Z"
   },
   {
    "duration": 23,
    "start_time": "2024-07-29T00:48:22.356Z"
   },
   {
    "duration": 13,
    "start_time": "2024-07-29T00:48:24.776Z"
   },
   {
    "duration": 11,
    "start_time": "2024-07-29T00:48:26.779Z"
   },
   {
    "duration": 28,
    "start_time": "2024-07-29T00:48:28.384Z"
   },
   {
    "duration": 6,
    "start_time": "2024-07-29T00:48:31.519Z"
   },
   {
    "duration": 9,
    "start_time": "2024-07-29T00:48:33.326Z"
   },
   {
    "duration": 9,
    "start_time": "2024-07-29T00:48:36.801Z"
   },
   {
    "duration": 13,
    "start_time": "2024-07-29T00:48:39.019Z"
   },
   {
    "duration": 6,
    "start_time": "2024-07-29T00:48:41.336Z"
   },
   {
    "duration": 2721,
    "start_time": "2024-07-29T00:48:45.160Z"
   },
   {
    "duration": 2713,
    "start_time": "2024-07-29T00:48:48.571Z"
   },
   {
    "duration": 1259,
    "start_time": "2024-07-29T00:48:54.007Z"
   },
   {
    "duration": 13,
    "start_time": "2024-07-29T00:48:59.816Z"
   },
   {
    "duration": 14,
    "start_time": "2024-07-29T00:49:07.914Z"
   },
   {
    "duration": 14,
    "start_time": "2024-07-29T00:49:16.444Z"
   },
   {
    "duration": 11,
    "start_time": "2024-07-29T00:49:25.547Z"
   },
   {
    "duration": 11,
    "start_time": "2024-07-29T00:49:28.227Z"
   },
   {
    "duration": 14,
    "start_time": "2024-07-29T00:49:32.065Z"
   },
   {
    "duration": 16,
    "start_time": "2024-07-29T00:49:35.153Z"
   },
   {
    "duration": 15,
    "start_time": "2024-07-29T00:49:39.296Z"
   },
   {
    "duration": 35,
    "start_time": "2024-07-29T00:49:41.326Z"
   },
   {
    "duration": 37,
    "start_time": "2024-07-29T00:49:44.058Z"
   },
   {
    "duration": 1383,
    "start_time": "2024-07-29T00:49:52.942Z"
   },
   {
    "duration": 126,
    "start_time": "2024-07-29T00:50:05.027Z"
   },
   {
    "duration": 10,
    "start_time": "2024-07-29T00:50:11.003Z"
   },
   {
    "duration": 10,
    "start_time": "2024-07-29T00:50:15.962Z"
   },
   {
    "duration": 16,
    "start_time": "2024-07-29T00:50:19.244Z"
   },
   {
    "duration": 18,
    "start_time": "2024-07-29T00:50:24.236Z"
   },
   {
    "duration": 6,
    "start_time": "2024-07-29T00:50:27.498Z"
   },
   {
    "duration": 318,
    "start_time": "2024-07-29T00:50:30.095Z"
   },
   {
    "duration": 308,
    "start_time": "2024-07-29T00:59:57.850Z"
   },
   {
    "duration": 27,
    "start_time": "2024-07-29T01:00:24.444Z"
   },
   {
    "duration": 848,
    "start_time": "2024-07-29T01:00:32.159Z"
   },
   {
    "duration": 116,
    "start_time": "2024-07-29T01:00:35.433Z"
   },
   {
    "duration": 25,
    "start_time": "2024-07-29T01:00:38.383Z"
   },
   {
    "duration": 27,
    "start_time": "2024-07-29T01:00:40.966Z"
   },
   {
    "duration": 2109,
    "start_time": "2024-07-29T01:00:43.528Z"
   },
   {
    "duration": 740302,
    "start_time": "2024-07-29T01:00:53.192Z"
   },
   {
    "duration": 990,
    "start_time": "2024-07-29T01:25:01.734Z"
   },
   {
    "duration": 366,
    "start_time": "2024-07-29T01:27:09.217Z"
   },
   {
    "duration": 349,
    "start_time": "2024-07-29T01:28:09.865Z"
   },
   {
    "duration": 115,
    "start_time": "2024-07-29T01:28:13.259Z"
   },
   {
    "duration": 28,
    "start_time": "2024-07-29T01:28:17.273Z"
   },
   {
    "duration": 25,
    "start_time": "2024-07-29T01:28:20.161Z"
   },
   {
    "duration": 849,
    "start_time": "2024-07-29T01:28:56.780Z"
   },
   {
    "duration": 117,
    "start_time": "2024-07-29T01:29:00.412Z"
   },
   {
    "duration": 42,
    "start_time": "2024-07-29T01:29:03.783Z"
   },
   {
    "duration": 24,
    "start_time": "2024-07-29T01:29:06.646Z"
   },
   {
    "duration": 2123,
    "start_time": "2024-07-29T01:29:10.757Z"
   },
   {
    "duration": 487,
    "start_time": "2024-07-29T01:29:17.142Z"
   },
   {
    "duration": 15,
    "start_time": "2024-07-29T01:29:20.829Z"
   },
   {
    "duration": 182,
    "start_time": "2024-07-29T01:29:23.703Z"
   },
   {
    "duration": 36,
    "start_time": "2024-07-29T01:29:26.442Z"
   },
   {
    "duration": 10,
    "start_time": "2024-07-29T01:29:29.356Z"
   },
   {
    "duration": 9,
    "start_time": "2024-07-29T01:29:34.944Z"
   },
   {
    "duration": 25,
    "start_time": "2024-07-29T01:29:38.322Z"
   },
   {
    "duration": 15,
    "start_time": "2024-07-29T01:29:41.458Z"
   },
   {
    "duration": 11,
    "start_time": "2024-07-29T01:29:44.406Z"
   },
   {
    "duration": 26,
    "start_time": "2024-07-29T01:29:46.334Z"
   },
   {
    "duration": 7,
    "start_time": "2024-07-29T01:29:48.796Z"
   },
   {
    "duration": 11,
    "start_time": "2024-07-29T01:29:50.720Z"
   },
   {
    "duration": 14,
    "start_time": "2024-07-29T01:29:53.232Z"
   },
   {
    "duration": 6,
    "start_time": "2024-07-29T01:29:57.160Z"
   },
   {
    "duration": 2910,
    "start_time": "2024-07-29T01:29:59.513Z"
   },
   {
    "duration": 1310,
    "start_time": "2024-07-29T01:30:02.618Z"
   },
   {
    "duration": 1309,
    "start_time": "2024-07-29T01:30:08.378Z"
   },
   {
    "duration": 14,
    "start_time": "2024-07-29T01:30:15.447Z"
   },
   {
    "duration": 15,
    "start_time": "2024-07-29T01:30:19.966Z"
   },
   {
    "duration": 15,
    "start_time": "2024-07-29T01:30:32.916Z"
   },
   {
    "duration": 12,
    "start_time": "2024-07-29T01:30:36.685Z"
   },
   {
    "duration": 12,
    "start_time": "2024-07-29T01:34:56.453Z"
   },
   {
    "duration": 1301,
    "start_time": "2024-07-29T01:35:18.168Z"
   },
   {
    "duration": 5,
    "start_time": "2024-07-29T01:40:54.987Z"
   },
   {
    "duration": 349,
    "start_time": "2024-07-29T01:41:07.652Z"
   },
   {
    "duration": 81,
    "start_time": "2024-07-29T01:41:10.596Z"
   },
   {
    "duration": 77,
    "start_time": "2024-07-29T01:41:16.897Z"
   },
   {
    "duration": 27,
    "start_time": "2024-07-29T01:41:23.055Z"
   },
   {
    "duration": 25,
    "start_time": "2024-07-29T01:41:25.888Z"
   },
   {
    "duration": 23,
    "start_time": "2024-07-29T01:41:29.504Z"
   },
   {
    "duration": 2024,
    "start_time": "2024-07-29T01:41:32.331Z"
   },
   {
    "duration": 399,
    "start_time": "2024-07-29T01:41:46.143Z"
   },
   {
    "duration": 13,
    "start_time": "2024-07-29T01:41:51.576Z"
   },
   {
    "duration": 157,
    "start_time": "2024-07-29T01:41:54.819Z"
   },
   {
    "duration": 28,
    "start_time": "2024-07-29T01:41:57.151Z"
   },
   {
    "duration": 10,
    "start_time": "2024-07-29T01:42:00.327Z"
   },
   {
    "duration": 10,
    "start_time": "2024-07-29T01:42:27.377Z"
   },
   {
    "duration": 23,
    "start_time": "2024-07-29T01:42:41.916Z"
   },
   {
    "duration": 9,
    "start_time": "2024-07-29T01:42:43.700Z"
   },
   {
    "duration": 10,
    "start_time": "2024-07-29T01:42:46.294Z"
   },
   {
    "duration": 28,
    "start_time": "2024-07-29T01:42:48.511Z"
   },
   {
    "duration": 6,
    "start_time": "2024-07-29T01:42:50.678Z"
   },
   {
    "duration": 10,
    "start_time": "2024-07-29T01:42:53.585Z"
   },
   {
    "duration": 12,
    "start_time": "2024-07-29T01:42:55.725Z"
   },
   {
    "duration": 6,
    "start_time": "2024-07-29T01:42:59.406Z"
   },
   {
    "duration": 2821,
    "start_time": "2024-07-29T01:43:01.748Z"
   },
   {
    "duration": 1310,
    "start_time": "2024-07-29T01:43:04.574Z"
   },
   {
    "duration": 1296,
    "start_time": "2024-07-29T01:43:07.436Z"
   },
   {
    "duration": 12,
    "start_time": "2024-07-29T01:43:12.639Z"
   },
   {
    "duration": 15,
    "start_time": "2024-07-29T01:43:22.458Z"
   },
   {
    "duration": 14,
    "start_time": "2024-07-29T01:43:25.850Z"
   },
   {
    "duration": 12,
    "start_time": "2024-07-29T01:43:27.941Z"
   },
   {
    "duration": 14,
    "start_time": "2024-07-29T01:43:30.179Z"
   },
   {
    "duration": 14,
    "start_time": "2024-07-29T01:43:34.030Z"
   },
   {
    "duration": 17,
    "start_time": "2024-07-29T01:43:37.198Z"
   },
   {
    "duration": 34,
    "start_time": "2024-07-29T01:43:39.243Z"
   },
   {
    "duration": 35,
    "start_time": "2024-07-29T01:43:42.073Z"
   },
   {
    "duration": 1370,
    "start_time": "2024-07-29T01:43:45.708Z"
   },
   {
    "duration": 128,
    "start_time": "2024-07-29T01:43:49.907Z"
   },
   {
    "duration": 126,
    "start_time": "2024-07-29T01:43:52.319Z"
   },
   {
    "duration": 10,
    "start_time": "2024-07-29T01:43:54.594Z"
   },
   {
    "duration": 16,
    "start_time": "2024-07-29T01:43:57.321Z"
   },
   {
    "duration": 7,
    "start_time": "2024-07-29T01:44:00.193Z"
   },
   {
    "duration": 308,
    "start_time": "2024-07-29T01:44:03.077Z"
   },
   {
    "duration": 307,
    "start_time": "2024-07-29T01:44:05.630Z"
   },
   {
    "duration": 7,
    "start_time": "2024-07-29T01:44:09.401Z"
   },
   {
    "duration": 317,
    "start_time": "2024-08-03T17:09:46.579Z"
   },
   {
    "duration": 853,
    "start_time": "2024-08-03T17:10:09.230Z"
   },
   {
    "duration": 104,
    "start_time": "2024-08-03T17:10:10.086Z"
   },
   {
    "duration": 27,
    "start_time": "2024-08-03T17:10:10.193Z"
   },
   {
    "duration": 25,
    "start_time": "2024-08-03T17:10:10.223Z"
   },
   {
    "duration": 2121,
    "start_time": "2024-08-03T17:10:10.269Z"
   },
   {
    "duration": 495,
    "start_time": "2024-08-03T17:10:12.393Z"
   },
   {
    "duration": 16,
    "start_time": "2024-08-03T17:10:12.891Z"
   },
   {
    "duration": 207,
    "start_time": "2024-08-03T17:10:12.910Z"
   },
   {
    "duration": 48,
    "start_time": "2024-08-03T17:10:13.120Z"
   },
   {
    "duration": 9,
    "start_time": "2024-08-03T17:10:13.171Z"
   },
   {
    "duration": 22,
    "start_time": "2024-08-03T17:10:13.184Z"
   },
   {
    "duration": 13,
    "start_time": "2024-08-03T17:10:13.208Z"
   },
   {
    "duration": 52,
    "start_time": "2024-08-03T17:10:13.224Z"
   },
   {
    "duration": 27,
    "start_time": "2024-08-03T17:10:13.286Z"
   },
   {
    "duration": 6,
    "start_time": "2024-08-03T17:10:13.316Z"
   },
   {
    "duration": 48,
    "start_time": "2024-08-03T17:10:13.325Z"
   },
   {
    "duration": 13,
    "start_time": "2024-08-03T17:10:13.376Z"
   },
   {
    "duration": 6,
    "start_time": "2024-08-03T17:10:13.393Z"
   },
   {
    "duration": 2958,
    "start_time": "2024-08-03T17:10:13.403Z"
   },
   {
    "duration": 1373,
    "start_time": "2024-08-03T17:10:16.367Z"
   },
   {
    "duration": 27,
    "start_time": "2024-08-03T17:10:17.743Z"
   },
   {
    "duration": 17,
    "start_time": "2024-08-03T17:10:17.772Z"
   },
   {
    "duration": 12,
    "start_time": "2024-08-03T17:10:17.792Z"
   },
   {
    "duration": 12,
    "start_time": "2024-08-03T17:10:17.807Z"
   },
   {
    "duration": 62,
    "start_time": "2024-08-03T17:10:17.824Z"
   },
   {
    "duration": 3,
    "start_time": "2024-08-03T17:10:17.889Z"
   },
   {
    "duration": 18,
    "start_time": "2024-08-03T17:10:17.895Z"
   },
   {
    "duration": 78,
    "start_time": "2024-08-03T17:10:17.916Z"
   },
   {
    "duration": 35,
    "start_time": "2024-08-03T17:10:17.997Z"
   },
   {
    "duration": 5006,
    "start_time": "2024-08-03T17:10:18.035Z"
   },
   {
    "duration": 143,
    "start_time": "2024-08-03T17:10:23.044Z"
   },
   {
    "duration": 10,
    "start_time": "2024-08-03T17:10:23.190Z"
   },
   {
    "duration": 7,
    "start_time": "2024-08-03T17:10:23.204Z"
   },
   {
    "duration": 0,
    "start_time": "2024-08-03T17:10:23.214Z"
   },
   {
    "duration": 0,
    "start_time": "2024-08-03T17:10:23.216Z"
   },
   {
    "duration": 0,
    "start_time": "2024-08-03T17:10:23.219Z"
   },
   {
    "duration": 0,
    "start_time": "2024-08-03T17:10:23.221Z"
   },
   {
    "duration": 0,
    "start_time": "2024-08-03T17:10:23.223Z"
   },
   {
    "duration": 0,
    "start_time": "2024-08-03T17:10:23.225Z"
   },
   {
    "duration": 0,
    "start_time": "2024-08-03T17:10:23.227Z"
   },
   {
    "duration": 0,
    "start_time": "2024-08-03T17:10:23.270Z"
   },
   {
    "duration": 0,
    "start_time": "2024-08-03T17:10:23.273Z"
   },
   {
    "duration": 0,
    "start_time": "2024-08-03T17:10:23.275Z"
   },
   {
    "duration": 364,
    "start_time": "2024-08-03T17:10:54.266Z"
   },
   {
    "duration": 92,
    "start_time": "2024-08-03T17:10:54.633Z"
   },
   {
    "duration": 25,
    "start_time": "2024-08-03T17:10:54.728Z"
   },
   {
    "duration": 23,
    "start_time": "2024-08-03T17:10:54.771Z"
   },
   {
    "duration": 2059,
    "start_time": "2024-08-03T17:10:54.797Z"
   },
   {
    "duration": 450,
    "start_time": "2024-08-03T17:10:56.859Z"
   },
   {
    "duration": 13,
    "start_time": "2024-08-03T17:10:57.312Z"
   },
   {
    "duration": 206,
    "start_time": "2024-08-03T17:10:57.328Z"
   },
   {
    "duration": 42,
    "start_time": "2024-08-03T17:10:57.537Z"
   },
   {
    "duration": 9,
    "start_time": "2024-08-03T17:10:57.585Z"
   },
   {
    "duration": 22,
    "start_time": "2024-08-03T17:10:57.598Z"
   },
   {
    "duration": 49,
    "start_time": "2024-08-03T17:10:57.623Z"
   },
   {
    "duration": 13,
    "start_time": "2024-08-03T17:10:57.675Z"
   },
   {
    "duration": 30,
    "start_time": "2024-08-03T17:10:57.691Z"
   },
   {
    "duration": 6,
    "start_time": "2024-08-03T17:10:57.724Z"
   },
   {
    "duration": 10,
    "start_time": "2024-08-03T17:10:57.768Z"
   },
   {
    "duration": 14,
    "start_time": "2024-08-03T17:10:57.781Z"
   },
   {
    "duration": 6,
    "start_time": "2024-08-03T17:10:57.799Z"
   },
   {
    "duration": 2969,
    "start_time": "2024-08-03T17:10:57.808Z"
   },
   {
    "duration": 1300,
    "start_time": "2024-08-03T17:11:00.782Z"
   },
   {
    "duration": 16,
    "start_time": "2024-08-03T17:11:02.085Z"
   },
   {
    "duration": 16,
    "start_time": "2024-08-03T17:11:02.106Z"
   },
   {
    "duration": 48,
    "start_time": "2024-08-03T17:11:02.127Z"
   },
   {
    "duration": 10,
    "start_time": "2024-08-03T17:11:02.179Z"
   },
   {
    "duration": 15,
    "start_time": "2024-08-03T17:11:02.192Z"
   },
   {
    "duration": 3,
    "start_time": "2024-08-03T17:11:02.210Z"
   },
   {
    "duration": 60,
    "start_time": "2024-08-03T17:11:02.216Z"
   },
   {
    "duration": 34,
    "start_time": "2024-08-03T17:11:02.284Z"
   },
   {
    "duration": 61,
    "start_time": "2024-08-03T17:11:02.321Z"
   },
   {
    "duration": 1045,
    "start_time": "2024-08-03T17:11:02.385Z"
   },
   {
    "duration": 136,
    "start_time": "2024-08-03T17:11:03.433Z"
   },
   {
    "duration": 11,
    "start_time": "2024-08-03T17:11:03.572Z"
   },
   {
    "duration": 16,
    "start_time": "2024-08-03T17:11:03.585Z"
   },
   {
    "duration": 6,
    "start_time": "2024-08-03T17:11:03.603Z"
   },
   {
    "duration": 0,
    "start_time": "2024-08-03T17:11:03.612Z"
   },
   {
    "duration": 0,
    "start_time": "2024-08-03T17:11:03.614Z"
   },
   {
    "duration": 0,
    "start_time": "2024-08-03T17:11:03.618Z"
   },
   {
    "duration": 0,
    "start_time": "2024-08-03T17:11:03.620Z"
   },
   {
    "duration": 0,
    "start_time": "2024-08-03T17:11:03.668Z"
   },
   {
    "duration": 0,
    "start_time": "2024-08-03T17:11:03.670Z"
   },
   {
    "duration": 0,
    "start_time": "2024-08-03T17:11:03.672Z"
   },
   {
    "duration": 0,
    "start_time": "2024-08-03T17:11:03.674Z"
   },
   {
    "duration": 16,
    "start_time": "2024-08-03T17:11:25.929Z"
   },
   {
    "duration": 343,
    "start_time": "2024-08-03T17:11:34.932Z"
   },
   {
    "duration": 99,
    "start_time": "2024-08-03T17:11:35.279Z"
   },
   {
    "duration": 23,
    "start_time": "2024-08-03T17:11:35.381Z"
   },
   {
    "duration": 24,
    "start_time": "2024-08-03T17:11:35.408Z"
   },
   {
    "duration": 2043,
    "start_time": "2024-08-03T17:11:35.435Z"
   },
   {
    "duration": 472,
    "start_time": "2024-08-03T17:11:37.482Z"
   },
   {
    "duration": 32,
    "start_time": "2024-08-03T17:11:37.957Z"
   },
   {
    "duration": 193,
    "start_time": "2024-08-03T17:11:37.992Z"
   },
   {
    "duration": 31,
    "start_time": "2024-08-03T17:11:38.188Z"
   },
   {
    "duration": 9,
    "start_time": "2024-08-03T17:11:38.225Z"
   },
   {
    "duration": 54,
    "start_time": "2024-08-03T17:11:38.237Z"
   },
   {
    "duration": 9,
    "start_time": "2024-08-03T17:11:38.294Z"
   },
   {
    "duration": 11,
    "start_time": "2024-08-03T17:11:38.306Z"
   },
   {
    "duration": 71,
    "start_time": "2024-08-03T17:11:38.320Z"
   },
   {
    "duration": 7,
    "start_time": "2024-08-03T17:11:38.393Z"
   },
   {
    "duration": 9,
    "start_time": "2024-08-03T17:11:38.404Z"
   },
   {
    "duration": 54,
    "start_time": "2024-08-03T17:11:38.415Z"
   },
   {
    "duration": 9,
    "start_time": "2024-08-03T17:11:38.472Z"
   },
   {
    "duration": 2713,
    "start_time": "2024-08-03T17:11:38.485Z"
   },
   {
    "duration": 1245,
    "start_time": "2024-08-03T17:11:41.201Z"
   },
   {
    "duration": 21,
    "start_time": "2024-08-03T17:11:42.449Z"
   },
   {
    "duration": 16,
    "start_time": "2024-08-03T17:11:42.472Z"
   },
   {
    "duration": 12,
    "start_time": "2024-08-03T17:11:42.491Z"
   },
   {
    "duration": 10,
    "start_time": "2024-08-03T17:11:42.506Z"
   },
   {
    "duration": 51,
    "start_time": "2024-08-03T17:11:42.518Z"
   },
   {
    "duration": 3,
    "start_time": "2024-08-03T17:11:42.573Z"
   },
   {
    "duration": 16,
    "start_time": "2024-08-03T17:11:42.579Z"
   },
   {
    "duration": 83,
    "start_time": "2024-08-03T17:11:42.602Z"
   },
   {
    "duration": 89,
    "start_time": "2024-08-03T17:11:42.688Z"
   },
   {
    "duration": 1130,
    "start_time": "2024-08-03T17:11:42.780Z"
   },
   {
    "duration": 134,
    "start_time": "2024-08-03T17:11:43.913Z"
   },
   {
    "duration": 22,
    "start_time": "2024-08-03T17:11:44.050Z"
   },
   {
    "duration": 16,
    "start_time": "2024-08-03T17:11:44.075Z"
   },
   {
    "duration": 338,
    "start_time": "2024-08-03T17:11:44.094Z"
   },
   {
    "duration": 309,
    "start_time": "2024-08-03T17:11:44.435Z"
   },
   {
    "duration": 19,
    "start_time": "2024-08-03T17:11:44.748Z"
   },
   {
    "duration": 6,
    "start_time": "2024-08-03T17:11:44.772Z"
   },
   {
    "duration": 0,
    "start_time": "2024-08-03T17:11:44.782Z"
   },
   {
    "duration": 0,
    "start_time": "2024-08-03T17:11:44.784Z"
   },
   {
    "duration": 0,
    "start_time": "2024-08-03T17:11:44.786Z"
   },
   {
    "duration": 0,
    "start_time": "2024-08-03T17:11:44.789Z"
   },
   {
    "duration": 332,
    "start_time": "2024-08-03T17:12:10.440Z"
   },
   {
    "duration": 92,
    "start_time": "2024-08-03T17:12:10.776Z"
   },
   {
    "duration": 26,
    "start_time": "2024-08-03T17:12:10.870Z"
   },
   {
    "duration": 26,
    "start_time": "2024-08-03T17:12:10.900Z"
   },
   {
    "duration": 2014,
    "start_time": "2024-08-03T17:12:10.928Z"
   },
   {
    "duration": 422,
    "start_time": "2024-08-03T17:12:12.945Z"
   },
   {
    "duration": 15,
    "start_time": "2024-08-03T17:12:13.370Z"
   },
   {
    "duration": 176,
    "start_time": "2024-08-03T17:12:13.388Z"
   },
   {
    "duration": 29,
    "start_time": "2024-08-03T17:12:13.569Z"
   },
   {
    "duration": 10,
    "start_time": "2024-08-03T17:12:13.603Z"
   },
   {
    "duration": 56,
    "start_time": "2024-08-03T17:12:13.617Z"
   },
   {
    "duration": 9,
    "start_time": "2024-08-03T17:12:13.676Z"
   },
   {
    "duration": 12,
    "start_time": "2024-08-03T17:12:13.688Z"
   },
   {
    "duration": 67,
    "start_time": "2024-08-03T17:12:13.703Z"
   },
   {
    "duration": 6,
    "start_time": "2024-08-03T17:12:13.773Z"
   },
   {
    "duration": 11,
    "start_time": "2024-08-03T17:12:13.783Z"
   },
   {
    "duration": 13,
    "start_time": "2024-08-03T17:12:13.798Z"
   },
   {
    "duration": 6,
    "start_time": "2024-08-03T17:12:13.814Z"
   },
   {
    "duration": 2942,
    "start_time": "2024-08-03T17:12:13.869Z"
   },
   {
    "duration": 1362,
    "start_time": "2024-08-03T17:12:16.814Z"
   },
   {
    "duration": 14,
    "start_time": "2024-08-03T17:12:18.180Z"
   },
   {
    "duration": 15,
    "start_time": "2024-08-03T17:12:18.197Z"
   },
   {
    "duration": 12,
    "start_time": "2024-08-03T17:12:18.215Z"
   },
   {
    "duration": 15,
    "start_time": "2024-08-03T17:12:18.269Z"
   },
   {
    "duration": 14,
    "start_time": "2024-08-03T17:12:18.288Z"
   },
   {
    "duration": 3,
    "start_time": "2024-08-03T17:12:18.305Z"
   },
   {
    "duration": 59,
    "start_time": "2024-08-03T17:12:18.311Z"
   },
   {
    "duration": 31,
    "start_time": "2024-08-03T17:12:18.379Z"
   },
   {
    "duration": 66,
    "start_time": "2024-08-03T17:12:18.414Z"
   },
   {
    "duration": 1086,
    "start_time": "2024-08-03T17:12:18.484Z"
   },
   {
    "duration": 145,
    "start_time": "2024-08-03T17:12:19.573Z"
   },
   {
    "duration": 10,
    "start_time": "2024-08-03T17:12:19.722Z"
   },
   {
    "duration": 36,
    "start_time": "2024-08-03T17:12:19.735Z"
   },
   {
    "duration": 325,
    "start_time": "2024-08-03T17:12:19.773Z"
   },
   {
    "duration": 387,
    "start_time": "2024-08-03T17:12:20.101Z"
   },
   {
    "duration": 6,
    "start_time": "2024-08-03T17:12:20.492Z"
   },
   {
    "duration": 833,
    "start_time": "2024-08-03T17:14:56.197Z"
   },
   {
    "duration": 90,
    "start_time": "2024-08-03T17:14:57.034Z"
   },
   {
    "duration": 26,
    "start_time": "2024-08-03T17:14:57.127Z"
   },
   {
    "duration": 24,
    "start_time": "2024-08-03T17:14:57.170Z"
   },
   {
    "duration": 2094,
    "start_time": "2024-08-03T17:14:57.197Z"
   },
   {
    "duration": 482,
    "start_time": "2024-08-03T17:14:59.294Z"
   },
   {
    "duration": 17,
    "start_time": "2024-08-03T17:14:59.779Z"
   },
   {
    "duration": 209,
    "start_time": "2024-08-03T17:14:59.799Z"
   },
   {
    "duration": 42,
    "start_time": "2024-08-03T17:15:00.010Z"
   },
   {
    "duration": 9,
    "start_time": "2024-08-03T17:15:00.071Z"
   },
   {
    "duration": 26,
    "start_time": "2024-08-03T17:15:00.083Z"
   },
   {
    "duration": 14,
    "start_time": "2024-08-03T17:15:00.113Z"
   },
   {
    "duration": 11,
    "start_time": "2024-08-03T17:15:00.169Z"
   },
   {
    "duration": 27,
    "start_time": "2024-08-03T17:15:00.184Z"
   },
   {
    "duration": 6,
    "start_time": "2024-08-03T17:15:00.216Z"
   },
   {
    "duration": 46,
    "start_time": "2024-08-03T17:15:00.225Z"
   },
   {
    "duration": 14,
    "start_time": "2024-08-03T17:15:00.275Z"
   },
   {
    "duration": 5,
    "start_time": "2024-08-03T17:15:00.295Z"
   },
   {
    "duration": 2893,
    "start_time": "2024-08-03T17:15:00.304Z"
   },
   {
    "duration": 1331,
    "start_time": "2024-08-03T17:15:03.201Z"
   },
   {
    "duration": 14,
    "start_time": "2024-08-03T17:15:04.534Z"
   },
   {
    "duration": 17,
    "start_time": "2024-08-03T17:15:04.568Z"
   },
   {
    "duration": 12,
    "start_time": "2024-08-03T17:15:04.588Z"
   },
   {
    "duration": 12,
    "start_time": "2024-08-03T17:15:04.603Z"
   },
   {
    "duration": 54,
    "start_time": "2024-08-03T17:15:04.618Z"
   },
   {
    "duration": 3,
    "start_time": "2024-08-03T17:15:04.675Z"
   },
   {
    "duration": 15,
    "start_time": "2024-08-03T17:15:04.682Z"
   },
   {
    "duration": 78,
    "start_time": "2024-08-03T17:15:04.705Z"
   },
   {
    "duration": 37,
    "start_time": "2024-08-03T17:15:04.786Z"
   },
   {
    "duration": 1398,
    "start_time": "2024-08-03T17:15:04.826Z"
   },
   {
    "duration": 158,
    "start_time": "2024-08-03T17:15:06.227Z"
   },
   {
    "duration": 11,
    "start_time": "2024-08-03T17:15:06.388Z"
   },
   {
    "duration": 16,
    "start_time": "2024-08-03T17:15:06.402Z"
   },
   {
    "duration": 360,
    "start_time": "2024-08-03T17:15:06.421Z"
   },
   {
    "duration": 338,
    "start_time": "2024-08-03T17:15:06.784Z"
   },
   {
    "duration": 6,
    "start_time": "2024-08-03T17:15:07.125Z"
   },
   {
    "duration": 884,
    "start_time": "2024-08-03T17:19:31.592Z"
   },
   {
    "duration": 104,
    "start_time": "2024-08-03T17:19:32.480Z"
   },
   {
    "duration": 25,
    "start_time": "2024-08-03T17:19:32.587Z"
   },
   {
    "duration": 25,
    "start_time": "2024-08-03T17:19:32.615Z"
   },
   {
    "duration": 2193,
    "start_time": "2024-08-03T17:19:32.669Z"
   },
   {
    "duration": 504,
    "start_time": "2024-08-03T17:19:34.869Z"
   },
   {
    "duration": 15,
    "start_time": "2024-08-03T17:19:35.378Z"
   },
   {
    "duration": 208,
    "start_time": "2024-08-03T17:19:35.395Z"
   },
   {
    "duration": 35,
    "start_time": "2024-08-03T17:19:35.607Z"
   },
   {
    "duration": 31,
    "start_time": "2024-08-03T17:19:35.645Z"
   },
   {
    "duration": 23,
    "start_time": "2024-08-03T17:19:35.679Z"
   },
   {
    "duration": 13,
    "start_time": "2024-08-03T17:19:35.704Z"
   },
   {
    "duration": 52,
    "start_time": "2024-08-03T17:19:35.720Z"
   },
   {
    "duration": 30,
    "start_time": "2024-08-03T17:19:35.781Z"
   },
   {
    "duration": 7,
    "start_time": "2024-08-03T17:19:35.816Z"
   },
   {
    "duration": 47,
    "start_time": "2024-08-03T17:19:35.827Z"
   },
   {
    "duration": 17,
    "start_time": "2024-08-03T17:19:35.877Z"
   },
   {
    "duration": 7,
    "start_time": "2024-08-03T17:19:35.897Z"
   },
   {
    "duration": 2983,
    "start_time": "2024-08-03T17:19:35.908Z"
   },
   {
    "duration": 1299,
    "start_time": "2024-08-03T17:19:38.894Z"
   },
   {
    "duration": 23,
    "start_time": "2024-08-03T17:19:40.195Z"
   },
   {
    "duration": 14,
    "start_time": "2024-08-03T17:19:40.222Z"
   },
   {
    "duration": 32,
    "start_time": "2024-08-03T17:19:40.240Z"
   },
   {
    "duration": 13,
    "start_time": "2024-08-03T17:19:40.275Z"
   },
   {
    "duration": 14,
    "start_time": "2024-08-03T17:19:40.291Z"
   },
   {
    "duration": 3,
    "start_time": "2024-08-03T17:19:40.310Z"
   },
   {
    "duration": 60,
    "start_time": "2024-08-03T17:19:40.316Z"
   },
   {
    "duration": 35,
    "start_time": "2024-08-03T17:19:40.378Z"
   },
   {
    "duration": 68,
    "start_time": "2024-08-03T17:19:40.415Z"
   },
   {
    "duration": 1360,
    "start_time": "2024-08-03T17:19:40.486Z"
   },
   {
    "duration": 149,
    "start_time": "2024-08-03T17:19:41.850Z"
   },
   {
    "duration": 11,
    "start_time": "2024-08-03T17:19:42.001Z"
   },
   {
    "duration": 15,
    "start_time": "2024-08-03T17:19:42.015Z"
   },
   {
    "duration": 352,
    "start_time": "2024-08-03T17:19:42.033Z"
   },
   {
    "duration": 317,
    "start_time": "2024-08-03T17:19:42.389Z"
   },
   {
    "duration": 6,
    "start_time": "2024-08-03T17:19:42.710Z"
   },
   {
    "duration": 967,
    "start_time": "2024-08-04T23:12:09.972Z"
   },
   {
    "duration": 113,
    "start_time": "2024-08-04T23:12:10.944Z"
   },
   {
    "duration": 35,
    "start_time": "2024-08-04T23:12:11.060Z"
   },
   {
    "duration": 27,
    "start_time": "2024-08-04T23:12:11.098Z"
   },
   {
    "duration": 2193,
    "start_time": "2024-08-04T23:12:11.131Z"
   },
   {
    "duration": 590,
    "start_time": "2024-08-04T23:12:13.328Z"
   },
   {
    "duration": 16,
    "start_time": "2024-08-04T23:12:13.921Z"
   },
   {
    "duration": 235,
    "start_time": "2024-08-04T23:12:13.940Z"
   },
   {
    "duration": 43,
    "start_time": "2024-08-04T23:12:14.178Z"
   },
   {
    "duration": 10,
    "start_time": "2024-08-04T23:12:14.224Z"
   },
   {
    "duration": 53,
    "start_time": "2024-08-04T23:12:14.237Z"
   },
   {
    "duration": 14,
    "start_time": "2024-08-04T23:12:14.293Z"
   },
   {
    "duration": 11,
    "start_time": "2024-08-04T23:12:14.310Z"
   },
   {
    "duration": 65,
    "start_time": "2024-08-04T23:12:14.328Z"
   },
   {
    "duration": 6,
    "start_time": "2024-08-04T23:12:14.397Z"
   },
   {
    "duration": 9,
    "start_time": "2024-08-04T23:12:14.407Z"
   },
   {
    "duration": 14,
    "start_time": "2024-08-04T23:12:14.419Z"
   },
   {
    "duration": 55,
    "start_time": "2024-08-04T23:12:14.436Z"
   },
   {
    "duration": 3151,
    "start_time": "2024-08-04T23:12:14.494Z"
   },
   {
    "duration": 1426,
    "start_time": "2024-08-04T23:12:17.649Z"
   },
   {
    "duration": 21,
    "start_time": "2024-08-04T23:12:19.078Z"
   },
   {
    "duration": 15,
    "start_time": "2024-08-04T23:12:19.102Z"
   },
   {
    "duration": 12,
    "start_time": "2024-08-04T23:12:19.121Z"
   },
   {
    "duration": 55,
    "start_time": "2024-08-04T23:12:19.136Z"
   },
   {
    "duration": 14,
    "start_time": "2024-08-04T23:12:19.194Z"
   },
   {
    "duration": 3,
    "start_time": "2024-08-04T23:12:19.211Z"
   },
   {
    "duration": 17,
    "start_time": "2024-08-04T23:12:19.217Z"
   },
   {
    "duration": 80,
    "start_time": "2024-08-04T23:12:19.240Z"
   },
   {
    "duration": 37,
    "start_time": "2024-08-04T23:12:19.323Z"
   },
   {
    "duration": 5119,
    "start_time": "2024-08-04T23:12:19.390Z"
   },
   {
    "duration": 182,
    "start_time": "2024-08-04T23:12:24.512Z"
   },
   {
    "duration": 11,
    "start_time": "2024-08-04T23:12:24.697Z"
   },
   {
    "duration": 16,
    "start_time": "2024-08-04T23:12:24.712Z"
   },
   {
    "duration": 451,
    "start_time": "2024-08-04T23:12:24.731Z"
   },
   {
    "duration": 340,
    "start_time": "2024-08-04T23:12:25.185Z"
   },
   {
    "duration": 6,
    "start_time": "2024-08-04T23:12:25.529Z"
   },
   {
    "duration": 310,
    "start_time": "2024-08-07T03:50:26.166Z"
   },
   {
    "duration": 892,
    "start_time": "2024-08-07T03:50:37.057Z"
   },
   {
    "duration": 127,
    "start_time": "2024-08-07T03:50:37.953Z"
   },
   {
    "duration": 29,
    "start_time": "2024-08-07T03:50:38.084Z"
   },
   {
    "duration": 31,
    "start_time": "2024-08-07T03:50:38.126Z"
   },
   {
    "duration": 2141,
    "start_time": "2024-08-07T03:50:38.161Z"
   },
   {
    "duration": 475,
    "start_time": "2024-08-07T03:50:40.305Z"
   },
   {
    "duration": 15,
    "start_time": "2024-08-07T03:50:40.783Z"
   },
   {
    "duration": 214,
    "start_time": "2024-08-07T03:50:40.801Z"
   },
   {
    "duration": 48,
    "start_time": "2024-08-07T03:50:41.018Z"
   },
   {
    "duration": 10,
    "start_time": "2024-08-07T03:50:41.073Z"
   },
   {
    "duration": 49,
    "start_time": "2024-08-07T03:50:41.086Z"
   },
   {
    "duration": 13,
    "start_time": "2024-08-07T03:50:41.138Z"
   },
   {
    "duration": 11,
    "start_time": "2024-08-07T03:50:41.154Z"
   },
   {
    "duration": 14,
    "start_time": "2024-08-07T03:50:41.167Z"
   },
   {
    "duration": 6,
    "start_time": "2024-08-07T03:50:41.227Z"
   },
   {
    "duration": 9,
    "start_time": "2024-08-07T03:50:41.237Z"
   },
   {
    "duration": 14,
    "start_time": "2024-08-07T03:50:41.249Z"
   },
   {
    "duration": 7,
    "start_time": "2024-08-07T03:50:41.266Z"
   },
   {
    "duration": 2882,
    "start_time": "2024-08-07T03:50:41.276Z"
   },
   {
    "duration": 1315,
    "start_time": "2024-08-07T03:50:44.161Z"
   },
   {
    "duration": 13,
    "start_time": "2024-08-07T03:50:45.479Z"
   },
   {
    "duration": 31,
    "start_time": "2024-08-07T03:50:45.497Z"
   },
   {
    "duration": 13,
    "start_time": "2024-08-07T03:50:45.531Z"
   },
   {
    "duration": 11,
    "start_time": "2024-08-07T03:50:45.547Z"
   },
   {
    "duration": 13,
    "start_time": "2024-08-07T03:50:45.560Z"
   },
   {
    "duration": 50,
    "start_time": "2024-08-07T03:50:45.576Z"
   },
   {
    "duration": 17,
    "start_time": "2024-08-07T03:50:45.629Z"
   },
   {
    "duration": 34,
    "start_time": "2024-08-07T03:50:45.654Z"
   },
   {
    "duration": 36,
    "start_time": "2024-08-07T03:50:45.726Z"
   },
   {
    "duration": 5042,
    "start_time": "2024-08-07T03:50:45.766Z"
   },
   {
    "duration": 148,
    "start_time": "2024-08-07T03:50:50.811Z"
   },
   {
    "duration": 10,
    "start_time": "2024-08-07T03:50:50.962Z"
   },
   {
    "duration": 15,
    "start_time": "2024-08-07T03:50:50.975Z"
   },
   {
    "duration": 344,
    "start_time": "2024-08-07T03:50:50.994Z"
   },
   {
    "duration": 317,
    "start_time": "2024-08-07T03:50:51.341Z"
   },
   {
    "duration": 6,
    "start_time": "2024-08-07T03:50:51.661Z"
   },
   {
    "duration": 928,
    "start_time": "2024-08-07T04:16:26.928Z"
   },
   {
    "duration": 118,
    "start_time": "2024-08-07T04:16:27.860Z"
   },
   {
    "duration": 28,
    "start_time": "2024-08-07T04:16:27.981Z"
   },
   {
    "duration": 36,
    "start_time": "2024-08-07T04:16:28.015Z"
   },
   {
    "duration": 2121,
    "start_time": "2024-08-07T04:16:28.054Z"
   },
   {
    "duration": 449,
    "start_time": "2024-08-07T04:16:30.178Z"
   },
   {
    "duration": 15,
    "start_time": "2024-08-07T04:16:30.630Z"
   },
   {
    "duration": 186,
    "start_time": "2024-08-07T04:16:30.648Z"
   },
   {
    "duration": 33,
    "start_time": "2024-08-07T04:16:30.837Z"
   },
   {
    "duration": 9,
    "start_time": "2024-08-07T04:16:30.876Z"
   },
   {
    "duration": 56,
    "start_time": "2024-08-07T04:16:30.889Z"
   },
   {
    "duration": 14,
    "start_time": "2024-08-07T04:16:30.948Z"
   },
   {
    "duration": 11,
    "start_time": "2024-08-07T04:16:30.965Z"
   },
   {
    "duration": 51,
    "start_time": "2024-08-07T04:16:30.979Z"
   },
   {
    "duration": 8,
    "start_time": "2024-08-07T04:16:31.032Z"
   },
   {
    "duration": 9,
    "start_time": "2024-08-07T04:16:31.044Z"
   },
   {
    "duration": 13,
    "start_time": "2024-08-07T04:16:31.056Z"
   },
   {
    "duration": 54,
    "start_time": "2024-08-07T04:16:31.072Z"
   },
   {
    "duration": 2717,
    "start_time": "2024-08-07T04:16:31.129Z"
   },
   {
    "duration": 1245,
    "start_time": "2024-08-07T04:16:33.848Z"
   },
   {
    "duration": 13,
    "start_time": "2024-08-07T04:16:35.096Z"
   },
   {
    "duration": 15,
    "start_time": "2024-08-07T04:16:35.126Z"
   },
   {
    "duration": 14,
    "start_time": "2024-08-07T04:16:35.144Z"
   },
   {
    "duration": 12,
    "start_time": "2024-08-07T04:16:35.161Z"
   },
   {
    "duration": 60,
    "start_time": "2024-08-07T04:16:35.175Z"
   },
   {
    "duration": 3,
    "start_time": "2024-08-07T04:16:35.238Z"
   },
   {
    "duration": 16,
    "start_time": "2024-08-07T04:16:35.245Z"
   },
   {
    "duration": 75,
    "start_time": "2024-08-07T04:16:35.268Z"
   },
   {
    "duration": 36,
    "start_time": "2024-08-07T04:16:35.346Z"
   },
   {
    "duration": 1383,
    "start_time": "2024-08-07T04:16:35.385Z"
   },
   {
    "duration": 136,
    "start_time": "2024-08-07T04:16:36.771Z"
   },
   {
    "duration": 22,
    "start_time": "2024-08-07T04:16:36.910Z"
   },
   {
    "duration": 15,
    "start_time": "2024-08-07T04:16:36.935Z"
   },
   {
    "duration": 344,
    "start_time": "2024-08-07T04:16:36.954Z"
   },
   {
    "duration": 341,
    "start_time": "2024-08-07T04:16:37.301Z"
   },
   {
    "duration": 6,
    "start_time": "2024-08-07T04:16:37.646Z"
   },
   {
    "duration": 858,
    "start_time": "2024-08-07T04:19:40.308Z"
   },
   {
    "duration": 136,
    "start_time": "2024-08-07T04:19:41.170Z"
   },
   {
    "duration": 24,
    "start_time": "2024-08-07T04:19:41.309Z"
   },
   {
    "duration": 24,
    "start_time": "2024-08-07T04:19:41.337Z"
   },
   {
    "duration": 2087,
    "start_time": "2024-08-07T04:19:41.363Z"
   },
   {
    "duration": 444,
    "start_time": "2024-08-07T04:19:43.452Z"
   },
   {
    "duration": 26,
    "start_time": "2024-08-07T04:19:43.900Z"
   },
   {
    "duration": 177,
    "start_time": "2024-08-07T04:19:43.929Z"
   },
   {
    "duration": 47,
    "start_time": "2024-08-07T04:19:44.109Z"
   },
   {
    "duration": 12,
    "start_time": "2024-08-07T04:19:44.163Z"
   },
   {
    "duration": 53,
    "start_time": "2024-08-07T04:19:44.178Z"
   },
   {
    "duration": 15,
    "start_time": "2024-08-07T04:19:44.234Z"
   },
   {
    "duration": 11,
    "start_time": "2024-08-07T04:19:44.251Z"
   },
   {
    "duration": 13,
    "start_time": "2024-08-07T04:19:44.266Z"
   },
   {
    "duration": 48,
    "start_time": "2024-08-07T04:19:44.282Z"
   },
   {
    "duration": 10,
    "start_time": "2024-08-07T04:19:44.332Z"
   },
   {
    "duration": 14,
    "start_time": "2024-08-07T04:19:44.345Z"
   },
   {
    "duration": 6,
    "start_time": "2024-08-07T04:19:44.362Z"
   },
   {
    "duration": 2756,
    "start_time": "2024-08-07T04:19:44.370Z"
   },
   {
    "duration": 1293,
    "start_time": "2024-08-07T04:19:47.128Z"
   },
   {
    "duration": 14,
    "start_time": "2024-08-07T04:19:48.428Z"
   },
   {
    "duration": 17,
    "start_time": "2024-08-07T04:19:48.445Z"
   },
   {
    "duration": 14,
    "start_time": "2024-08-07T04:19:48.465Z"
   },
   {
    "duration": 52,
    "start_time": "2024-08-07T04:19:48.482Z"
   },
   {
    "duration": 14,
    "start_time": "2024-08-07T04:19:48.537Z"
   },
   {
    "duration": 3,
    "start_time": "2024-08-07T04:19:48.555Z"
   },
   {
    "duration": 16,
    "start_time": "2024-08-07T04:19:48.561Z"
   },
   {
    "duration": 33,
    "start_time": "2024-08-07T04:19:48.634Z"
   },
   {
    "duration": 60,
    "start_time": "2024-08-07T04:19:48.670Z"
   },
   {
    "duration": 1377,
    "start_time": "2024-08-07T04:19:48.733Z"
   },
   {
    "duration": 147,
    "start_time": "2024-08-07T04:19:50.113Z"
   },
   {
    "duration": 11,
    "start_time": "2024-08-07T04:19:50.264Z"
   },
   {
    "duration": 16,
    "start_time": "2024-08-07T04:19:50.278Z"
   },
   {
    "duration": 329,
    "start_time": "2024-08-07T04:19:50.325Z"
   },
   {
    "duration": 316,
    "start_time": "2024-08-07T04:19:50.658Z"
   },
   {
    "duration": 918,
    "start_time": "2024-08-07T04:22:43.691Z"
   },
   {
    "duration": 120,
    "start_time": "2024-08-07T04:22:44.612Z"
   },
   {
    "duration": 24,
    "start_time": "2024-08-07T04:22:44.735Z"
   },
   {
    "duration": 24,
    "start_time": "2024-08-07T04:22:44.763Z"
   },
   {
    "duration": 2065,
    "start_time": "2024-08-07T04:22:44.790Z"
   },
   {
    "duration": 431,
    "start_time": "2024-08-07T04:22:46.859Z"
   },
   {
    "duration": 15,
    "start_time": "2024-08-07T04:22:47.293Z"
   },
   {
    "duration": 177,
    "start_time": "2024-08-07T04:22:47.326Z"
   },
   {
    "duration": 52,
    "start_time": "2024-08-07T04:22:47.507Z"
   },
   {
    "duration": 10,
    "start_time": "2024-08-07T04:22:47.566Z"
   },
   {
    "duration": 57,
    "start_time": "2024-08-07T04:22:47.579Z"
   },
   {
    "duration": 14,
    "start_time": "2024-08-07T04:22:47.639Z"
   },
   {
    "duration": 11,
    "start_time": "2024-08-07T04:22:47.656Z"
   },
   {
    "duration": 14,
    "start_time": "2024-08-07T04:22:47.670Z"
   },
   {
    "duration": 45,
    "start_time": "2024-08-07T04:22:47.687Z"
   },
   {
    "duration": 12,
    "start_time": "2024-08-07T04:22:47.735Z"
   },
   {
    "duration": 19,
    "start_time": "2024-08-07T04:22:47.750Z"
   },
   {
    "duration": 54,
    "start_time": "2024-08-07T04:22:47.772Z"
   },
   {
    "duration": 2735,
    "start_time": "2024-08-07T04:22:47.831Z"
   },
   {
    "duration": 1274,
    "start_time": "2024-08-07T04:22:50.569Z"
   },
   {
    "duration": 15,
    "start_time": "2024-08-07T04:22:51.846Z"
   },
   {
    "duration": 19,
    "start_time": "2024-08-07T04:22:51.863Z"
   },
   {
    "duration": 41,
    "start_time": "2024-08-07T04:22:51.885Z"
   },
   {
    "duration": 11,
    "start_time": "2024-08-07T04:22:51.929Z"
   },
   {
    "duration": 14,
    "start_time": "2024-08-07T04:22:51.943Z"
   },
   {
    "duration": 3,
    "start_time": "2024-08-07T04:22:51.959Z"
   },
   {
    "duration": 64,
    "start_time": "2024-08-07T04:22:51.966Z"
   },
   {
    "duration": 33,
    "start_time": "2024-08-07T04:22:52.039Z"
   },
   {
    "duration": 63,
    "start_time": "2024-08-07T04:22:52.075Z"
   },
   {
    "duration": 1346,
    "start_time": "2024-08-07T04:22:52.141Z"
   },
   {
    "duration": 145,
    "start_time": "2024-08-07T04:22:53.490Z"
   },
   {
    "duration": 11,
    "start_time": "2024-08-07T04:22:53.637Z"
   },
   {
    "duration": 15,
    "start_time": "2024-08-07T04:22:53.651Z"
   },
   {
    "duration": 361,
    "start_time": "2024-08-07T04:22:53.669Z"
   },
   {
    "duration": 329,
    "start_time": "2024-08-07T04:22:54.033Z"
   },
   {
    "duration": 249,
    "start_time": "2024-08-07T04:22:54.365Z"
   },
   {
    "duration": 11,
    "start_time": "2024-08-07T04:22:54.617Z"
   },
   {
    "duration": 1418,
    "start_time": "2024-08-07T04:22:54.630Z"
   },
   {
    "duration": 0,
    "start_time": "2024-08-07T04:22:56.052Z"
   },
   {
    "duration": 0,
    "start_time": "2024-08-07T04:22:56.054Z"
   },
   {
    "duration": 0,
    "start_time": "2024-08-07T04:22:56.056Z"
   },
   {
    "duration": 0,
    "start_time": "2024-08-07T04:22:56.058Z"
   },
   {
    "duration": 0,
    "start_time": "2024-08-07T04:22:56.060Z"
   },
   {
    "duration": 0,
    "start_time": "2024-08-07T04:22:56.062Z"
   },
   {
    "duration": 0,
    "start_time": "2024-08-07T04:22:56.064Z"
   },
   {
    "duration": 0,
    "start_time": "2024-08-07T04:22:56.065Z"
   },
   {
    "duration": 0,
    "start_time": "2024-08-07T04:22:56.067Z"
   },
   {
    "duration": 0,
    "start_time": "2024-08-07T04:22:56.072Z"
   },
   {
    "duration": 0,
    "start_time": "2024-08-07T04:22:56.074Z"
   },
   {
    "duration": 0,
    "start_time": "2024-08-07T04:22:56.076Z"
   },
   {
    "duration": 353,
    "start_time": "2024-08-07T04:31:31.585Z"
   },
   {
    "duration": 87,
    "start_time": "2024-08-07T04:31:31.942Z"
   },
   {
    "duration": 25,
    "start_time": "2024-08-07T04:31:32.032Z"
   },
   {
    "duration": 24,
    "start_time": "2024-08-07T04:31:32.063Z"
   },
   {
    "duration": 2047,
    "start_time": "2024-08-07T04:31:32.090Z"
   },
   {
    "duration": 437,
    "start_time": "2024-08-07T04:31:34.140Z"
   },
   {
    "duration": 14,
    "start_time": "2024-08-07T04:31:34.580Z"
   },
   {
    "duration": 180,
    "start_time": "2024-08-07T04:31:34.597Z"
   },
   {
    "duration": 45,
    "start_time": "2024-08-07T04:31:34.780Z"
   },
   {
    "duration": 8,
    "start_time": "2024-08-07T04:31:34.832Z"
   },
   {
    "duration": 23,
    "start_time": "2024-08-07T04:31:34.843Z"
   },
   {
    "duration": 8,
    "start_time": "2024-08-07T04:31:34.870Z"
   },
   {
    "duration": 10,
    "start_time": "2024-08-07T04:31:34.926Z"
   },
   {
    "duration": 15,
    "start_time": "2024-08-07T04:31:34.939Z"
   },
   {
    "duration": 7,
    "start_time": "2024-08-07T04:31:34.957Z"
   },
   {
    "duration": 9,
    "start_time": "2024-08-07T04:31:34.968Z"
   },
   {
    "duration": 57,
    "start_time": "2024-08-07T04:31:34.980Z"
   },
   {
    "duration": 6,
    "start_time": "2024-08-07T04:31:35.040Z"
   },
   {
    "duration": 2838,
    "start_time": "2024-08-07T04:31:35.049Z"
   },
   {
    "duration": 1318,
    "start_time": "2024-08-07T04:31:37.890Z"
   },
   {
    "duration": 20,
    "start_time": "2024-08-07T04:31:39.213Z"
   },
   {
    "duration": 15,
    "start_time": "2024-08-07T04:31:39.236Z"
   },
   {
    "duration": 11,
    "start_time": "2024-08-07T04:31:39.254Z"
   },
   {
    "duration": 10,
    "start_time": "2024-08-07T04:31:39.269Z"
   },
   {
    "duration": 59,
    "start_time": "2024-08-07T04:31:39.282Z"
   },
   {
    "duration": 4,
    "start_time": "2024-08-07T04:31:39.346Z"
   },
   {
    "duration": 20,
    "start_time": "2024-08-07T04:31:39.353Z"
   },
   {
    "duration": 70,
    "start_time": "2024-08-07T04:31:39.381Z"
   },
   {
    "duration": 35,
    "start_time": "2024-08-07T04:31:39.454Z"
   },
   {
    "duration": 1161,
    "start_time": "2024-08-07T04:31:39.492Z"
   },
   {
    "duration": 136,
    "start_time": "2024-08-07T04:31:40.657Z"
   },
   {
    "duration": 11,
    "start_time": "2024-08-07T04:31:40.796Z"
   },
   {
    "duration": 16,
    "start_time": "2024-08-07T04:31:40.826Z"
   },
   {
    "duration": 338,
    "start_time": "2024-08-07T04:31:40.845Z"
   },
   {
    "duration": 325,
    "start_time": "2024-08-07T04:31:41.189Z"
   },
   {
    "duration": 246,
    "start_time": "2024-08-07T04:31:41.517Z"
   },
   {
    "duration": 6,
    "start_time": "2024-08-07T04:31:41.766Z"
   },
   {
    "duration": 442,
    "start_time": "2024-08-07T04:31:41.775Z"
   },
   {
    "duration": 0,
    "start_time": "2024-08-07T04:31:42.226Z"
   },
   {
    "duration": 0,
    "start_time": "2024-08-07T04:31:42.228Z"
   },
   {
    "duration": 0,
    "start_time": "2024-08-07T04:31:42.231Z"
   },
   {
    "duration": 0,
    "start_time": "2024-08-07T04:31:42.234Z"
   },
   {
    "duration": 0,
    "start_time": "2024-08-07T04:31:42.236Z"
   },
   {
    "duration": 0,
    "start_time": "2024-08-07T04:31:42.238Z"
   },
   {
    "duration": 0,
    "start_time": "2024-08-07T04:31:42.240Z"
   },
   {
    "duration": 0,
    "start_time": "2024-08-07T04:31:42.243Z"
   },
   {
    "duration": 0,
    "start_time": "2024-08-07T04:31:42.244Z"
   },
   {
    "duration": 0,
    "start_time": "2024-08-07T04:31:42.246Z"
   },
   {
    "duration": 0,
    "start_time": "2024-08-07T04:31:42.248Z"
   },
   {
    "duration": 0,
    "start_time": "2024-08-07T04:31:42.249Z"
   },
   {
    "duration": 374,
    "start_time": "2024-08-07T04:35:37.495Z"
   },
   {
    "duration": 574,
    "start_time": "2024-08-07T04:36:49.363Z"
   },
   {
    "duration": 1543,
    "start_time": "2024-08-07T04:39:32.971Z"
   },
   {
    "duration": 498,
    "start_time": "2024-08-07T04:40:02.804Z"
   },
   {
    "duration": 263,
    "start_time": "2024-08-07T04:40:04.154Z"
   },
   {
    "duration": 783,
    "start_time": "2024-08-07T04:40:20.296Z"
   },
   {
    "duration": 255,
    "start_time": "2024-08-07T04:40:21.319Z"
   },
   {
    "duration": 138,
    "start_time": "2024-08-07T04:40:54.100Z"
   },
   {
    "duration": 742,
    "start_time": "2024-08-07T04:41:20.137Z"
   },
   {
    "duration": 733,
    "start_time": "2024-08-07T04:41:33.851Z"
   },
   {
    "duration": 736,
    "start_time": "2024-08-07T04:42:31.605Z"
   },
   {
    "duration": 840,
    "start_time": "2024-08-07T04:42:44.465Z"
   },
   {
    "duration": 112,
    "start_time": "2024-08-07T04:42:45.309Z"
   },
   {
    "duration": 25,
    "start_time": "2024-08-07T04:42:45.424Z"
   },
   {
    "duration": 24,
    "start_time": "2024-08-07T04:42:45.453Z"
   },
   {
    "duration": 2092,
    "start_time": "2024-08-07T04:42:45.480Z"
   },
   {
    "duration": 456,
    "start_time": "2024-08-07T04:42:47.575Z"
   },
   {
    "duration": 14,
    "start_time": "2024-08-07T04:42:48.035Z"
   },
   {
    "duration": 204,
    "start_time": "2024-08-07T04:42:48.052Z"
   },
   {
    "duration": 33,
    "start_time": "2024-08-07T04:42:48.258Z"
   },
   {
    "duration": 9,
    "start_time": "2024-08-07T04:42:48.296Z"
   },
   {
    "duration": 27,
    "start_time": "2024-08-07T04:42:48.328Z"
   },
   {
    "duration": 13,
    "start_time": "2024-08-07T04:42:48.358Z"
   },
   {
    "duration": 52,
    "start_time": "2024-08-07T04:42:48.374Z"
   },
   {
    "duration": 14,
    "start_time": "2024-08-07T04:42:48.430Z"
   },
   {
    "duration": 7,
    "start_time": "2024-08-07T04:42:48.447Z"
   },
   {
    "duration": 9,
    "start_time": "2024-08-07T04:42:48.457Z"
   },
   {
    "duration": 58,
    "start_time": "2024-08-07T04:42:48.469Z"
   },
   {
    "duration": 6,
    "start_time": "2024-08-07T04:42:48.530Z"
   },
   {
    "duration": 2750,
    "start_time": "2024-08-07T04:42:48.539Z"
   },
   {
    "duration": 1278,
    "start_time": "2024-08-07T04:42:51.293Z"
   },
   {
    "duration": 13,
    "start_time": "2024-08-07T04:42:52.574Z"
   },
   {
    "duration": 38,
    "start_time": "2024-08-07T04:42:52.590Z"
   },
   {
    "duration": 12,
    "start_time": "2024-08-07T04:42:52.631Z"
   },
   {
    "duration": 10,
    "start_time": "2024-08-07T04:42:52.646Z"
   },
   {
    "duration": 14,
    "start_time": "2024-08-07T04:42:52.659Z"
   },
   {
    "duration": 51,
    "start_time": "2024-08-07T04:42:52.675Z"
   },
   {
    "duration": 17,
    "start_time": "2024-08-07T04:42:52.728Z"
   },
   {
    "duration": 35,
    "start_time": "2024-08-07T04:42:52.752Z"
   },
   {
    "duration": 70,
    "start_time": "2024-08-07T04:42:52.789Z"
   },
   {
    "duration": 1381,
    "start_time": "2024-08-07T04:42:52.861Z"
   },
   {
    "duration": 147,
    "start_time": "2024-08-07T04:42:54.246Z"
   },
   {
    "duration": 10,
    "start_time": "2024-08-07T04:42:54.396Z"
   },
   {
    "duration": 30,
    "start_time": "2024-08-07T04:42:54.409Z"
   },
   {
    "duration": 335,
    "start_time": "2024-08-07T04:42:54.442Z"
   },
   {
    "duration": 319,
    "start_time": "2024-08-07T04:42:54.780Z"
   },
   {
    "duration": 247,
    "start_time": "2024-08-07T04:42:55.102Z"
   },
   {
    "duration": 1835,
    "start_time": "2024-08-07T04:42:55.352Z"
   },
   {
    "duration": 525,
    "start_time": "2024-08-07T04:42:57.189Z"
   },
   {
    "duration": 279,
    "start_time": "2024-08-07T04:42:57.717Z"
   },
   {
    "duration": 1744,
    "start_time": "2024-08-07T04:42:57.999Z"
   },
   {
    "duration": 0,
    "start_time": "2024-08-07T04:42:59.746Z"
   },
   {
    "duration": 0,
    "start_time": "2024-08-07T04:42:59.748Z"
   },
   {
    "duration": 0,
    "start_time": "2024-08-07T04:42:59.750Z"
   },
   {
    "duration": 0,
    "start_time": "2024-08-07T04:42:59.753Z"
   },
   {
    "duration": 0,
    "start_time": "2024-08-07T04:42:59.755Z"
   },
   {
    "duration": 0,
    "start_time": "2024-08-07T04:42:59.757Z"
   },
   {
    "duration": 0,
    "start_time": "2024-08-07T04:42:59.760Z"
   },
   {
    "duration": 0,
    "start_time": "2024-08-07T04:42:59.761Z"
   },
   {
    "duration": 812,
    "start_time": "2024-08-07T04:45:09.991Z"
   },
   {
    "duration": 94,
    "start_time": "2024-08-07T04:45:10.807Z"
   },
   {
    "duration": 34,
    "start_time": "2024-08-07T04:45:10.903Z"
   },
   {
    "duration": 29,
    "start_time": "2024-08-07T04:45:10.940Z"
   },
   {
    "duration": 2019,
    "start_time": "2024-08-07T04:45:10.974Z"
   },
   {
    "duration": 487,
    "start_time": "2024-08-07T04:45:12.996Z"
   },
   {
    "duration": 14,
    "start_time": "2024-08-07T04:45:13.486Z"
   },
   {
    "duration": 202,
    "start_time": "2024-08-07T04:45:13.503Z"
   },
   {
    "duration": 42,
    "start_time": "2024-08-07T04:45:13.708Z"
   },
   {
    "duration": 10,
    "start_time": "2024-08-07T04:45:13.753Z"
   },
   {
    "duration": 22,
    "start_time": "2024-08-07T04:45:13.766Z"
   },
   {
    "duration": 41,
    "start_time": "2024-08-07T04:45:13.792Z"
   },
   {
    "duration": 12,
    "start_time": "2024-08-07T04:45:13.836Z"
   },
   {
    "duration": 12,
    "start_time": "2024-08-07T04:45:13.856Z"
   },
   {
    "duration": 7,
    "start_time": "2024-08-07T04:45:13.872Z"
   },
   {
    "duration": 10,
    "start_time": "2024-08-07T04:45:13.927Z"
   },
   {
    "duration": 14,
    "start_time": "2024-08-07T04:45:13.940Z"
   },
   {
    "duration": 6,
    "start_time": "2024-08-07T04:45:13.957Z"
   },
   {
    "duration": 2890,
    "start_time": "2024-08-07T04:45:13.966Z"
   },
   {
    "duration": 1334,
    "start_time": "2024-08-07T04:45:16.859Z"
   },
   {
    "duration": 13,
    "start_time": "2024-08-07T04:45:18.196Z"
   },
   {
    "duration": 17,
    "start_time": "2024-08-07T04:45:18.227Z"
   },
   {
    "duration": 13,
    "start_time": "2024-08-07T04:45:18.247Z"
   },
   {
    "duration": 11,
    "start_time": "2024-08-07T04:45:18.263Z"
   },
   {
    "duration": 59,
    "start_time": "2024-08-07T04:45:18.277Z"
   },
   {
    "duration": 3,
    "start_time": "2024-08-07T04:45:18.339Z"
   },
   {
    "duration": 19,
    "start_time": "2024-08-07T04:45:18.345Z"
   },
   {
    "duration": 76,
    "start_time": "2024-08-07T04:45:18.367Z"
   },
   {
    "duration": 36,
    "start_time": "2024-08-07T04:45:18.446Z"
   },
   {
    "duration": 1374,
    "start_time": "2024-08-07T04:45:18.485Z"
   },
   {
    "duration": 156,
    "start_time": "2024-08-07T04:45:19.862Z"
   },
   {
    "duration": 11,
    "start_time": "2024-08-07T04:45:20.021Z"
   },
   {
    "duration": 16,
    "start_time": "2024-08-07T04:45:20.035Z"
   },
   {
    "duration": 346,
    "start_time": "2024-08-07T04:45:20.054Z"
   },
   {
    "duration": 326,
    "start_time": "2024-08-07T04:45:20.403Z"
   },
   {
    "duration": 246,
    "start_time": "2024-08-07T04:45:20.732Z"
   },
   {
    "duration": 1881,
    "start_time": "2024-08-07T04:45:20.981Z"
   },
   {
    "duration": 506,
    "start_time": "2024-08-07T04:45:22.866Z"
   },
   {
    "duration": 269,
    "start_time": "2024-08-07T04:45:23.375Z"
   },
   {
    "duration": 1736,
    "start_time": "2024-08-07T04:45:23.648Z"
   },
   {
    "duration": 0,
    "start_time": "2024-08-07T04:45:25.387Z"
   },
   {
    "duration": 0,
    "start_time": "2024-08-07T04:45:25.389Z"
   },
   {
    "duration": 0,
    "start_time": "2024-08-07T04:45:25.391Z"
   },
   {
    "duration": 0,
    "start_time": "2024-08-07T04:45:25.393Z"
   },
   {
    "duration": 0,
    "start_time": "2024-08-07T04:45:25.395Z"
   },
   {
    "duration": 0,
    "start_time": "2024-08-07T04:45:25.397Z"
   },
   {
    "duration": 0,
    "start_time": "2024-08-07T04:45:25.398Z"
   },
   {
    "duration": 0,
    "start_time": "2024-08-07T04:45:25.400Z"
   },
   {
    "duration": 26,
    "start_time": "2024-08-07T04:45:38.912Z"
   },
   {
    "duration": 18,
    "start_time": "2024-08-07T04:46:05.714Z"
   },
   {
    "duration": 5,
    "start_time": "2024-08-07T04:46:31.290Z"
   },
   {
    "duration": 6,
    "start_time": "2024-08-07T04:46:38.580Z"
   },
   {
    "duration": 6,
    "start_time": "2024-08-07T04:46:46.299Z"
   },
   {
    "duration": 6,
    "start_time": "2024-08-07T04:46:50.232Z"
   },
   {
    "duration": 1840,
    "start_time": "2024-08-07T04:47:05.845Z"
   },
   {
    "duration": 43,
    "start_time": "2024-08-07T04:47:28.140Z"
   },
   {
    "duration": 751,
    "start_time": "2024-08-07T04:47:31.832Z"
   },
   {
    "duration": 10,
    "start_time": "2024-08-07T04:47:34.790Z"
   },
   {
    "duration": 766,
    "start_time": "2024-08-07T04:47:59.656Z"
   },
   {
    "duration": 858,
    "start_time": "2024-08-07T04:48:23.831Z"
   },
   {
    "duration": 87,
    "start_time": "2024-08-07T04:48:24.693Z"
   },
   {
    "duration": 23,
    "start_time": "2024-08-07T04:48:24.786Z"
   },
   {
    "duration": 23,
    "start_time": "2024-08-07T04:48:24.825Z"
   },
   {
    "duration": 2019,
    "start_time": "2024-08-07T04:48:24.851Z"
   },
   {
    "duration": 482,
    "start_time": "2024-08-07T04:48:26.873Z"
   },
   {
    "duration": 15,
    "start_time": "2024-08-07T04:48:27.357Z"
   },
   {
    "duration": 221,
    "start_time": "2024-08-07T04:48:27.375Z"
   },
   {
    "duration": 58,
    "start_time": "2024-08-07T04:48:27.599Z"
   },
   {
    "duration": 9,
    "start_time": "2024-08-07T04:48:27.662Z"
   },
   {
    "duration": 23,
    "start_time": "2024-08-07T04:48:27.674Z"
   },
   {
    "duration": 18,
    "start_time": "2024-08-07T04:48:27.728Z"
   },
   {
    "duration": 11,
    "start_time": "2024-08-07T04:48:27.749Z"
   },
   {
    "duration": 13,
    "start_time": "2024-08-07T04:48:27.763Z"
   },
   {
    "duration": 46,
    "start_time": "2024-08-07T04:48:27.780Z"
   },
   {
    "duration": 13,
    "start_time": "2024-08-07T04:48:27.830Z"
   },
   {
    "duration": 15,
    "start_time": "2024-08-07T04:48:27.845Z"
   },
   {
    "duration": 6,
    "start_time": "2024-08-07T04:48:27.863Z"
   },
   {
    "duration": 2918,
    "start_time": "2024-08-07T04:48:27.873Z"
   },
   {
    "duration": 1329,
    "start_time": "2024-08-07T04:48:30.793Z"
   },
   {
    "duration": 13,
    "start_time": "2024-08-07T04:48:32.127Z"
   },
   {
    "duration": 15,
    "start_time": "2024-08-07T04:48:32.143Z"
   },
   {
    "duration": 12,
    "start_time": "2024-08-07T04:48:32.162Z"
   },
   {
    "duration": 56,
    "start_time": "2024-08-07T04:48:32.177Z"
   },
   {
    "duration": 14,
    "start_time": "2024-08-07T04:48:32.235Z"
   },
   {
    "duration": 3,
    "start_time": "2024-08-07T04:48:32.252Z"
   },
   {
    "duration": 16,
    "start_time": "2024-08-07T04:48:32.259Z"
   },
   {
    "duration": 34,
    "start_time": "2024-08-07T04:48:32.327Z"
   },
   {
    "duration": 36,
    "start_time": "2024-08-07T04:48:32.363Z"
   },
   {
    "duration": 1356,
    "start_time": "2024-08-07T04:48:32.427Z"
   },
   {
    "duration": 136,
    "start_time": "2024-08-07T04:48:33.787Z"
   },
   {
    "duration": 11,
    "start_time": "2024-08-07T04:48:33.927Z"
   },
   {
    "duration": 15,
    "start_time": "2024-08-07T04:48:33.941Z"
   },
   {
    "duration": 347,
    "start_time": "2024-08-07T04:48:33.959Z"
   },
   {
    "duration": 321,
    "start_time": "2024-08-07T04:48:34.309Z"
   },
   {
    "duration": 248,
    "start_time": "2024-08-07T04:48:34.632Z"
   },
   {
    "duration": 1867,
    "start_time": "2024-08-07T04:48:34.883Z"
   },
   {
    "duration": 508,
    "start_time": "2024-08-07T04:48:36.754Z"
   },
   {
    "duration": 280,
    "start_time": "2024-08-07T04:48:37.265Z"
   },
   {
    "duration": 1869,
    "start_time": "2024-08-07T04:48:37.548Z"
   },
   {
    "duration": 774,
    "start_time": "2024-08-07T04:48:39.420Z"
   },
   {
    "duration": 8,
    "start_time": "2024-08-07T04:48:40.197Z"
   },
   {
    "duration": 1137,
    "start_time": "2024-08-07T04:48:40.209Z"
   },
   {
    "duration": 0,
    "start_time": "2024-08-07T04:48:41.349Z"
   },
   {
    "duration": 0,
    "start_time": "2024-08-07T04:48:41.352Z"
   },
   {
    "duration": 0,
    "start_time": "2024-08-07T04:48:41.354Z"
   },
   {
    "duration": 0,
    "start_time": "2024-08-07T04:48:41.356Z"
   },
   {
    "duration": 7,
    "start_time": "2024-08-07T04:49:28.310Z"
   },
   {
    "duration": 308,
    "start_time": "2024-08-07T04:52:06.267Z"
   },
   {
    "duration": 82,
    "start_time": "2024-08-07T04:53:12.957Z"
   },
   {
    "duration": 41,
    "start_time": "2024-08-07T04:54:05.194Z"
   },
   {
    "duration": 36,
    "start_time": "2024-08-07T04:55:32.169Z"
   },
   {
    "duration": 83,
    "start_time": "2024-08-07T04:55:41.018Z"
   },
   {
    "duration": 1516,
    "start_time": "2024-08-07T04:56:38.988Z"
   },
   {
    "duration": 1476,
    "start_time": "2024-08-07T04:57:08.052Z"
   },
   {
    "duration": 1332,
    "start_time": "2024-08-07T05:02:25.140Z"
   },
   {
    "duration": 20,
    "start_time": "2024-08-07T05:03:03.344Z"
   },
   {
    "duration": 8,
    "start_time": "2024-08-07T05:03:07.514Z"
   },
   {
    "duration": 43,
    "start_time": "2024-08-07T05:03:47.644Z"
   },
   {
    "duration": 763,
    "start_time": "2024-08-07T05:03:56.218Z"
   },
   {
    "duration": 755,
    "start_time": "2024-08-07T05:04:11.595Z"
   },
   {
    "duration": 9,
    "start_time": "2024-08-07T05:04:17.273Z"
   },
   {
    "duration": 23,
    "start_time": "2024-08-07T05:05:58.121Z"
   },
   {
    "duration": 22,
    "start_time": "2024-08-07T05:06:13.294Z"
   },
   {
    "duration": 1829,
    "start_time": "2024-08-07T05:06:29.206Z"
   },
   {
    "duration": 7,
    "start_time": "2024-08-07T05:06:36.716Z"
   },
   {
    "duration": 1699,
    "start_time": "2024-08-07T05:08:00.580Z"
   },
   {
    "duration": 303,
    "start_time": "2024-08-07T05:08:26.570Z"
   },
   {
    "duration": 20,
    "start_time": "2024-08-07T05:08:44.526Z"
   },
   {
    "duration": 887,
    "start_time": "2024-08-07T05:08:51.467Z"
   },
   {
    "duration": 107,
    "start_time": "2024-08-07T05:08:52.357Z"
   },
   {
    "duration": 24,
    "start_time": "2024-08-07T05:08:52.470Z"
   },
   {
    "duration": 37,
    "start_time": "2024-08-07T05:08:52.497Z"
   },
   {
    "duration": 2091,
    "start_time": "2024-08-07T05:08:52.539Z"
   },
   {
    "duration": 487,
    "start_time": "2024-08-07T05:08:54.633Z"
   },
   {
    "duration": 14,
    "start_time": "2024-08-07T05:08:55.122Z"
   },
   {
    "duration": 208,
    "start_time": "2024-08-07T05:08:55.139Z"
   },
   {
    "duration": 35,
    "start_time": "2024-08-07T05:08:55.351Z"
   },
   {
    "duration": 36,
    "start_time": "2024-08-07T05:08:55.389Z"
   },
   {
    "duration": 22,
    "start_time": "2024-08-07T05:08:55.428Z"
   },
   {
    "duration": 14,
    "start_time": "2024-08-07T05:08:55.453Z"
   },
   {
    "duration": 11,
    "start_time": "2024-08-07T05:08:55.470Z"
   },
   {
    "duration": 14,
    "start_time": "2024-08-07T05:08:55.525Z"
   },
   {
    "duration": 8,
    "start_time": "2024-08-07T05:08:55.541Z"
   },
   {
    "duration": 10,
    "start_time": "2024-08-07T05:08:55.551Z"
   },
   {
    "duration": 14,
    "start_time": "2024-08-07T05:08:55.564Z"
   },
   {
    "duration": 7,
    "start_time": "2024-08-07T05:08:55.625Z"
   },
   {
    "duration": 2894,
    "start_time": "2024-08-07T05:08:55.636Z"
   },
   {
    "duration": 1328,
    "start_time": "2024-08-07T05:08:58.534Z"
   },
   {
    "duration": 25,
    "start_time": "2024-08-07T05:08:59.869Z"
   },
   {
    "duration": 26,
    "start_time": "2024-08-07T05:08:59.902Z"
   },
   {
    "duration": 11,
    "start_time": "2024-08-07T05:08:59.931Z"
   },
   {
    "duration": 11,
    "start_time": "2024-08-07T05:08:59.945Z"
   },
   {
    "duration": 13,
    "start_time": "2024-08-07T05:08:59.960Z"
   },
   {
    "duration": 3,
    "start_time": "2024-08-07T05:08:59.979Z"
   },
   {
    "duration": 15,
    "start_time": "2024-08-07T05:09:00.026Z"
   },
   {
    "duration": 34,
    "start_time": "2024-08-07T05:09:00.044Z"
   },
   {
    "duration": 74,
    "start_time": "2024-08-07T05:09:00.082Z"
   },
   {
    "duration": 1368,
    "start_time": "2024-08-07T05:09:00.159Z"
   },
   {
    "duration": 140,
    "start_time": "2024-08-07T05:09:01.530Z"
   },
   {
    "duration": 10,
    "start_time": "2024-08-07T05:09:01.673Z"
   },
   {
    "duration": 16,
    "start_time": "2024-08-07T05:09:01.686Z"
   },
   {
    "duration": 341,
    "start_time": "2024-08-07T05:09:01.727Z"
   },
   {
    "duration": 330,
    "start_time": "2024-08-07T05:09:02.071Z"
   },
   {
    "duration": 249,
    "start_time": "2024-08-07T05:09:02.404Z"
   },
   {
    "duration": 1894,
    "start_time": "2024-08-07T05:09:02.656Z"
   },
   {
    "duration": 511,
    "start_time": "2024-08-07T05:09:04.553Z"
   },
   {
    "duration": 271,
    "start_time": "2024-08-07T05:09:05.066Z"
   },
   {
    "duration": 786,
    "start_time": "2024-08-07T05:09:05.340Z"
   },
   {
    "duration": 762,
    "start_time": "2024-08-07T05:09:06.135Z"
   },
   {
    "duration": 9,
    "start_time": "2024-08-07T05:09:06.900Z"
   },
   {
    "duration": 4701,
    "start_time": "2024-08-07T05:09:06.928Z"
   },
   {
    "duration": 6,
    "start_time": "2024-08-07T05:09:11.632Z"
   },
   {
    "duration": 796,
    "start_time": "2024-08-07T05:09:11.641Z"
   },
   {
    "duration": 7,
    "start_time": "2024-08-07T05:09:12.440Z"
   },
   {
    "duration": 8,
    "start_time": "2024-08-07T05:09:12.450Z"
   },
   {
    "duration": 768,
    "start_time": "2024-08-07T05:10:14.662Z"
   },
   {
    "duration": 5,
    "start_time": "2024-08-07T05:10:16.508Z"
   },
   {
    "duration": 7,
    "start_time": "2024-08-07T05:11:31.436Z"
   },
   {
    "duration": 64,
    "start_time": "2024-08-07T05:24:42.571Z"
   },
   {
    "duration": 6,
    "start_time": "2024-08-07T05:24:50.961Z"
   },
   {
    "duration": 9,
    "start_time": "2024-08-07T05:25:11.685Z"
   },
   {
    "duration": 9,
    "start_time": "2024-08-07T05:25:35.224Z"
   },
   {
    "duration": 9,
    "start_time": "2024-08-07T05:25:38.684Z"
   },
   {
    "duration": 832,
    "start_time": "2024-08-07T05:25:50.055Z"
   },
   {
    "duration": 92,
    "start_time": "2024-08-07T05:25:50.890Z"
   },
   {
    "duration": 25,
    "start_time": "2024-08-07T05:25:50.985Z"
   },
   {
    "duration": 24,
    "start_time": "2024-08-07T05:25:51.027Z"
   },
   {
    "duration": 2029,
    "start_time": "2024-08-07T05:25:51.054Z"
   },
   {
    "duration": 472,
    "start_time": "2024-08-07T05:25:53.087Z"
   },
   {
    "duration": 15,
    "start_time": "2024-08-07T05:25:53.562Z"
   },
   {
    "duration": 207,
    "start_time": "2024-08-07T05:25:53.580Z"
   },
   {
    "duration": 51,
    "start_time": "2024-08-07T05:25:53.790Z"
   },
   {
    "duration": 9,
    "start_time": "2024-08-07T05:25:53.846Z"
   },
   {
    "duration": 22,
    "start_time": "2024-08-07T05:25:53.858Z"
   },
   {
    "duration": 49,
    "start_time": "2024-08-07T05:25:53.883Z"
   },
   {
    "duration": 13,
    "start_time": "2024-08-07T05:25:53.935Z"
   },
   {
    "duration": 13,
    "start_time": "2024-08-07T05:25:53.952Z"
   },
   {
    "duration": 7,
    "start_time": "2024-08-07T05:25:53.968Z"
   },
   {
    "duration": 50,
    "start_time": "2024-08-07T05:25:53.979Z"
   },
   {
    "duration": 14,
    "start_time": "2024-08-07T05:25:54.031Z"
   },
   {
    "duration": 6,
    "start_time": "2024-08-07T05:25:54.048Z"
   },
   {
    "duration": 2869,
    "start_time": "2024-08-07T05:25:54.057Z"
   },
   {
    "duration": 1329,
    "start_time": "2024-08-07T05:25:56.929Z"
   },
   {
    "duration": 15,
    "start_time": "2024-08-07T05:25:58.262Z"
   },
   {
    "duration": 15,
    "start_time": "2024-08-07T05:25:58.280Z"
   },
   {
    "duration": 39,
    "start_time": "2024-08-07T05:25:58.297Z"
   },
   {
    "duration": 11,
    "start_time": "2024-08-07T05:25:58.339Z"
   },
   {
    "duration": 14,
    "start_time": "2024-08-07T05:25:58.353Z"
   },
   {
    "duration": 4,
    "start_time": "2024-08-07T05:25:58.369Z"
   },
   {
    "duration": 65,
    "start_time": "2024-08-07T05:25:58.376Z"
   },
   {
    "duration": 35,
    "start_time": "2024-08-07T05:25:58.450Z"
   },
   {
    "duration": 66,
    "start_time": "2024-08-07T05:25:58.488Z"
   },
   {
    "duration": 8,
    "start_time": "2024-08-07T05:25:58.557Z"
   },
   {
    "duration": 0,
    "start_time": "2024-08-07T05:25:58.568Z"
   },
   {
    "duration": 0,
    "start_time": "2024-08-07T05:25:58.570Z"
   },
   {
    "duration": 0,
    "start_time": "2024-08-07T05:25:58.573Z"
   },
   {
    "duration": 0,
    "start_time": "2024-08-07T05:25:58.576Z"
   },
   {
    "duration": 0,
    "start_time": "2024-08-07T05:25:58.580Z"
   },
   {
    "duration": 0,
    "start_time": "2024-08-07T05:25:58.582Z"
   },
   {
    "duration": 0,
    "start_time": "2024-08-07T05:25:58.626Z"
   },
   {
    "duration": 0,
    "start_time": "2024-08-07T05:25:58.628Z"
   },
   {
    "duration": 0,
    "start_time": "2024-08-07T05:25:58.630Z"
   },
   {
    "duration": 0,
    "start_time": "2024-08-07T05:25:58.632Z"
   },
   {
    "duration": 0,
    "start_time": "2024-08-07T05:25:58.634Z"
   },
   {
    "duration": 0,
    "start_time": "2024-08-07T05:25:58.636Z"
   },
   {
    "duration": 0,
    "start_time": "2024-08-07T05:25:58.638Z"
   },
   {
    "duration": 0,
    "start_time": "2024-08-07T05:25:58.640Z"
   },
   {
    "duration": 0,
    "start_time": "2024-08-07T05:25:58.643Z"
   },
   {
    "duration": 0,
    "start_time": "2024-08-07T05:25:58.645Z"
   },
   {
    "duration": 0,
    "start_time": "2024-08-07T05:25:58.647Z"
   },
   {
    "duration": 434,
    "start_time": "2024-08-07T05:30:51.995Z"
   },
   {
    "duration": 20,
    "start_time": "2024-08-07T05:31:08.378Z"
   },
   {
    "duration": 17,
    "start_time": "2024-08-07T05:31:13.128Z"
   },
   {
    "duration": 843,
    "start_time": "2024-08-07T05:31:25.844Z"
   },
   {
    "duration": 100,
    "start_time": "2024-08-07T05:31:26.691Z"
   },
   {
    "duration": 22,
    "start_time": "2024-08-07T05:31:26.794Z"
   },
   {
    "duration": 24,
    "start_time": "2024-08-07T05:31:26.828Z"
   },
   {
    "duration": 2057,
    "start_time": "2024-08-07T05:31:26.855Z"
   },
   {
    "duration": 478,
    "start_time": "2024-08-07T05:31:28.915Z"
   },
   {
    "duration": 16,
    "start_time": "2024-08-07T05:31:29.396Z"
   },
   {
    "duration": 199,
    "start_time": "2024-08-07T05:31:29.427Z"
   },
   {
    "duration": 34,
    "start_time": "2024-08-07T05:31:29.629Z"
   },
   {
    "duration": 9,
    "start_time": "2024-08-07T05:31:29.669Z"
   },
   {
    "duration": 55,
    "start_time": "2024-08-07T05:31:29.681Z"
   },
   {
    "duration": 16,
    "start_time": "2024-08-07T05:31:29.739Z"
   },
   {
    "duration": 12,
    "start_time": "2024-08-07T05:31:29.757Z"
   },
   {
    "duration": 14,
    "start_time": "2024-08-07T05:31:29.772Z"
   },
   {
    "duration": 40,
    "start_time": "2024-08-07T05:31:29.789Z"
   },
   {
    "duration": 10,
    "start_time": "2024-08-07T05:31:29.832Z"
   },
   {
    "duration": 18,
    "start_time": "2024-08-07T05:31:29.844Z"
   },
   {
    "duration": 10,
    "start_time": "2024-08-07T05:31:29.866Z"
   },
   {
    "duration": 2842,
    "start_time": "2024-08-07T05:31:29.925Z"
   },
   {
    "duration": 1321,
    "start_time": "2024-08-07T05:31:32.770Z"
   },
   {
    "duration": 13,
    "start_time": "2024-08-07T05:31:34.094Z"
   },
   {
    "duration": 18,
    "start_time": "2024-08-07T05:31:34.126Z"
   },
   {
    "duration": 13,
    "start_time": "2024-08-07T05:31:34.149Z"
   },
   {
    "duration": 11,
    "start_time": "2024-08-07T05:31:34.166Z"
   },
   {
    "duration": 54,
    "start_time": "2024-08-07T05:31:34.181Z"
   },
   {
    "duration": 4,
    "start_time": "2024-08-07T05:31:34.239Z"
   },
   {
    "duration": 16,
    "start_time": "2024-08-07T05:31:34.246Z"
   },
   {
    "duration": 80,
    "start_time": "2024-08-07T05:31:34.269Z"
   },
   {
    "duration": 36,
    "start_time": "2024-08-07T05:31:34.352Z"
   },
   {
    "duration": 35,
    "start_time": "2024-08-07T05:31:34.391Z"
   },
   {
    "duration": 0,
    "start_time": "2024-08-07T05:31:34.429Z"
   },
   {
    "duration": 0,
    "start_time": "2024-08-07T05:31:34.432Z"
   },
   {
    "duration": 0,
    "start_time": "2024-08-07T05:31:34.435Z"
   },
   {
    "duration": 0,
    "start_time": "2024-08-07T05:31:34.438Z"
   },
   {
    "duration": 0,
    "start_time": "2024-08-07T05:31:34.440Z"
   },
   {
    "duration": 0,
    "start_time": "2024-08-07T05:31:34.442Z"
   },
   {
    "duration": 0,
    "start_time": "2024-08-07T05:31:34.444Z"
   },
   {
    "duration": 0,
    "start_time": "2024-08-07T05:31:34.446Z"
   },
   {
    "duration": 0,
    "start_time": "2024-08-07T05:31:34.448Z"
   },
   {
    "duration": 0,
    "start_time": "2024-08-07T05:31:34.458Z"
   },
   {
    "duration": 0,
    "start_time": "2024-08-07T05:31:34.461Z"
   },
   {
    "duration": 0,
    "start_time": "2024-08-07T05:31:34.464Z"
   },
   {
    "duration": 0,
    "start_time": "2024-08-07T05:31:34.466Z"
   },
   {
    "duration": 0,
    "start_time": "2024-08-07T05:31:34.468Z"
   },
   {
    "duration": 0,
    "start_time": "2024-08-07T05:31:34.470Z"
   },
   {
    "duration": 0,
    "start_time": "2024-08-07T05:31:34.472Z"
   },
   {
    "duration": 0,
    "start_time": "2024-08-07T05:31:34.475Z"
   },
   {
    "duration": 1368,
    "start_time": "2024-08-07T05:33:56.328Z"
   },
   {
    "duration": 767,
    "start_time": "2024-08-07T05:35:35.138Z"
   },
   {
    "duration": 1046,
    "start_time": "2024-08-07T05:35:43.319Z"
   },
   {
    "duration": 1090,
    "start_time": "2024-08-07T05:38:29.326Z"
   },
   {
    "duration": 473,
    "start_time": "2024-08-07T05:39:14.911Z"
   },
   {
    "duration": 1160,
    "start_time": "2024-08-07T05:39:38.404Z"
   },
   {
    "duration": 698,
    "start_time": "2024-08-07T05:39:52.781Z"
   },
   {
    "duration": 1018,
    "start_time": "2024-08-07T05:40:05.894Z"
   },
   {
    "duration": 312,
    "start_time": "2024-08-07T05:41:50.185Z"
   },
   {
    "duration": 304,
    "start_time": "2024-08-07T05:41:53.626Z"
   },
   {
    "duration": 294,
    "start_time": "2024-08-07T05:44:54.017Z"
   },
   {
    "duration": 1619,
    "start_time": "2024-08-07T05:45:41.414Z"
   },
   {
    "duration": 306,
    "start_time": "2024-08-07T05:46:45.646Z"
   },
   {
    "duration": 682,
    "start_time": "2024-08-07T05:46:56.046Z"
   },
   {
    "duration": 304,
    "start_time": "2024-08-07T05:47:05.100Z"
   },
   {
    "duration": 8,
    "start_time": "2024-08-07T05:47:53.597Z"
   },
   {
    "duration": 12,
    "start_time": "2024-08-09T06:59:01.713Z"
   },
   {
    "duration": 981,
    "start_time": "2024-08-09T18:22:46.993Z"
   },
   {
    "duration": 127,
    "start_time": "2024-08-09T18:22:47.979Z"
   },
   {
    "duration": 38,
    "start_time": "2024-08-09T18:22:48.114Z"
   },
   {
    "duration": 28,
    "start_time": "2024-08-09T18:22:48.155Z"
   },
   {
    "duration": 2274,
    "start_time": "2024-08-09T18:22:48.204Z"
   },
   {
    "duration": 547,
    "start_time": "2024-08-09T18:22:50.481Z"
   },
   {
    "duration": 16,
    "start_time": "2024-08-09T18:22:51.032Z"
   },
   {
    "duration": 222,
    "start_time": "2024-08-09T18:22:51.051Z"
   },
   {
    "duration": 52,
    "start_time": "2024-08-09T18:22:51.276Z"
   },
   {
    "duration": 10,
    "start_time": "2024-08-09T18:22:51.336Z"
   },
   {
    "duration": 26,
    "start_time": "2024-08-09T18:22:51.349Z"
   },
   {
    "duration": 59,
    "start_time": "2024-08-09T18:22:51.379Z"
   },
   {
    "duration": 19,
    "start_time": "2024-08-09T18:22:51.441Z"
   },
   {
    "duration": 15,
    "start_time": "2024-08-09T18:22:51.470Z"
   },
   {
    "duration": 7,
    "start_time": "2024-08-09T18:22:51.502Z"
   },
   {
    "duration": 15,
    "start_time": "2024-08-09T18:22:51.514Z"
   },
   {
    "duration": 16,
    "start_time": "2024-08-09T18:22:51.535Z"
   },
   {
    "duration": 6,
    "start_time": "2024-08-09T18:22:51.555Z"
   },
   {
    "duration": 3152,
    "start_time": "2024-08-09T18:22:51.602Z"
   },
   {
    "duration": 1415,
    "start_time": "2024-08-09T18:22:54.757Z"
   },
   {
    "duration": 30,
    "start_time": "2024-08-09T18:22:56.175Z"
   },
   {
    "duration": 25,
    "start_time": "2024-08-09T18:22:56.207Z"
   },
   {
    "duration": 13,
    "start_time": "2024-08-09T18:22:56.234Z"
   },
   {
    "duration": 14,
    "start_time": "2024-08-09T18:22:56.251Z"
   },
   {
    "duration": 54,
    "start_time": "2024-08-09T18:22:56.267Z"
   },
   {
    "duration": 14,
    "start_time": "2024-08-09T18:22:56.323Z"
   },
   {
    "duration": 35,
    "start_time": "2024-08-09T18:22:56.340Z"
   },
   {
    "duration": 54,
    "start_time": "2024-08-09T18:22:56.378Z"
   },
   {
    "duration": 39,
    "start_time": "2024-08-09T18:22:56.435Z"
   },
   {
    "duration": 5539,
    "start_time": "2024-08-09T18:22:56.478Z"
   },
   {
    "duration": 155,
    "start_time": "2024-08-09T18:23:02.020Z"
   },
   {
    "duration": 24,
    "start_time": "2024-08-09T18:23:02.179Z"
   },
   {
    "duration": 21,
    "start_time": "2024-08-09T18:23:02.206Z"
   },
   {
    "duration": 360,
    "start_time": "2024-08-09T18:23:02.229Z"
   },
   {
    "duration": 352,
    "start_time": "2024-08-09T18:23:02.593Z"
   },
   {
    "duration": 338,
    "start_time": "2024-08-09T18:23:02.948Z"
   },
   {
    "duration": 258,
    "start_time": "2024-08-09T18:23:03.305Z"
   },
   {
    "duration": 841,
    "start_time": "2024-08-10T00:05:30.109Z"
   },
   {
    "duration": 108,
    "start_time": "2024-08-10T00:05:30.954Z"
   },
   {
    "duration": 24,
    "start_time": "2024-08-10T00:05:31.065Z"
   },
   {
    "duration": 24,
    "start_time": "2024-08-10T00:05:31.093Z"
   },
   {
    "duration": 2130,
    "start_time": "2024-08-10T00:05:31.132Z"
   },
   {
    "duration": 442,
    "start_time": "2024-08-10T00:05:33.265Z"
   },
   {
    "duration": 27,
    "start_time": "2024-08-10T00:05:33.710Z"
   },
   {
    "duration": 174,
    "start_time": "2024-08-10T00:05:33.740Z"
   },
   {
    "duration": 40,
    "start_time": "2024-08-10T00:05:33.917Z"
   },
   {
    "duration": 9,
    "start_time": "2024-08-10T00:05:33.963Z"
   },
   {
    "duration": 394,
    "start_time": "2024-08-10T00:05:33.975Z"
   },
   {
    "duration": 0,
    "start_time": "2024-08-10T00:05:34.373Z"
   },
   {
    "duration": 0,
    "start_time": "2024-08-10T00:05:34.374Z"
   },
   {
    "duration": 0,
    "start_time": "2024-08-10T00:05:34.376Z"
   },
   {
    "duration": 0,
    "start_time": "2024-08-10T00:05:34.378Z"
   },
   {
    "duration": 0,
    "start_time": "2024-08-10T00:05:34.381Z"
   },
   {
    "duration": 0,
    "start_time": "2024-08-10T00:05:34.384Z"
   },
   {
    "duration": 0,
    "start_time": "2024-08-10T00:05:34.387Z"
   },
   {
    "duration": 0,
    "start_time": "2024-08-10T00:05:34.389Z"
   },
   {
    "duration": 0,
    "start_time": "2024-08-10T00:05:34.392Z"
   },
   {
    "duration": 0,
    "start_time": "2024-08-10T00:05:34.393Z"
   },
   {
    "duration": 0,
    "start_time": "2024-08-10T00:05:34.396Z"
   },
   {
    "duration": 0,
    "start_time": "2024-08-10T00:05:34.431Z"
   },
   {
    "duration": 0,
    "start_time": "2024-08-10T00:05:34.432Z"
   },
   {
    "duration": 0,
    "start_time": "2024-08-10T00:05:34.435Z"
   },
   {
    "duration": 0,
    "start_time": "2024-08-10T00:05:34.438Z"
   },
   {
    "duration": 0,
    "start_time": "2024-08-10T00:05:34.440Z"
   },
   {
    "duration": 0,
    "start_time": "2024-08-10T00:05:34.446Z"
   },
   {
    "duration": 0,
    "start_time": "2024-08-10T00:05:34.448Z"
   },
   {
    "duration": 0,
    "start_time": "2024-08-10T00:05:34.450Z"
   },
   {
    "duration": 0,
    "start_time": "2024-08-10T00:05:34.452Z"
   },
   {
    "duration": 0,
    "start_time": "2024-08-10T00:05:34.454Z"
   },
   {
    "duration": 0,
    "start_time": "2024-08-10T00:05:34.456Z"
   },
   {
    "duration": 0,
    "start_time": "2024-08-10T00:05:34.459Z"
   },
   {
    "duration": 0,
    "start_time": "2024-08-10T00:05:34.461Z"
   },
   {
    "duration": 0,
    "start_time": "2024-08-10T00:05:34.462Z"
   },
   {
    "duration": 0,
    "start_time": "2024-08-10T00:05:34.465Z"
   },
   {
    "duration": 0,
    "start_time": "2024-08-10T00:05:34.467Z"
   },
   {
    "duration": 0,
    "start_time": "2024-08-10T00:05:34.470Z"
   },
   {
    "duration": 0,
    "start_time": "2024-08-10T00:05:34.531Z"
   },
   {
    "duration": 0,
    "start_time": "2024-08-10T00:05:34.533Z"
   },
   {
    "duration": 0,
    "start_time": "2024-08-10T00:05:34.536Z"
   },
   {
    "duration": 0,
    "start_time": "2024-08-10T00:05:34.539Z"
   },
   {
    "duration": 0,
    "start_time": "2024-08-10T00:05:34.541Z"
   },
   {
    "duration": 0,
    "start_time": "2024-08-10T00:05:34.543Z"
   },
   {
    "duration": 0,
    "start_time": "2024-08-10T00:05:34.546Z"
   },
   {
    "duration": 1,
    "start_time": "2024-08-10T00:05:34.548Z"
   },
   {
    "duration": 7,
    "start_time": "2024-08-10T00:06:18.227Z"
   },
   {
    "duration": 24,
    "start_time": "2024-08-10T00:06:25.681Z"
   },
   {
    "duration": 19,
    "start_time": "2024-08-10T00:06:50.316Z"
   },
   {
    "duration": 49,
    "start_time": "2024-08-10T00:09:57.458Z"
   },
   {
    "duration": 31,
    "start_time": "2024-08-10T00:11:33.682Z"
   },
   {
    "duration": 19,
    "start_time": "2024-08-10T00:11:49.243Z"
   },
   {
    "duration": 20,
    "start_time": "2024-08-10T00:12:01.858Z"
   },
   {
    "duration": 661,
    "start_time": "2024-08-10T00:13:15.171Z"
   },
   {
    "duration": 38,
    "start_time": "2024-08-10T00:13:23.741Z"
   },
   {
    "duration": 18,
    "start_time": "2024-08-10T00:13:52.511Z"
   },
   {
    "duration": 21,
    "start_time": "2024-08-10T00:14:30.376Z"
   },
   {
    "duration": 60,
    "start_time": "2024-08-10T00:14:59.897Z"
   },
   {
    "duration": 10,
    "start_time": "2024-08-10T00:15:01.187Z"
   },
   {
    "duration": 60,
    "start_time": "2024-08-10T00:15:42.832Z"
   },
   {
    "duration": 89,
    "start_time": "2024-08-10T00:17:00.118Z"
   },
   {
    "duration": 35,
    "start_time": "2024-08-10T00:17:16.275Z"
   },
   {
    "duration": 696,
    "start_time": "2024-08-10T00:17:57.251Z"
   },
   {
    "duration": 116,
    "start_time": "2024-08-10T00:18:09.532Z"
   },
   {
    "duration": 106,
    "start_time": "2024-08-10T00:18:19.089Z"
   },
   {
    "duration": 353,
    "start_time": "2024-08-10T00:18:24.003Z"
   },
   {
    "duration": 90,
    "start_time": "2024-08-10T00:18:24.360Z"
   },
   {
    "duration": 24,
    "start_time": "2024-08-10T00:18:24.453Z"
   },
   {
    "duration": 47,
    "start_time": "2024-08-10T00:18:24.483Z"
   },
   {
    "duration": 1993,
    "start_time": "2024-08-10T00:18:24.534Z"
   },
   {
    "duration": 415,
    "start_time": "2024-08-10T00:18:26.532Z"
   },
   {
    "duration": 14,
    "start_time": "2024-08-10T00:18:26.950Z"
   },
   {
    "duration": 173,
    "start_time": "2024-08-10T00:18:26.967Z"
   },
   {
    "duration": 29,
    "start_time": "2024-08-10T00:18:27.143Z"
   },
   {
    "duration": 8,
    "start_time": "2024-08-10T00:18:27.179Z"
   },
   {
    "duration": 50,
    "start_time": "2024-08-10T00:18:27.190Z"
   },
   {
    "duration": 104,
    "start_time": "2024-08-10T00:18:27.243Z"
   },
   {
    "duration": 39,
    "start_time": "2024-08-10T00:18:27.350Z"
   },
   {
    "duration": 137,
    "start_time": "2024-08-10T00:18:27.395Z"
   },
   {
    "duration": 0,
    "start_time": "2024-08-10T00:18:27.537Z"
   },
   {
    "duration": 0,
    "start_time": "2024-08-10T00:18:27.539Z"
   },
   {
    "duration": 0,
    "start_time": "2024-08-10T00:18:27.541Z"
   },
   {
    "duration": 0,
    "start_time": "2024-08-10T00:18:27.543Z"
   },
   {
    "duration": 0,
    "start_time": "2024-08-10T00:18:27.546Z"
   },
   {
    "duration": 0,
    "start_time": "2024-08-10T00:18:27.548Z"
   },
   {
    "duration": 1,
    "start_time": "2024-08-10T00:18:27.550Z"
   },
   {
    "duration": 0,
    "start_time": "2024-08-10T00:18:27.553Z"
   },
   {
    "duration": 0,
    "start_time": "2024-08-10T00:18:27.555Z"
   },
   {
    "duration": 0,
    "start_time": "2024-08-10T00:18:27.557Z"
   },
   {
    "duration": 1,
    "start_time": "2024-08-10T00:18:27.558Z"
   },
   {
    "duration": 0,
    "start_time": "2024-08-10T00:18:27.561Z"
   },
   {
    "duration": 0,
    "start_time": "2024-08-10T00:18:27.564Z"
   },
   {
    "duration": 0,
    "start_time": "2024-08-10T00:18:27.567Z"
   },
   {
    "duration": 0,
    "start_time": "2024-08-10T00:18:27.569Z"
   },
   {
    "duration": 0,
    "start_time": "2024-08-10T00:18:27.571Z"
   },
   {
    "duration": 0,
    "start_time": "2024-08-10T00:18:27.572Z"
   },
   {
    "duration": 0,
    "start_time": "2024-08-10T00:18:27.573Z"
   },
   {
    "duration": 0,
    "start_time": "2024-08-10T00:18:27.631Z"
   },
   {
    "duration": 0,
    "start_time": "2024-08-10T00:18:27.634Z"
   },
   {
    "duration": 0,
    "start_time": "2024-08-10T00:18:27.636Z"
   },
   {
    "duration": 0,
    "start_time": "2024-08-10T00:18:27.637Z"
   },
   {
    "duration": 0,
    "start_time": "2024-08-10T00:18:27.639Z"
   },
   {
    "duration": 0,
    "start_time": "2024-08-10T00:18:27.641Z"
   },
   {
    "duration": 0,
    "start_time": "2024-08-10T00:18:27.643Z"
   },
   {
    "duration": 0,
    "start_time": "2024-08-10T00:18:27.646Z"
   },
   {
    "duration": 0,
    "start_time": "2024-08-10T00:18:27.648Z"
   },
   {
    "duration": 0,
    "start_time": "2024-08-10T00:18:27.650Z"
   },
   {
    "duration": 0,
    "start_time": "2024-08-10T00:18:27.654Z"
   },
   {
    "duration": 0,
    "start_time": "2024-08-10T00:18:27.656Z"
   },
   {
    "duration": 0,
    "start_time": "2024-08-10T00:18:27.658Z"
   },
   {
    "duration": 0,
    "start_time": "2024-08-10T00:18:27.660Z"
   },
   {
    "duration": 0,
    "start_time": "2024-08-10T00:18:27.662Z"
   },
   {
    "duration": 13,
    "start_time": "2024-08-10T00:19:20.011Z"
   },
   {
    "duration": 37,
    "start_time": "2024-08-10T00:21:17.394Z"
   },
   {
    "duration": 33,
    "start_time": "2024-08-10T00:21:40.597Z"
   },
   {
    "duration": 35,
    "start_time": "2024-08-10T00:21:52.138Z"
   },
   {
    "duration": 34,
    "start_time": "2024-08-10T00:23:31.427Z"
   },
   {
    "duration": 33,
    "start_time": "2024-08-10T00:25:14.913Z"
   },
   {
    "duration": 1123,
    "start_time": "2024-08-10T00:27:25.679Z"
   },
   {
    "duration": 43,
    "start_time": "2024-08-10T00:29:20.122Z"
   },
   {
    "duration": 40,
    "start_time": "2024-08-10T00:29:30.890Z"
   },
   {
    "duration": 909,
    "start_time": "2024-08-10T01:10:08.722Z"
   },
   {
    "duration": 107,
    "start_time": "2024-08-10T01:10:09.635Z"
   },
   {
    "duration": 25,
    "start_time": "2024-08-10T01:10:09.746Z"
   },
   {
    "duration": 24,
    "start_time": "2024-08-10T01:10:09.775Z"
   },
   {
    "duration": 2151,
    "start_time": "2024-08-10T01:10:09.802Z"
   },
   {
    "duration": 496,
    "start_time": "2024-08-10T01:10:11.956Z"
   },
   {
    "duration": 15,
    "start_time": "2024-08-10T01:10:12.455Z"
   },
   {
    "duration": 209,
    "start_time": "2024-08-10T01:10:12.473Z"
   },
   {
    "duration": 45,
    "start_time": "2024-08-10T01:10:12.685Z"
   },
   {
    "duration": 10,
    "start_time": "2024-08-10T01:10:12.737Z"
   },
   {
    "duration": 23,
    "start_time": "2024-08-10T01:10:12.751Z"
   },
   {
    "duration": 120,
    "start_time": "2024-08-10T01:10:12.777Z"
   },
   {
    "duration": 63,
    "start_time": "2024-08-10T01:10:12.901Z"
   },
   {
    "duration": 13,
    "start_time": "2024-08-10T01:10:12.967Z"
   },
   {
    "duration": 7,
    "start_time": "2024-08-10T01:10:12.983Z"
   },
   {
    "duration": 46,
    "start_time": "2024-08-10T01:10:12.994Z"
   },
   {
    "duration": 15,
    "start_time": "2024-08-10T01:10:13.043Z"
   },
   {
    "duration": 6,
    "start_time": "2024-08-10T01:10:13.061Z"
   },
   {
    "duration": 2836,
    "start_time": "2024-08-10T01:10:13.071Z"
   },
   {
    "duration": 1310,
    "start_time": "2024-08-10T01:10:15.910Z"
   },
   {
    "duration": 13,
    "start_time": "2024-08-10T01:10:17.230Z"
   },
   {
    "duration": 15,
    "start_time": "2024-08-10T01:10:17.246Z"
   },
   {
    "duration": 13,
    "start_time": "2024-08-10T01:10:17.264Z"
   },
   {
    "duration": 11,
    "start_time": "2024-08-10T01:10:17.281Z"
   },
   {
    "duration": 14,
    "start_time": "2024-08-10T01:10:17.332Z"
   },
   {
    "duration": 4,
    "start_time": "2024-08-10T01:10:17.349Z"
   },
   {
    "duration": 15,
    "start_time": "2024-08-10T01:10:17.357Z"
   },
   {
    "duration": 79,
    "start_time": "2024-08-10T01:10:17.380Z"
   },
   {
    "duration": 36,
    "start_time": "2024-08-10T01:10:17.462Z"
   },
   {
    "duration": 4930,
    "start_time": "2024-08-10T01:10:17.500Z"
   },
   {
    "duration": 139,
    "start_time": "2024-08-10T01:10:22.435Z"
   },
   {
    "duration": 11,
    "start_time": "2024-08-10T01:10:22.577Z"
   },
   {
    "duration": 41,
    "start_time": "2024-08-10T01:10:22.590Z"
   },
   {
    "duration": 327,
    "start_time": "2024-08-10T01:10:22.635Z"
   },
   {
    "duration": 340,
    "start_time": "2024-08-10T01:10:22.965Z"
   },
   {
    "duration": 313,
    "start_time": "2024-08-10T01:10:23.308Z"
   },
   {
    "duration": 303,
    "start_time": "2024-08-10T01:10:23.632Z"
   },
   {
    "duration": 1053,
    "start_time": "2024-08-10T01:10:23.938Z"
   },
   {
    "duration": 0,
    "start_time": "2024-08-10T01:10:24.994Z"
   },
   {
    "duration": 0,
    "start_time": "2024-08-10T01:10:24.996Z"
   },
   {
    "duration": 0,
    "start_time": "2024-08-10T01:10:24.998Z"
   },
   {
    "duration": 0,
    "start_time": "2024-08-10T01:10:25.001Z"
   },
   {
    "duration": 0,
    "start_time": "2024-08-10T01:10:25.002Z"
   },
   {
    "duration": 0,
    "start_time": "2024-08-10T01:10:25.004Z"
   },
   {
    "duration": 0,
    "start_time": "2024-08-10T01:10:25.007Z"
   },
   {
    "duration": 0,
    "start_time": "2024-08-10T01:10:25.031Z"
   },
   {
    "duration": 0,
    "start_time": "2024-08-10T01:10:25.033Z"
   },
   {
    "duration": 70,
    "start_time": "2024-08-10T01:12:58.300Z"
   },
   {
    "duration": 69,
    "start_time": "2024-08-10T01:13:30.727Z"
   },
   {
    "duration": 96,
    "start_time": "2024-08-10T01:14:16.956Z"
   },
   {
    "duration": 40,
    "start_time": "2024-08-10T01:14:29.609Z"
   },
   {
    "duration": 62,
    "start_time": "2024-08-10T01:14:43.440Z"
   },
   {
    "duration": 44,
    "start_time": "2024-08-10T01:14:51.112Z"
   },
   {
    "duration": 72,
    "start_time": "2024-08-10T01:17:54.539Z"
   },
   {
    "duration": 39,
    "start_time": "2024-08-10T01:18:09.958Z"
   },
   {
    "duration": 75,
    "start_time": "2024-08-10T01:19:29.910Z"
   },
   {
    "duration": 74,
    "start_time": "2024-08-10T01:19:57.100Z"
   },
   {
    "duration": 10,
    "start_time": "2024-08-10T01:20:03.389Z"
   },
   {
    "duration": 61,
    "start_time": "2024-08-10T01:20:09.522Z"
   },
   {
    "duration": 79,
    "start_time": "2024-08-10T01:20:20.573Z"
   },
   {
    "duration": 6,
    "start_time": "2024-08-10T01:20:31.336Z"
   },
   {
    "duration": 72,
    "start_time": "2024-08-10T01:20:48.751Z"
   },
   {
    "duration": 112,
    "start_time": "2024-08-10T01:21:08.681Z"
   },
   {
    "duration": 126,
    "start_time": "2024-08-10T01:21:11.696Z"
   },
   {
    "duration": 109,
    "start_time": "2024-08-10T01:22:16.728Z"
   },
   {
    "duration": 153,
    "start_time": "2024-08-10T01:22:27.927Z"
   },
   {
    "duration": 113,
    "start_time": "2024-08-10T01:22:51.782Z"
   },
   {
    "duration": 40,
    "start_time": "2024-08-10T01:23:23.923Z"
   },
   {
    "duration": 305,
    "start_time": "2024-08-10T21:36:29.560Z"
   },
   {
    "duration": 23,
    "start_time": "2024-08-10T21:36:36.931Z"
   },
   {
    "duration": 23,
    "start_time": "2024-08-10T21:37:18.942Z"
   },
   {
    "duration": 825,
    "start_time": "2024-08-10T21:37:24.897Z"
   },
   {
    "duration": 121,
    "start_time": "2024-08-10T21:37:25.732Z"
   },
   {
    "duration": 25,
    "start_time": "2024-08-10T21:37:25.856Z"
   },
   {
    "duration": 26,
    "start_time": "2024-08-10T21:37:25.885Z"
   },
   {
    "duration": 2085,
    "start_time": "2024-08-10T21:37:25.913Z"
   },
   {
    "duration": 422,
    "start_time": "2024-08-10T21:37:28.002Z"
   },
   {
    "duration": 17,
    "start_time": "2024-08-10T21:37:28.431Z"
   },
   {
    "duration": 184,
    "start_time": "2024-08-10T21:37:28.451Z"
   },
   {
    "duration": 33,
    "start_time": "2024-08-10T21:37:28.639Z"
   },
   {
    "duration": 10,
    "start_time": "2024-08-10T21:37:28.678Z"
   },
   {
    "duration": 54,
    "start_time": "2024-08-10T21:37:28.691Z"
   },
   {
    "duration": 106,
    "start_time": "2024-08-10T21:37:28.748Z"
   },
   {
    "duration": 106,
    "start_time": "2024-08-10T21:37:28.857Z"
   },
   {
    "duration": 13,
    "start_time": "2024-08-10T21:37:28.966Z"
   },
   {
    "duration": 7,
    "start_time": "2024-08-10T21:37:28.982Z"
   },
   {
    "duration": 43,
    "start_time": "2024-08-10T21:37:28.992Z"
   },
   {
    "duration": 19,
    "start_time": "2024-08-10T21:37:29.038Z"
   },
   {
    "duration": 7,
    "start_time": "2024-08-10T21:37:29.063Z"
   },
   {
    "duration": 2675,
    "start_time": "2024-08-10T21:37:29.073Z"
   },
   {
    "duration": 1272,
    "start_time": "2024-08-10T21:37:31.754Z"
   },
   {
    "duration": 16,
    "start_time": "2024-08-10T21:37:33.030Z"
   },
   {
    "duration": 15,
    "start_time": "2024-08-10T21:37:33.049Z"
   },
   {
    "duration": 13,
    "start_time": "2024-08-10T21:37:33.067Z"
   },
   {
    "duration": 49,
    "start_time": "2024-08-10T21:37:33.083Z"
   },
   {
    "duration": 17,
    "start_time": "2024-08-10T21:37:33.135Z"
   },
   {
    "duration": 4,
    "start_time": "2024-08-10T21:37:33.155Z"
   },
   {
    "duration": 17,
    "start_time": "2024-08-10T21:37:33.162Z"
   },
   {
    "duration": 35,
    "start_time": "2024-08-10T21:37:33.237Z"
   },
   {
    "duration": 56,
    "start_time": "2024-08-10T21:37:33.275Z"
   },
   {
    "duration": 4924,
    "start_time": "2024-08-10T21:37:33.334Z"
   },
   {
    "duration": 153,
    "start_time": "2024-08-10T21:37:38.261Z"
   },
   {
    "duration": 17,
    "start_time": "2024-08-10T21:37:38.418Z"
   },
   {
    "duration": 16,
    "start_time": "2024-08-10T21:37:38.438Z"
   },
   {
    "duration": 333,
    "start_time": "2024-08-10T21:37:38.457Z"
   },
   {
    "duration": 324,
    "start_time": "2024-08-10T21:37:38.794Z"
   },
   {
    "duration": 335,
    "start_time": "2024-08-10T21:37:39.121Z"
   },
   {
    "duration": 247,
    "start_time": "2024-08-10T21:37:39.459Z"
   },
   {
    "duration": 782,
    "start_time": "2024-08-10T21:37:39.709Z"
   },
   {
    "duration": 0,
    "start_time": "2024-08-10T21:37:40.494Z"
   },
   {
    "duration": 0,
    "start_time": "2024-08-10T21:37:40.496Z"
   },
   {
    "duration": 0,
    "start_time": "2024-08-10T21:37:40.498Z"
   },
   {
    "duration": 0,
    "start_time": "2024-08-10T21:37:40.501Z"
   },
   {
    "duration": 0,
    "start_time": "2024-08-10T21:37:40.503Z"
   },
   {
    "duration": 0,
    "start_time": "2024-08-10T21:37:40.506Z"
   },
   {
    "duration": 0,
    "start_time": "2024-08-10T21:37:40.507Z"
   },
   {
    "duration": 0,
    "start_time": "2024-08-10T21:37:40.509Z"
   },
   {
    "duration": 0,
    "start_time": "2024-08-10T21:37:40.530Z"
   },
   {
    "duration": 107,
    "start_time": "2024-08-10T21:39:02.824Z"
   },
   {
    "duration": 332,
    "start_time": "2024-08-12T03:18:16.510Z"
   },
   {
    "duration": 955,
    "start_time": "2024-08-12T03:18:24.814Z"
   },
   {
    "duration": 118,
    "start_time": "2024-08-12T03:18:25.774Z"
   },
   {
    "duration": 27,
    "start_time": "2024-08-12T03:18:25.896Z"
   },
   {
    "duration": 29,
    "start_time": "2024-08-12T03:18:25.926Z"
   },
   {
    "duration": 2321,
    "start_time": "2024-08-12T03:18:25.959Z"
   },
   {
    "duration": 611,
    "start_time": "2024-08-12T03:18:28.283Z"
   },
   {
    "duration": 33,
    "start_time": "2024-08-12T03:18:28.897Z"
   },
   {
    "duration": 217,
    "start_time": "2024-08-12T03:18:28.933Z"
   },
   {
    "duration": 37,
    "start_time": "2024-08-12T03:18:29.153Z"
   },
   {
    "duration": 10,
    "start_time": "2024-08-12T03:18:29.207Z"
   },
   {
    "duration": 25,
    "start_time": "2024-08-12T03:18:29.221Z"
   },
   {
    "duration": 127,
    "start_time": "2024-08-12T03:18:29.249Z"
   },
   {
    "duration": 93,
    "start_time": "2024-08-12T03:18:29.379Z"
   },
   {
    "duration": 29,
    "start_time": "2024-08-12T03:18:29.480Z"
   },
   {
    "duration": 8,
    "start_time": "2024-08-12T03:18:29.512Z"
   },
   {
    "duration": 13,
    "start_time": "2024-08-12T03:18:29.523Z"
   },
   {
    "duration": 17,
    "start_time": "2024-08-12T03:18:29.539Z"
   },
   {
    "duration": 7,
    "start_time": "2024-08-12T03:18:29.607Z"
   },
   {
    "duration": 3105,
    "start_time": "2024-08-12T03:18:29.617Z"
   },
   {
    "duration": 1542,
    "start_time": "2024-08-12T03:18:32.725Z"
   },
   {
    "duration": 14,
    "start_time": "2024-08-12T03:18:34.271Z"
   },
   {
    "duration": 19,
    "start_time": "2024-08-12T03:18:34.308Z"
   },
   {
    "duration": 13,
    "start_time": "2024-08-12T03:18:34.331Z"
   },
   {
    "duration": 12,
    "start_time": "2024-08-12T03:18:34.348Z"
   },
   {
    "duration": 56,
    "start_time": "2024-08-12T03:18:34.364Z"
   },
   {
    "duration": 4,
    "start_time": "2024-08-12T03:18:34.424Z"
   },
   {
    "duration": 18,
    "start_time": "2024-08-12T03:18:34.431Z"
   },
   {
    "duration": 91,
    "start_time": "2024-08-12T03:18:34.452Z"
   },
   {
    "duration": 63,
    "start_time": "2024-08-12T03:18:34.547Z"
   },
   {
    "duration": 5180,
    "start_time": "2024-08-12T03:18:34.613Z"
   },
   {
    "duration": 170,
    "start_time": "2024-08-12T03:18:39.796Z"
   },
   {
    "duration": 10,
    "start_time": "2024-08-12T03:18:39.970Z"
   },
   {
    "duration": 33,
    "start_time": "2024-08-12T03:18:39.983Z"
   },
   {
    "duration": 351,
    "start_time": "2024-08-12T03:18:40.019Z"
   },
   {
    "duration": 371,
    "start_time": "2024-08-12T03:18:40.373Z"
   },
   {
    "duration": 334,
    "start_time": "2024-08-12T03:18:40.747Z"
   },
   {
    "duration": 251,
    "start_time": "2024-08-12T03:18:41.084Z"
   },
   {
    "duration": 828,
    "start_time": "2024-08-12T03:18:41.338Z"
   },
   {
    "duration": 0,
    "start_time": "2024-08-12T03:18:42.169Z"
   },
   {
    "duration": 0,
    "start_time": "2024-08-12T03:18:42.172Z"
   },
   {
    "duration": 0,
    "start_time": "2024-08-12T03:18:42.175Z"
   },
   {
    "duration": 0,
    "start_time": "2024-08-12T03:18:42.178Z"
   },
   {
    "duration": 0,
    "start_time": "2024-08-12T03:18:42.181Z"
   },
   {
    "duration": 0,
    "start_time": "2024-08-12T03:18:42.184Z"
   },
   {
    "duration": 0,
    "start_time": "2024-08-12T03:18:42.206Z"
   },
   {
    "duration": 0,
    "start_time": "2024-08-12T03:18:42.209Z"
   },
   {
    "duration": 0,
    "start_time": "2024-08-12T03:18:42.212Z"
   },
   {
    "duration": 343,
    "start_time": "2024-08-13T00:56:29.059Z"
   },
   {
    "duration": 881,
    "start_time": "2024-08-13T00:56:37.118Z"
   },
   {
    "duration": 113,
    "start_time": "2024-08-13T00:56:38.003Z"
   },
   {
    "duration": 25,
    "start_time": "2024-08-13T00:56:38.119Z"
   },
   {
    "duration": 26,
    "start_time": "2024-08-13T00:56:38.147Z"
   },
   {
    "duration": 2245,
    "start_time": "2024-08-13T00:56:38.178Z"
   },
   {
    "duration": 521,
    "start_time": "2024-08-13T00:56:40.426Z"
   },
   {
    "duration": 15,
    "start_time": "2024-08-13T00:56:40.952Z"
   },
   {
    "duration": 226,
    "start_time": "2024-08-13T00:56:40.969Z"
   },
   {
    "duration": 51,
    "start_time": "2024-08-13T00:56:41.198Z"
   },
   {
    "duration": 10,
    "start_time": "2024-08-13T00:56:41.252Z"
   },
   {
    "duration": 23,
    "start_time": "2024-08-13T00:56:41.264Z"
   },
   {
    "duration": 118,
    "start_time": "2024-08-13T00:56:41.291Z"
   },
   {
    "duration": 53,
    "start_time": "2024-08-13T00:56:41.412Z"
   },
   {
    "duration": 19,
    "start_time": "2024-08-13T00:56:41.472Z"
   },
   {
    "duration": 40,
    "start_time": "2024-08-13T00:56:41.494Z"
   },
   {
    "duration": 11,
    "start_time": "2024-08-13T00:56:41.537Z"
   },
   {
    "duration": 17,
    "start_time": "2024-08-13T00:56:41.551Z"
   },
   {
    "duration": 7,
    "start_time": "2024-08-13T00:56:41.570Z"
   },
   {
    "duration": 2864,
    "start_time": "2024-08-13T00:56:41.580Z"
   },
   {
    "duration": 1336,
    "start_time": "2024-08-13T00:56:44.448Z"
   },
   {
    "duration": 14,
    "start_time": "2024-08-13T00:56:45.787Z"
   },
   {
    "duration": 36,
    "start_time": "2024-08-13T00:56:45.805Z"
   },
   {
    "duration": 14,
    "start_time": "2024-08-13T00:56:45.844Z"
   },
   {
    "duration": 11,
    "start_time": "2024-08-13T00:56:45.861Z"
   },
   {
    "duration": 60,
    "start_time": "2024-08-13T00:56:45.875Z"
   },
   {
    "duration": 4,
    "start_time": "2024-08-13T00:56:45.939Z"
   },
   {
    "duration": 21,
    "start_time": "2024-08-13T00:56:45.947Z"
   },
   {
    "duration": 76,
    "start_time": "2024-08-13T00:56:45.972Z"
   },
   {
    "duration": 37,
    "start_time": "2024-08-13T00:56:46.051Z"
   },
   {
    "duration": 5206,
    "start_time": "2024-08-13T00:56:46.091Z"
   },
   {
    "duration": 138,
    "start_time": "2024-08-13T00:56:51.300Z"
   },
   {
    "duration": 11,
    "start_time": "2024-08-13T00:56:51.441Z"
   },
   {
    "duration": 16,
    "start_time": "2024-08-13T00:56:51.455Z"
   },
   {
    "duration": 360,
    "start_time": "2024-08-13T00:56:51.474Z"
   },
   {
    "duration": 314,
    "start_time": "2024-08-13T00:56:51.837Z"
   },
   {
    "duration": 315,
    "start_time": "2024-08-13T00:56:52.153Z"
   },
   {
    "duration": 243,
    "start_time": "2024-08-13T00:56:52.471Z"
   },
   {
    "duration": 797,
    "start_time": "2024-08-13T00:56:52.717Z"
   },
   {
    "duration": 0,
    "start_time": "2024-08-13T00:56:53.517Z"
   },
   {
    "duration": 0,
    "start_time": "2024-08-13T00:56:53.518Z"
   },
   {
    "duration": 1,
    "start_time": "2024-08-13T00:56:53.533Z"
   },
   {
    "duration": 0,
    "start_time": "2024-08-13T00:56:53.535Z"
   },
   {
    "duration": 0,
    "start_time": "2024-08-13T00:56:53.537Z"
   },
   {
    "duration": 0,
    "start_time": "2024-08-13T00:56:53.539Z"
   },
   {
    "duration": 0,
    "start_time": "2024-08-13T00:56:53.541Z"
   },
   {
    "duration": 0,
    "start_time": "2024-08-13T00:56:53.544Z"
   },
   {
    "duration": 0,
    "start_time": "2024-08-13T00:56:53.546Z"
   },
   {
    "duration": 39,
    "start_time": "2024-08-13T00:56:54.356Z"
   },
   {
    "duration": 40,
    "start_time": "2024-08-13T00:57:27.909Z"
   },
   {
    "duration": 44,
    "start_time": "2024-08-13T00:57:51.113Z"
   },
   {
    "duration": 41,
    "start_time": "2024-08-13T00:58:05.472Z"
   },
   {
    "duration": 44,
    "start_time": "2024-08-13T00:58:12.653Z"
   },
   {
    "duration": 63,
    "start_time": "2024-08-13T00:58:51.215Z"
   },
   {
    "duration": 50,
    "start_time": "2024-08-13T00:59:47.373Z"
   },
   {
    "duration": 46,
    "start_time": "2024-08-13T01:00:04.699Z"
   },
   {
    "duration": 43,
    "start_time": "2024-08-13T01:00:55.568Z"
   },
   {
    "duration": 381,
    "start_time": "2024-08-13T01:03:28.267Z"
   },
   {
    "duration": 114,
    "start_time": "2024-08-13T01:03:28.653Z"
   },
   {
    "duration": 33,
    "start_time": "2024-08-13T01:03:28.770Z"
   },
   {
    "duration": 53,
    "start_time": "2024-08-13T01:03:28.808Z"
   },
   {
    "duration": 2564,
    "start_time": "2024-08-13T01:03:28.864Z"
   },
   {
    "duration": 476,
    "start_time": "2024-08-13T01:03:31.430Z"
   },
   {
    "duration": 27,
    "start_time": "2024-08-13T01:03:31.910Z"
   },
   {
    "duration": 178,
    "start_time": "2024-08-13T01:03:31.940Z"
   },
   {
    "duration": 38,
    "start_time": "2024-08-13T01:03:32.121Z"
   },
   {
    "duration": 9,
    "start_time": "2024-08-13T01:03:32.165Z"
   },
   {
    "duration": 24,
    "start_time": "2024-08-13T01:03:32.177Z"
   },
   {
    "duration": 130,
    "start_time": "2024-08-13T01:03:32.204Z"
   },
   {
    "duration": 48,
    "start_time": "2024-08-13T01:03:32.337Z"
   },
   {
    "duration": 13,
    "start_time": "2024-08-13T01:03:32.387Z"
   },
   {
    "duration": 33,
    "start_time": "2024-08-13T01:03:32.403Z"
   },
   {
    "duration": 12,
    "start_time": "2024-08-13T01:03:32.439Z"
   },
   {
    "duration": 14,
    "start_time": "2024-08-13T01:03:32.454Z"
   },
   {
    "duration": 7,
    "start_time": "2024-08-13T01:03:32.471Z"
   },
   {
    "duration": 2985,
    "start_time": "2024-08-13T01:03:32.481Z"
   },
   {
    "duration": 1377,
    "start_time": "2024-08-13T01:03:35.469Z"
   },
   {
    "duration": 15,
    "start_time": "2024-08-13T01:03:36.849Z"
   },
   {
    "duration": 16,
    "start_time": "2024-08-13T01:03:36.867Z"
   },
   {
    "duration": 13,
    "start_time": "2024-08-13T01:03:36.886Z"
   },
   {
    "duration": 12,
    "start_time": "2024-08-13T01:03:36.935Z"
   },
   {
    "duration": 14,
    "start_time": "2024-08-13T01:03:36.949Z"
   },
   {
    "duration": 3,
    "start_time": "2024-08-13T01:03:36.966Z"
   },
   {
    "duration": 64,
    "start_time": "2024-08-13T01:03:36.972Z"
   },
   {
    "duration": 33,
    "start_time": "2024-08-13T01:03:37.045Z"
   },
   {
    "duration": 62,
    "start_time": "2024-08-13T01:03:37.081Z"
   },
   {
    "duration": 1151,
    "start_time": "2024-08-13T01:03:37.146Z"
   },
   {
    "duration": 149,
    "start_time": "2024-08-13T01:03:38.300Z"
   },
   {
    "duration": 11,
    "start_time": "2024-08-13T01:03:38.453Z"
   },
   {
    "duration": 16,
    "start_time": "2024-08-13T01:03:38.467Z"
   },
   {
    "duration": 385,
    "start_time": "2024-08-13T01:03:38.485Z"
   },
   {
    "duration": 380,
    "start_time": "2024-08-13T01:03:38.873Z"
   },
   {
    "duration": 381,
    "start_time": "2024-08-13T01:03:39.256Z"
   },
   {
    "duration": 255,
    "start_time": "2024-08-13T01:03:39.641Z"
   },
   {
    "duration": 131,
    "start_time": "2024-08-13T01:03:39.899Z"
   },
   {
    "duration": 0,
    "start_time": "2024-08-13T01:03:40.033Z"
   },
   {
    "duration": 0,
    "start_time": "2024-08-13T01:03:40.034Z"
   },
   {
    "duration": 0,
    "start_time": "2024-08-13T01:03:40.036Z"
   },
   {
    "duration": 0,
    "start_time": "2024-08-13T01:03:40.039Z"
   },
   {
    "duration": 0,
    "start_time": "2024-08-13T01:03:40.041Z"
   },
   {
    "duration": 0,
    "start_time": "2024-08-13T01:03:40.043Z"
   },
   {
    "duration": 0,
    "start_time": "2024-08-13T01:03:40.044Z"
   },
   {
    "duration": 0,
    "start_time": "2024-08-13T01:03:40.046Z"
   },
   {
    "duration": 0,
    "start_time": "2024-08-13T01:03:40.047Z"
   },
   {
    "duration": 354,
    "start_time": "2024-08-13T01:05:37.929Z"
   },
   {
    "duration": 91,
    "start_time": "2024-08-13T01:05:38.286Z"
   },
   {
    "duration": 27,
    "start_time": "2024-08-13T01:05:38.381Z"
   },
   {
    "duration": 40,
    "start_time": "2024-08-13T01:05:38.413Z"
   },
   {
    "duration": 2271,
    "start_time": "2024-08-13T01:05:38.457Z"
   },
   {
    "duration": 433,
    "start_time": "2024-08-13T01:05:40.734Z"
   },
   {
    "duration": 13,
    "start_time": "2024-08-13T01:05:41.170Z"
   },
   {
    "duration": 178,
    "start_time": "2024-08-13T01:05:41.185Z"
   },
   {
    "duration": 31,
    "start_time": "2024-08-13T01:05:41.367Z"
   },
   {
    "duration": 32,
    "start_time": "2024-08-13T01:05:41.405Z"
   },
   {
    "duration": 24,
    "start_time": "2024-08-13T01:05:41.440Z"
   },
   {
    "duration": 105,
    "start_time": "2024-08-13T01:05:41.467Z"
   },
   {
    "duration": 74,
    "start_time": "2024-08-13T01:05:41.575Z"
   },
   {
    "duration": 16,
    "start_time": "2024-08-13T01:05:41.652Z"
   },
   {
    "duration": 7,
    "start_time": "2024-08-13T01:05:41.671Z"
   },
   {
    "duration": 12,
    "start_time": "2024-08-13T01:05:41.681Z"
   },
   {
    "duration": 51,
    "start_time": "2024-08-13T01:05:41.696Z"
   },
   {
    "duration": 7,
    "start_time": "2024-08-13T01:05:41.750Z"
   },
   {
    "duration": 2790,
    "start_time": "2024-08-13T01:05:41.760Z"
   },
   {
    "duration": 1394,
    "start_time": "2024-08-13T01:05:44.553Z"
   },
   {
    "duration": 19,
    "start_time": "2024-08-13T01:05:45.950Z"
   },
   {
    "duration": 23,
    "start_time": "2024-08-13T01:05:45.973Z"
   },
   {
    "duration": 48,
    "start_time": "2024-08-13T01:05:45.999Z"
   },
   {
    "duration": 14,
    "start_time": "2024-08-13T01:05:46.050Z"
   },
   {
    "duration": 16,
    "start_time": "2024-08-13T01:05:46.068Z"
   },
   {
    "duration": 4,
    "start_time": "2024-08-13T01:05:46.086Z"
   },
   {
    "duration": 20,
    "start_time": "2024-08-13T01:05:46.136Z"
   },
   {
    "duration": 33,
    "start_time": "2024-08-13T01:05:46.165Z"
   },
   {
    "duration": 45,
    "start_time": "2024-08-13T01:05:46.235Z"
   },
   {
    "duration": 1199,
    "start_time": "2024-08-13T01:05:46.284Z"
   },
   {
    "duration": 140,
    "start_time": "2024-08-13T01:05:47.485Z"
   },
   {
    "duration": 14,
    "start_time": "2024-08-13T01:05:47.628Z"
   },
   {
    "duration": 16,
    "start_time": "2024-08-13T01:05:47.645Z"
   },
   {
    "duration": 389,
    "start_time": "2024-08-13T01:05:47.663Z"
   },
   {
    "duration": 342,
    "start_time": "2024-08-13T01:05:48.058Z"
   },
   {
    "duration": 594,
    "start_time": "2024-08-13T01:05:48.404Z"
   },
   {
    "duration": 372,
    "start_time": "2024-08-13T01:05:49.002Z"
   },
   {
    "duration": 178,
    "start_time": "2024-08-13T01:05:49.377Z"
   },
   {
    "duration": 0,
    "start_time": "2024-08-13T01:05:49.559Z"
   },
   {
    "duration": 0,
    "start_time": "2024-08-13T01:05:49.562Z"
   },
   {
    "duration": 0,
    "start_time": "2024-08-13T01:05:49.564Z"
   },
   {
    "duration": 0,
    "start_time": "2024-08-13T01:05:49.567Z"
   },
   {
    "duration": 0,
    "start_time": "2024-08-13T01:05:49.569Z"
   },
   {
    "duration": 0,
    "start_time": "2024-08-13T01:05:49.571Z"
   },
   {
    "duration": 0,
    "start_time": "2024-08-13T01:05:49.580Z"
   },
   {
    "duration": 0,
    "start_time": "2024-08-13T01:05:49.584Z"
   },
   {
    "duration": 0,
    "start_time": "2024-08-13T01:05:49.586Z"
   },
   {
    "duration": 111,
    "start_time": "2024-08-13T01:10:45.946Z"
   },
   {
    "duration": 356,
    "start_time": "2024-08-13T01:11:46.851Z"
   },
   {
    "duration": 92,
    "start_time": "2024-08-13T01:11:47.211Z"
   },
   {
    "duration": 36,
    "start_time": "2024-08-13T01:11:47.306Z"
   },
   {
    "duration": 25,
    "start_time": "2024-08-13T01:11:47.345Z"
   },
   {
    "duration": 2063,
    "start_time": "2024-08-13T01:11:47.375Z"
   },
   {
    "duration": 487,
    "start_time": "2024-08-13T01:11:49.443Z"
   },
   {
    "duration": 14,
    "start_time": "2024-08-13T01:11:49.933Z"
   },
   {
    "duration": 206,
    "start_time": "2024-08-13T01:11:49.950Z"
   },
   {
    "duration": 30,
    "start_time": "2024-08-13T01:11:50.159Z"
   },
   {
    "duration": 9,
    "start_time": "2024-08-13T01:11:50.192Z"
   },
   {
    "duration": 28,
    "start_time": "2024-08-13T01:11:50.236Z"
   },
   {
    "duration": 115,
    "start_time": "2024-08-13T01:11:50.267Z"
   },
   {
    "duration": 76,
    "start_time": "2024-08-13T01:11:50.385Z"
   },
   {
    "duration": 21,
    "start_time": "2024-08-13T01:11:50.469Z"
   },
   {
    "duration": 7,
    "start_time": "2024-08-13T01:11:50.494Z"
   },
   {
    "duration": 42,
    "start_time": "2024-08-13T01:11:50.504Z"
   },
   {
    "duration": 16,
    "start_time": "2024-08-13T01:11:50.554Z"
   },
   {
    "duration": 6,
    "start_time": "2024-08-13T01:11:50.574Z"
   },
   {
    "duration": 2915,
    "start_time": "2024-08-13T01:11:50.583Z"
   },
   {
    "duration": 1424,
    "start_time": "2024-08-13T01:11:53.501Z"
   },
   {
    "duration": 15,
    "start_time": "2024-08-13T01:11:54.933Z"
   },
   {
    "duration": 16,
    "start_time": "2024-08-13T01:11:54.950Z"
   },
   {
    "duration": 13,
    "start_time": "2024-08-13T01:11:54.970Z"
   },
   {
    "duration": 49,
    "start_time": "2024-08-13T01:11:54.987Z"
   },
   {
    "duration": 15,
    "start_time": "2024-08-13T01:11:55.039Z"
   },
   {
    "duration": 3,
    "start_time": "2024-08-13T01:11:55.057Z"
   },
   {
    "duration": 16,
    "start_time": "2024-08-13T01:11:55.064Z"
   },
   {
    "duration": 77,
    "start_time": "2024-08-13T01:11:55.083Z"
   },
   {
    "duration": 34,
    "start_time": "2024-08-13T01:11:55.162Z"
   },
   {
    "duration": 1117,
    "start_time": "2024-08-13T01:11:55.199Z"
   },
   {
    "duration": 144,
    "start_time": "2024-08-13T01:11:56.318Z"
   },
   {
    "duration": 11,
    "start_time": "2024-08-13T01:11:56.465Z"
   },
   {
    "duration": 15,
    "start_time": "2024-08-13T01:11:56.479Z"
   },
   {
    "duration": 355,
    "start_time": "2024-08-13T01:11:56.497Z"
   },
   {
    "duration": 324,
    "start_time": "2024-08-13T01:11:56.858Z"
   },
   {
    "duration": 318,
    "start_time": "2024-08-13T01:11:57.186Z"
   },
   {
    "duration": 246,
    "start_time": "2024-08-13T01:11:57.507Z"
   },
   {
    "duration": 117,
    "start_time": "2024-08-13T01:11:57.756Z"
   },
   {
    "duration": 0,
    "start_time": "2024-08-13T01:11:57.877Z"
   },
   {
    "duration": 0,
    "start_time": "2024-08-13T01:11:57.879Z"
   },
   {
    "duration": 0,
    "start_time": "2024-08-13T01:11:57.881Z"
   },
   {
    "duration": 0,
    "start_time": "2024-08-13T01:11:57.884Z"
   },
   {
    "duration": 0,
    "start_time": "2024-08-13T01:11:57.886Z"
   },
   {
    "duration": 0,
    "start_time": "2024-08-13T01:11:57.888Z"
   },
   {
    "duration": 0,
    "start_time": "2024-08-13T01:11:57.890Z"
   },
   {
    "duration": 0,
    "start_time": "2024-08-13T01:11:57.892Z"
   },
   {
    "duration": 0,
    "start_time": "2024-08-13T01:11:57.894Z"
   },
   {
    "duration": 213,
    "start_time": "2024-08-13T01:12:45.521Z"
   },
   {
    "duration": 2370,
    "start_time": "2024-08-13T01:13:46.157Z"
   },
   {
    "duration": 2500,
    "start_time": "2024-08-13T01:14:04.248Z"
   },
   {
    "duration": 380,
    "start_time": "2024-08-13T01:14:09.457Z"
   },
   {
    "duration": 106,
    "start_time": "2024-08-13T01:14:09.841Z"
   },
   {
    "duration": 30,
    "start_time": "2024-08-13T01:14:09.954Z"
   },
   {
    "duration": 25,
    "start_time": "2024-08-13T01:14:09.989Z"
   },
   {
    "duration": 2077,
    "start_time": "2024-08-13T01:14:10.018Z"
   },
   {
    "duration": 415,
    "start_time": "2024-08-13T01:14:12.098Z"
   },
   {
    "duration": 26,
    "start_time": "2024-08-13T01:14:12.517Z"
   },
   {
    "duration": 170,
    "start_time": "2024-08-13T01:14:12.546Z"
   },
   {
    "duration": 36,
    "start_time": "2024-08-13T01:14:12.720Z"
   },
   {
    "duration": 9,
    "start_time": "2024-08-13T01:14:12.761Z"
   },
   {
    "duration": 35,
    "start_time": "2024-08-13T01:14:12.773Z"
   },
   {
    "duration": 106,
    "start_time": "2024-08-13T01:14:12.811Z"
   },
   {
    "duration": 49,
    "start_time": "2024-08-13T01:14:12.935Z"
   },
   {
    "duration": 14,
    "start_time": "2024-08-13T01:14:12.987Z"
   },
   {
    "duration": 32,
    "start_time": "2024-08-13T01:14:13.005Z"
   },
   {
    "duration": 13,
    "start_time": "2024-08-13T01:14:13.040Z"
   },
   {
    "duration": 13,
    "start_time": "2024-08-13T01:14:13.056Z"
   },
   {
    "duration": 7,
    "start_time": "2024-08-13T01:14:13.072Z"
   },
   {
    "duration": 2867,
    "start_time": "2024-08-13T01:14:13.082Z"
   },
   {
    "duration": 1338,
    "start_time": "2024-08-13T01:14:15.956Z"
   },
   {
    "duration": 16,
    "start_time": "2024-08-13T01:14:17.297Z"
   },
   {
    "duration": 16,
    "start_time": "2024-08-13T01:14:17.335Z"
   },
   {
    "duration": 15,
    "start_time": "2024-08-13T01:14:17.355Z"
   },
   {
    "duration": 11,
    "start_time": "2024-08-13T01:14:17.375Z"
   },
   {
    "duration": 54,
    "start_time": "2024-08-13T01:14:17.389Z"
   },
   {
    "duration": 3,
    "start_time": "2024-08-13T01:14:17.446Z"
   },
   {
    "duration": 20,
    "start_time": "2024-08-13T01:14:17.452Z"
   },
   {
    "duration": 77,
    "start_time": "2024-08-13T01:14:17.482Z"
   },
   {
    "duration": 34,
    "start_time": "2024-08-13T01:14:17.562Z"
   },
   {
    "duration": 1077,
    "start_time": "2024-08-13T01:14:17.600Z"
   },
   {
    "duration": 158,
    "start_time": "2024-08-13T01:14:18.680Z"
   },
   {
    "duration": 14,
    "start_time": "2024-08-13T01:14:18.841Z"
   },
   {
    "duration": 18,
    "start_time": "2024-08-13T01:14:18.858Z"
   },
   {
    "duration": 394,
    "start_time": "2024-08-13T01:14:18.882Z"
   },
   {
    "duration": 365,
    "start_time": "2024-08-13T01:14:19.280Z"
   },
   {
    "duration": 360,
    "start_time": "2024-08-13T01:14:19.648Z"
   },
   {
    "duration": 294,
    "start_time": "2024-08-13T01:14:20.012Z"
   },
   {
    "duration": 2605,
    "start_time": "2024-08-13T01:14:20.310Z"
   },
   {
    "duration": 497,
    "start_time": "2024-08-13T01:14:22.918Z"
   },
   {
    "duration": 283,
    "start_time": "2024-08-13T01:14:23.419Z"
   },
   {
    "duration": 851,
    "start_time": "2024-08-13T01:14:23.706Z"
   },
   {
    "duration": 837,
    "start_time": "2024-08-13T01:14:24.563Z"
   },
   {
    "duration": 8,
    "start_time": "2024-08-13T01:14:25.404Z"
   },
   {
    "duration": 4804,
    "start_time": "2024-08-13T01:14:25.416Z"
   },
   {
    "duration": 10,
    "start_time": "2024-08-13T01:14:30.226Z"
   },
   {
    "duration": 847,
    "start_time": "2024-08-13T01:14:30.241Z"
   },
   {
    "duration": 7,
    "start_time": "2024-08-13T01:14:31.091Z"
   },
   {
    "duration": 59,
    "start_time": "2024-08-13T01:14:58.644Z"
   },
   {
    "duration": 16,
    "start_time": "2024-08-13T01:16:02.506Z"
   },
   {
    "duration": 18,
    "start_time": "2024-08-13T01:16:36.046Z"
   },
   {
    "duration": 17,
    "start_time": "2024-08-13T01:16:48.998Z"
   },
   {
    "duration": 18,
    "start_time": "2024-08-13T01:16:59.619Z"
   },
   {
    "duration": 13,
    "start_time": "2024-08-15T00:25:16.805Z"
   }
  ],
  "colab": {
   "provenance": []
  },
  "kernelspec": {
   "display_name": "Python 3 (ipykernel)",
   "language": "python",
   "name": "python3"
  },
  "language_info": {
   "codemirror_mode": {
    "name": "ipython",
    "version": 3
   },
   "file_extension": ".py",
   "mimetype": "text/x-python",
   "name": "python",
   "nbconvert_exporter": "python",
   "pygments_lexer": "ipython3",
   "version": "3.9.19"
  },
  "toc": {
   "base_numbering": 1,
   "nav_menu": {},
   "number_sections": true,
   "sideBar": true,
   "skip_h1_title": true,
   "title_cell": "Table of Contents",
   "title_sidebar": "Contents",
   "toc_cell": false,
   "toc_position": {},
   "toc_section_display": true,
   "toc_window_display": false
  },
  "vscode": {
   "interpreter": {
    "hash": "01a7be9ec63e704a62cefc5fe7a4756944464ee731be31632bdf42a4cb4688cf"
   }
  }
 },
 "nbformat": 4,
 "nbformat_minor": 5
}
